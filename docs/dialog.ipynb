{
 "cells": [
  {
   "cell_type": "code",
   "execution_count": null,
   "metadata": {
    "dotnet_interactive": {
     "language": "fsharp"
    },
    "polyglot_notebook": {
     "kernelName": "fsharp"
    }
   },
   "outputs": [],
   "source": [
    "#i \"nuget: /home/peter/work/FsChat/nuget.local\"\n",
    "#r \"nuget: FsChat.Interactive, 0.0.1\"\n",
    "\n",
    "#r \"nuget: dotenv.net, 3.2.0\"\n",
    "open dotenv.net\n",
    "let options = DotEnvOptions(envFilePaths=[| \".env\" |])\n",
    "DotEnv.Load(options)\n",
    "open FsChat"
   ]
  },
  {
   "cell_type": "code",
   "execution_count": null,
   "metadata": {
    "dotnet_interactive": {
     "language": "fsharp"
    },
    "polyglot_notebook": {
     "kernelName": "fsharp"
    }
   },
   "outputs": [],
   "source": [
    "let style = \"\"\"<style>\n",
    "    .chat-bubble {\n",
    "        display: flex;\n",
    "        flex-direction: column;\n",
    "        width: 100%;\n",
    "        max-width: 400px;\n",
    "        margin: 0 auto;\n",
    "    }\n",
    "    .chat-bubble>p {\n",
    "        max-width: 70%;\n",
    "        padding: 10px 15px;\n",
    "        margin: 10px;\n",
    "        border-radius: 15px;\n",
    "        position: relative;\n",
    "        word-wrap: break-word;\n",
    "    }\n",
    "    .chat-bubble.left>p {\n",
    "        align-self: flex-start;\n",
    "        background-color: #e1bee7;\n",
    "        border: 2px solid #ce93d8;\n",
    "        color: #6a1b9a;\n",
    "    }\n",
    "    .chat-bubble.right>p {\n",
    "        align-self: flex-end;\n",
    "        background-color: #c8e6c9;\n",
    "        border: 2px solid #a5d6a7;\n",
    "        color: #2e7d32;\n",
    "    }\n",
    "</style>\"\"\""
   ]
  },
  {
   "cell_type": "code",
   "execution_count": null,
   "metadata": {
    "dotnet_interactive": {
     "language": "fsharp"
    },
    "polyglot_notebook": {
     "kernelName": "fsharp"
    }
   },
   "outputs": [
    {
     "data": {
      "text/html": [
       "<div class='chat-response md-blk'><style>\n",
       "    .chat-bubble {\n",
       "        display: flex;\n",
       "        flex-direction: column;\n",
       "        width: 100%;\n",
       "        max-width: 400px;\n",
       "        margin: 0 auto;\n",
       "    }\n",
       "    .chat-bubble>p {\n",
       "        max-width: 70%;\n",
       "        padding: 10px 15px;\n",
       "        margin: 10px;\n",
       "        border-radius: 15px;\n",
       "        position: relative;\n",
       "        word-wrap: break-word;\n",
       "    }\n",
       "    .chat-bubble.left>p {\n",
       "        align-self: flex-start;\n",
       "        background-color: #e1bee7;\n",
       "        border: 2px solid #ce93d8;\n",
       "        color: #6a1b9a;\n",
       "    }\n",
       "    .chat-bubble.right>p {\n",
       "        align-self: flex-end;\n",
       "        background-color: #c8e6c9;\n",
       "        border: 2px solid #a5d6a7;\n",
       "        color: #2e7d32;\n",
       "    }\n",
       "</style><div class='chat-bubble left'><p>Is it a mammal?</p>\n",
       "</div></div>"
      ]
     },
     "metadata": {},
     "output_type": "display_data"
    },
    {
     "data": {
      "text/html": [
       "<div class='chat-response md-blk'><style>\n",
       "    .chat-bubble {\n",
       "        display: flex;\n",
       "        flex-direction: column;\n",
       "        width: 100%;\n",
       "        max-width: 400px;\n",
       "        margin: 0 auto;\n",
       "    }\n",
       "    .chat-bubble>p {\n",
       "        max-width: 70%;\n",
       "        padding: 10px 15px;\n",
       "        margin: 10px;\n",
       "        border-radius: 15px;\n",
       "        position: relative;\n",
       "        word-wrap: break-word;\n",
       "    }\n",
       "    .chat-bubble.left>p {\n",
       "        align-self: flex-start;\n",
       "        background-color: #e1bee7;\n",
       "        border: 2px solid #ce93d8;\n",
       "        color: #6a1b9a;\n",
       "    }\n",
       "    .chat-bubble.right>p {\n",
       "        align-self: flex-end;\n",
       "        background-color: #c8e6c9;\n",
       "        border: 2px solid #a5d6a7;\n",
       "        color: #2e7d32;\n",
       "    }\n",
       "</style><div class='chat-bubble right'><p>No.</p>\n",
       "</div></div>"
      ]
     },
     "metadata": {},
     "output_type": "display_data"
    },
    {
     "data": {
      "text/html": [
       "<div class='chat-response md-blk'><style>\n",
       "    .chat-bubble {\n",
       "        display: flex;\n",
       "        flex-direction: column;\n",
       "        width: 100%;\n",
       "        max-width: 400px;\n",
       "        margin: 0 auto;\n",
       "    }\n",
       "    .chat-bubble>p {\n",
       "        max-width: 70%;\n",
       "        padding: 10px 15px;\n",
       "        margin: 10px;\n",
       "        border-radius: 15px;\n",
       "        position: relative;\n",
       "        word-wrap: break-word;\n",
       "    }\n",
       "    .chat-bubble.left>p {\n",
       "        align-self: flex-start;\n",
       "        background-color: #e1bee7;\n",
       "        border: 2px solid #ce93d8;\n",
       "        color: #6a1b9a;\n",
       "    }\n",
       "    .chat-bubble.right>p {\n",
       "        align-self: flex-end;\n",
       "        background-color: #c8e6c9;\n",
       "        border: 2px solid #a5d6a7;\n",
       "        color: #2e7d32;\n",
       "    }\n",
       "</style><div class='chat-bubble left'><p>Is it a bird?</p>\n",
       "</div></div>"
      ]
     },
     "metadata": {},
     "output_type": "display_data"
    },
    {
     "data": {
      "text/html": [
       "<div class='chat-response md-blk'><style>\n",
       "    .chat-bubble {\n",
       "        display: flex;\n",
       "        flex-direction: column;\n",
       "        width: 100%;\n",
       "        max-width: 400px;\n",
       "        margin: 0 auto;\n",
       "    }\n",
       "    .chat-bubble>p {\n",
       "        max-width: 70%;\n",
       "        padding: 10px 15px;\n",
       "        margin: 10px;\n",
       "        border-radius: 15px;\n",
       "        position: relative;\n",
       "        word-wrap: break-word;\n",
       "    }\n",
       "    .chat-bubble.left>p {\n",
       "        align-self: flex-start;\n",
       "        background-color: #e1bee7;\n",
       "        border: 2px solid #ce93d8;\n",
       "        color: #6a1b9a;\n",
       "    }\n",
       "    .chat-bubble.right>p {\n",
       "        align-self: flex-end;\n",
       "        background-color: #c8e6c9;\n",
       "        border: 2px solid #a5d6a7;\n",
       "        color: #2e7d32;\n",
       "    }\n",
       "</style><div class='chat-bubble right'><p>Yes.</p>\n",
       "</div></div>"
      ]
     },
     "metadata": {},
     "output_type": "display_data"
    },
    {
     "data": {
      "text/html": [
       "<div class='chat-response md-blk'><style>\n",
       "    .chat-bubble {\n",
       "        display: flex;\n",
       "        flex-direction: column;\n",
       "        width: 100%;\n",
       "        max-width: 400px;\n",
       "        margin: 0 auto;\n",
       "    }\n",
       "    .chat-bubble>p {\n",
       "        max-width: 70%;\n",
       "        padding: 10px 15px;\n",
       "        margin: 10px;\n",
       "        border-radius: 15px;\n",
       "        position: relative;\n",
       "        word-wrap: break-word;\n",
       "    }\n",
       "    .chat-bubble.left>p {\n",
       "        align-self: flex-start;\n",
       "        background-color: #e1bee7;\n",
       "        border: 2px solid #ce93d8;\n",
       "        color: #6a1b9a;\n",
       "    }\n",
       "    .chat-bubble.right>p {\n",
       "        align-self: flex-end;\n",
       "        background-color: #c8e6c9;\n",
       "        border: 2px solid #a5d6a7;\n",
       "        color: #2e7d32;\n",
       "    }\n",
       "</style><div class='chat-bubble left'><p>Is it a flightless bird?</p>\n",
       "</div></div>"
      ]
     },
     "metadata": {},
     "output_type": "display_data"
    },
    {
     "data": {
      "text/html": [
       "<div class='chat-response md-blk'><style>\n",
       "    .chat-bubble {\n",
       "        display: flex;\n",
       "        flex-direction: column;\n",
       "        width: 100%;\n",
       "        max-width: 400px;\n",
       "        margin: 0 auto;\n",
       "    }\n",
       "    .chat-bubble>p {\n",
       "        max-width: 70%;\n",
       "        padding: 10px 15px;\n",
       "        margin: 10px;\n",
       "        border-radius: 15px;\n",
       "        position: relative;\n",
       "        word-wrap: break-word;\n",
       "    }\n",
       "    .chat-bubble.left>p {\n",
       "        align-self: flex-start;\n",
       "        background-color: #e1bee7;\n",
       "        border: 2px solid #ce93d8;\n",
       "        color: #6a1b9a;\n",
       "    }\n",
       "    .chat-bubble.right>p {\n",
       "        align-self: flex-end;\n",
       "        background-color: #c8e6c9;\n",
       "        border: 2px solid #a5d6a7;\n",
       "        color: #2e7d32;\n",
       "    }\n",
       "</style><div class='chat-bubble right'><p>No.</p>\n",
       "</div></div>"
      ]
     },
     "metadata": {},
     "output_type": "display_data"
    },
    {
     "data": {
      "text/html": [
       "<div class='chat-response md-blk'><style>\n",
       "    .chat-bubble {\n",
       "        display: flex;\n",
       "        flex-direction: column;\n",
       "        width: 100%;\n",
       "        max-width: 400px;\n",
       "        margin: 0 auto;\n",
       "    }\n",
       "    .chat-bubble>p {\n",
       "        max-width: 70%;\n",
       "        padding: 10px 15px;\n",
       "        margin: 10px;\n",
       "        border-radius: 15px;\n",
       "        position: relative;\n",
       "        word-wrap: break-word;\n",
       "    }\n",
       "    .chat-bubble.left>p {\n",
       "        align-self: flex-start;\n",
       "        background-color: #e1bee7;\n",
       "        border: 2px solid #ce93d8;\n",
       "        color: #6a1b9a;\n",
       "    }\n",
       "    .chat-bubble.right>p {\n",
       "        align-self: flex-end;\n",
       "        background-color: #c8e6c9;\n",
       "        border: 2px solid #a5d6a7;\n",
       "        color: #2e7d32;\n",
       "    }\n",
       "</style><div class='chat-bubble left'><p>Is it a bird that is commonly kept as a pet?</p>\n",
       "</div></div>"
      ]
     },
     "metadata": {},
     "output_type": "display_data"
    },
    {
     "data": {
      "text/html": [
       "<div class='chat-response md-blk'><style>\n",
       "    .chat-bubble {\n",
       "        display: flex;\n",
       "        flex-direction: column;\n",
       "        width: 100%;\n",
       "        max-width: 400px;\n",
       "        margin: 0 auto;\n",
       "    }\n",
       "    .chat-bubble>p {\n",
       "        max-width: 70%;\n",
       "        padding: 10px 15px;\n",
       "        margin: 10px;\n",
       "        border-radius: 15px;\n",
       "        position: relative;\n",
       "        word-wrap: break-word;\n",
       "    }\n",
       "    .chat-bubble.left>p {\n",
       "        align-self: flex-start;\n",
       "        background-color: #e1bee7;\n",
       "        border: 2px solid #ce93d8;\n",
       "        color: #6a1b9a;\n",
       "    }\n",
       "    .chat-bubble.right>p {\n",
       "        align-self: flex-end;\n",
       "        background-color: #c8e6c9;\n",
       "        border: 2px solid #a5d6a7;\n",
       "        color: #2e7d32;\n",
       "    }\n",
       "</style><div class='chat-bubble right'><p>Yes.</p>\n",
       "</div></div>"
      ]
     },
     "metadata": {},
     "output_type": "display_data"
    },
    {
     "data": {
      "text/html": [
       "<div class='chat-response md-blk'><style>\n",
       "    .chat-bubble {\n",
       "        display: flex;\n",
       "        flex-direction: column;\n",
       "        width: 100%;\n",
       "        max-width: 400px;\n",
       "        margin: 0 auto;\n",
       "    }\n",
       "    .chat-bubble>p {\n",
       "        max-width: 70%;\n",
       "        padding: 10px 15px;\n",
       "        margin: 10px;\n",
       "        border-radius: 15px;\n",
       "        position: relative;\n",
       "        word-wrap: break-word;\n",
       "    }\n",
       "    .chat-bubble.left>p {\n",
       "        align-self: flex-start;\n",
       "        background-color: #e1bee7;\n",
       "        border: 2px solid #ce93d8;\n",
       "        color: #6a1b9a;\n",
       "    }\n",
       "    .chat-bubble.right>p {\n",
       "        align-self: flex-end;\n",
       "        background-color: #c8e6c9;\n",
       "        border: 2px solid #a5d6a7;\n",
       "        color: #2e7d32;\n",
       "    }\n",
       "</style><div class='chat-bubble left'><p>Is it a parrot?</p>\n",
       "</div></div>"
      ]
     },
     "metadata": {},
     "output_type": "display_data"
    },
    {
     "data": {
      "text/html": [
       "<div class='chat-response md-blk'><style>\n",
       "    .chat-bubble {\n",
       "        display: flex;\n",
       "        flex-direction: column;\n",
       "        width: 100%;\n",
       "        max-width: 400px;\n",
       "        margin: 0 auto;\n",
       "    }\n",
       "    .chat-bubble>p {\n",
       "        max-width: 70%;\n",
       "        padding: 10px 15px;\n",
       "        margin: 10px;\n",
       "        border-radius: 15px;\n",
       "        position: relative;\n",
       "        word-wrap: break-word;\n",
       "    }\n",
       "    .chat-bubble.left>p {\n",
       "        align-self: flex-start;\n",
       "        background-color: #e1bee7;\n",
       "        border: 2px solid #ce93d8;\n",
       "        color: #6a1b9a;\n",
       "    }\n",
       "    .chat-bubble.right>p {\n",
       "        align-self: flex-end;\n",
       "        background-color: #c8e6c9;\n",
       "        border: 2px solid #a5d6a7;\n",
       "        color: #2e7d32;\n",
       "    }\n",
       "</style><div class='chat-bubble right'><p>CORRECT.</p>\n",
       "</div></div>"
      ]
     },
     "metadata": {},
     "output_type": "display_data"
    }
   ],
   "source": [
    "let agent1 = Chat(\n",
    "    model=Gpt4o_mini,\n",
    "    renderer=NotebookRenderer(props=\"class='chat-bubble left'\", css=style),\n",
    "    context=[\n",
    "        System \"\"\"\n",
    "            You're playing the 20 questions game.\n",
    "            Your role is to ask 'Is it a ...' questions with Yes-or-No answers\n",
    "            in order to narrow down your options and guess the word that I'm thinking of.\n",
    "            ----\n",
    "            Hint: You're guessing an animal.\n",
    "        \"\"\"\n",
    "    ])\n",
    "\n",
    "let agent2 = Chat(\n",
    "    model=Gpt4o_mini,\n",
    "    renderer=NotebookRenderer(props=\"class='chat-bubble right'\", css=style),\n",
    "    context=[\n",
    "        System \"\"\"\n",
    "            You're playing the 20 questions game.\n",
    "            Your role is the one who thinks of a word and responds to my questions\n",
    "            with simple \"yes\" or \"no\" answers (no additional text).\n",
    "            If necessary, you can also say \"Both yes and no\" or \"I can’t answer that\".\n",
    "            Once I guess the correct word, respond with “CORRECT.”\n",
    "            ----\n",
    "            The word I'll be trying to guess is: parrot.\n",
    "        \"\"\"\n",
    "    ])\n",
    "\n",
    "let rec play timesLeft (text:string) =\n",
    "    if timesLeft=0 then\n",
    "        printfn \"Game over\"\n",
    "    else\n",
    "        let quess = agent1.send(text).text\n",
    "        let assess = agent2.send(quess).text\n",
    "        if assess.Contains \"CORRECT.\" then\n",
    "            ()\n",
    "        else\n",
    "            play (timesLeft-1) assess\n",
    "\n",
    "play 20 \"I have a word! Which word is it? Ask the first question.\""
   ]
  }
 ],
 "metadata": {
  "kernelspec": {
   "display_name": ".NET (C#)",
   "language": "C#",
   "name": ".net-csharp"
  },
  "polyglot_notebook": {
   "kernelInfo": {
    "defaultKernelName": "csharp",
    "items": [
     {
      "aliases": [],
      "name": "csharp"
     },
     {
      "aliases": [],
      "languageName": "fsharp",
      "name": "fsharp"
     },
     {
      "aliases": [
       "js"
      ],
      "languageName": "JavaScript",
      "name": "javascript"
     }
    ]
   }
  }
 },
 "nbformat": 4,
 "nbformat_minor": 2
}
