{
 "cells": [
  {
   "cell_type": "code",
   "execution_count": null,
   "metadata": {
    "dotnet_interactive": {
     "language": "fsharp"
    },
    "polyglot_notebook": {
     "kernelName": "fsharp"
    }
   },
   "outputs": [
    {
     "data": {
      "text/html": [
       "<div><div><strong>Restore sources</strong><ul><li><span> /home/peter/work/FsChat/nuget.local</span></li></ul></div><div></div><div><strong>Installed Packages</strong><ul><li><span>dotenv.net, 3.2.0</span></li><li><span>FsChat.Interactive, 0.1.0-beta2</span></li></ul></div></div>"
      ]
     },
     "metadata": {},
     "output_type": "display_data"
    },
    {
     "data": {
      "text/plain": [
       "Loading extension script from `/home/peter/.nuget/packages/fschat.interactive/0.1.0-beta2/interactive-extensions/dotnet/extension.dib`"
      ]
     },
     "metadata": {},
     "output_type": "display_data"
    },
    {
     "data": {
      "text/plain": [
       "FsChat is ready."
      ]
     },
     "metadata": {},
     "output_type": "display_data"
    }
   ],
   "source": [
    "#r \"nuget: FsChat.Interactive, 0.1.0-beta2\"\n",
    "\n",
    "#r \"nuget: dotenv.net, 3.2.0\"\n",
    "open dotenv.net\n",
    "DotEnv.Load(DotEnvOptions(envFilePaths=[ \"./.env\" ]))\n",
    "open FsChat"
   ]
  },
  {
   "cell_type": "code",
   "execution_count": null,
   "metadata": {
    "dotnet_interactive": {
     "language": "fsharp"
    },
    "polyglot_notebook": {
     "kernelName": "fsharp"
    }
   },
   "outputs": [],
   "source": [
    "let style = \"\"\"<style>\n",
    "    .chat-bubble {\n",
    "        display: flex;\n",
    "        flex-direction: column;\n",
    "        width: 100%;\n",
    "        max-width: 400px;\n",
    "        margin: 0 auto;\n",
    "    }\n",
    "    .chat-bubble>p {\n",
    "        max-width: 70%;\n",
    "        padding: 10px 15px;\n",
    "        margin: 10px;\n",
    "        border-radius: 15px;\n",
    "        position: relative;\n",
    "        word-wrap: break-word;\n",
    "    }\n",
    "    .chat-bubble.left>p {\n",
    "        align-self: flex-start;\n",
    "        background-color: #e1bee7;\n",
    "        border: 2px solid #ce93d8;\n",
    "        color: #6a1b9a;\n",
    "    }\n",
    "    .chat-bubble.right>p {\n",
    "        align-self: flex-end;\n",
    "        background-color: #c8e6c9;\n",
    "        border: 2px solid #a5d6a7;\n",
    "        color: #2e7d32;\n",
    "    }\n",
    "</style>\"\"\""
   ]
  },
  {
   "cell_type": "code",
   "execution_count": null,
   "metadata": {
    "dotnet_interactive": {
     "language": "fsharp"
    },
    "polyglot_notebook": {
     "kernelName": "fsharp"
    }
   },
   "outputs": [
    {
     "data": {
      "text/html": [
       "<div class='chat-response md-blk'><style>\n",
       "    .chat-bubble {\n",
       "        display: flex;\n",
       "        flex-direction: column;\n",
       "        width: 100%;\n",
       "        max-width: 400px;\n",
       "        margin: 0 auto;\n",
       "    }\n",
       "    .chat-bubble>p {\n",
       "        max-width: 70%;\n",
       "        padding: 10px 15px;\n",
       "        margin: 10px;\n",
       "        border-radius: 15px;\n",
       "        position: relative;\n",
       "        word-wrap: break-word;\n",
       "    }\n",
       "    .chat-bubble.left>p {\n",
       "        align-self: flex-start;\n",
       "        background-color: #e1bee7;\n",
       "        border: 2px solid #ce93d8;\n",
       "        color: #6a1b9a;\n",
       "    }\n",
       "    .chat-bubble.right>p {\n",
       "        align-self: flex-end;\n",
       "        background-color: #c8e6c9;\n",
       "        border: 2px solid #a5d6a7;\n",
       "        color: #2e7d32;\n",
       "    }\n",
       "</style><div class='chat-bubble left'><p>Is it a mammal?</p>\n",
       "</div></div>"
      ]
     },
     "metadata": {},
     "output_type": "display_data"
    },
    {
     "data": {
      "text/html": [
       "<div class='chat-response md-blk'><style>\n",
       "    .chat-bubble {\n",
       "        display: flex;\n",
       "        flex-direction: column;\n",
       "        width: 100%;\n",
       "        max-width: 400px;\n",
       "        margin: 0 auto;\n",
       "    }\n",
       "    .chat-bubble>p {\n",
       "        max-width: 70%;\n",
       "        padding: 10px 15px;\n",
       "        margin: 10px;\n",
       "        border-radius: 15px;\n",
       "        position: relative;\n",
       "        word-wrap: break-word;\n",
       "    }\n",
       "    .chat-bubble.left>p {\n",
       "        align-self: flex-start;\n",
       "        background-color: #e1bee7;\n",
       "        border: 2px solid #ce93d8;\n",
       "        color: #6a1b9a;\n",
       "    }\n",
       "    .chat-bubble.right>p {\n",
       "        align-self: flex-end;\n",
       "        background-color: #c8e6c9;\n",
       "        border: 2px solid #a5d6a7;\n",
       "        color: #2e7d32;\n",
       "    }\n",
       "</style><div class='chat-bubble right'><p>No.</p>\n",
       "</div></div>"
      ]
     },
     "metadata": {},
     "output_type": "display_data"
    },
    {
     "data": {
      "text/html": [
       "<div class='chat-response md-blk'><style>\n",
       "    .chat-bubble {\n",
       "        display: flex;\n",
       "        flex-direction: column;\n",
       "        width: 100%;\n",
       "        max-width: 400px;\n",
       "        margin: 0 auto;\n",
       "    }\n",
       "    .chat-bubble>p {\n",
       "        max-width: 70%;\n",
       "        padding: 10px 15px;\n",
       "        margin: 10px;\n",
       "        border-radius: 15px;\n",
       "        position: relative;\n",
       "        word-wrap: break-word;\n",
       "    }\n",
       "    .chat-bubble.left>p {\n",
       "        align-self: flex-start;\n",
       "        background-color: #e1bee7;\n",
       "        border: 2px solid #ce93d8;\n",
       "        color: #6a1b9a;\n",
       "    }\n",
       "    .chat-bubble.right>p {\n",
       "        align-self: flex-end;\n",
       "        background-color: #c8e6c9;\n",
       "        border: 2px solid #a5d6a7;\n",
       "        color: #2e7d32;\n",
       "    }\n",
       "</style><div class='chat-bubble left'><p>Is it a bird?</p>\n",
       "</div></div>"
      ]
     },
     "metadata": {},
     "output_type": "display_data"
    },
    {
     "data": {
      "text/html": [
       "<div class='chat-response md-blk'><style>\n",
       "    .chat-bubble {\n",
       "        display: flex;\n",
       "        flex-direction: column;\n",
       "        width: 100%;\n",
       "        max-width: 400px;\n",
       "        margin: 0 auto;\n",
       "    }\n",
       "    .chat-bubble>p {\n",
       "        max-width: 70%;\n",
       "        padding: 10px 15px;\n",
       "        margin: 10px;\n",
       "        border-radius: 15px;\n",
       "        position: relative;\n",
       "        word-wrap: break-word;\n",
       "    }\n",
       "    .chat-bubble.left>p {\n",
       "        align-self: flex-start;\n",
       "        background-color: #e1bee7;\n",
       "        border: 2px solid #ce93d8;\n",
       "        color: #6a1b9a;\n",
       "    }\n",
       "    .chat-bubble.right>p {\n",
       "        align-self: flex-end;\n",
       "        background-color: #c8e6c9;\n",
       "        border: 2px solid #a5d6a7;\n",
       "        color: #2e7d32;\n",
       "    }\n",
       "</style><div class='chat-bubble right'><p>Yes.</p>\n",
       "</div></div>"
      ]
     },
     "metadata": {},
     "output_type": "display_data"
    },
    {
     "data": {
      "text/html": [
       "<div class='chat-response md-blk'><style>\n",
       "    .chat-bubble {\n",
       "        display: flex;\n",
       "        flex-direction: column;\n",
       "        width: 100%;\n",
       "        max-width: 400px;\n",
       "        margin: 0 auto;\n",
       "    }\n",
       "    .chat-bubble>p {\n",
       "        max-width: 70%;\n",
       "        padding: 10px 15px;\n",
       "        margin: 10px;\n",
       "        border-radius: 15px;\n",
       "        position: relative;\n",
       "        word-wrap: break-word;\n",
       "    }\n",
       "    .chat-bubble.left>p {\n",
       "        align-self: flex-start;\n",
       "        background-color: #e1bee7;\n",
       "        border: 2px solid #ce93d8;\n",
       "        color: #6a1b9a;\n",
       "    }\n",
       "    .chat-bubble.right>p {\n",
       "        align-self: flex-end;\n",
       "        background-color: #c8e6c9;\n",
       "        border: 2px solid #a5d6a7;\n",
       "        color: #2e7d32;\n",
       "    }\n",
       "</style><div class='chat-bubble left'><p>Is it a flightless bird?</p>\n",
       "</div></div>"
      ]
     },
     "metadata": {},
     "output_type": "display_data"
    },
    {
     "data": {
      "text/html": [
       "<div class='chat-response md-blk'><style>\n",
       "    .chat-bubble {\n",
       "        display: flex;\n",
       "        flex-direction: column;\n",
       "        width: 100%;\n",
       "        max-width: 400px;\n",
       "        margin: 0 auto;\n",
       "    }\n",
       "    .chat-bubble>p {\n",
       "        max-width: 70%;\n",
       "        padding: 10px 15px;\n",
       "        margin: 10px;\n",
       "        border-radius: 15px;\n",
       "        position: relative;\n",
       "        word-wrap: break-word;\n",
       "    }\n",
       "    .chat-bubble.left>p {\n",
       "        align-self: flex-start;\n",
       "        background-color: #e1bee7;\n",
       "        border: 2px solid #ce93d8;\n",
       "        color: #6a1b9a;\n",
       "    }\n",
       "    .chat-bubble.right>p {\n",
       "        align-self: flex-end;\n",
       "        background-color: #c8e6c9;\n",
       "        border: 2px solid #a5d6a7;\n",
       "        color: #2e7d32;\n",
       "    }\n",
       "</style><div class='chat-bubble right'><p>No.</p>\n",
       "</div></div>"
      ]
     },
     "metadata": {},
     "output_type": "display_data"
    },
    {
     "data": {
      "text/html": [
       "<div class='chat-response md-blk'><style>\n",
       "    .chat-bubble {\n",
       "        display: flex;\n",
       "        flex-direction: column;\n",
       "        width: 100%;\n",
       "        max-width: 400px;\n",
       "        margin: 0 auto;\n",
       "    }\n",
       "    .chat-bubble>p {\n",
       "        max-width: 70%;\n",
       "        padding: 10px 15px;\n",
       "        margin: 10px;\n",
       "        border-radius: 15px;\n",
       "        position: relative;\n",
       "        word-wrap: break-word;\n",
       "    }\n",
       "    .chat-bubble.left>p {\n",
       "        align-self: flex-start;\n",
       "        background-color: #e1bee7;\n",
       "        border: 2px solid #ce93d8;\n",
       "        color: #6a1b9a;\n",
       "    }\n",
       "    .chat-bubble.right>p {\n",
       "        align-self: flex-end;\n",
       "        background-color: #c8e6c9;\n",
       "        border: 2px solid #a5d6a7;\n",
       "        color: #2e7d32;\n",
       "    }\n",
       "</style><div class='chat-bubble left'><p>Is it a bird that is commonly kept as a pet?</p>\n",
       "</div></div>"
      ]
     },
     "metadata": {},
     "output_type": "display_data"
    },
    {
     "data": {
      "text/html": [
       "<div class='chat-response md-blk'><style>\n",
       "    .chat-bubble {\n",
       "        display: flex;\n",
       "        flex-direction: column;\n",
       "        width: 100%;\n",
       "        max-width: 400px;\n",
       "        margin: 0 auto;\n",
       "    }\n",
       "    .chat-bubble>p {\n",
       "        max-width: 70%;\n",
       "        padding: 10px 15px;\n",
       "        margin: 10px;\n",
       "        border-radius: 15px;\n",
       "        position: relative;\n",
       "        word-wrap: break-word;\n",
       "    }\n",
       "    .chat-bubble.left>p {\n",
       "        align-self: flex-start;\n",
       "        background-color: #e1bee7;\n",
       "        border: 2px solid #ce93d8;\n",
       "        color: #6a1b9a;\n",
       "    }\n",
       "    .chat-bubble.right>p {\n",
       "        align-self: flex-end;\n",
       "        background-color: #c8e6c9;\n",
       "        border: 2px solid #a5d6a7;\n",
       "        color: #2e7d32;\n",
       "    }\n",
       "</style><div class='chat-bubble right'><p>Yes.</p>\n",
       "</div></div>"
      ]
     },
     "metadata": {},
     "output_type": "display_data"
    },
    {
     "data": {
      "text/html": [
       "<div class='chat-response md-blk'><style>\n",
       "    .chat-bubble {\n",
       "        display: flex;\n",
       "        flex-direction: column;\n",
       "        width: 100%;\n",
       "        max-width: 400px;\n",
       "        margin: 0 auto;\n",
       "    }\n",
       "    .chat-bubble>p {\n",
       "        max-width: 70%;\n",
       "        padding: 10px 15px;\n",
       "        margin: 10px;\n",
       "        border-radius: 15px;\n",
       "        position: relative;\n",
       "        word-wrap: break-word;\n",
       "    }\n",
       "    .chat-bubble.left>p {\n",
       "        align-self: flex-start;\n",
       "        background-color: #e1bee7;\n",
       "        border: 2px solid #ce93d8;\n",
       "        color: #6a1b9a;\n",
       "    }\n",
       "    .chat-bubble.right>p {\n",
       "        align-self: flex-end;\n",
       "        background-color: #c8e6c9;\n",
       "        border: 2px solid #a5d6a7;\n",
       "        color: #2e7d32;\n",
       "    }\n",
       "</style><div class='chat-bubble left'><p>Is it a type of parrot?</p>\n",
       "</div></div>"
      ]
     },
     "metadata": {},
     "output_type": "display_data"
    },
    {
     "data": {
      "text/html": [
       "<div class='chat-response md-blk'><style>\n",
       "    .chat-bubble {\n",
       "        display: flex;\n",
       "        flex-direction: column;\n",
       "        width: 100%;\n",
       "        max-width: 400px;\n",
       "        margin: 0 auto;\n",
       "    }\n",
       "    .chat-bubble>p {\n",
       "        max-width: 70%;\n",
       "        padding: 10px 15px;\n",
       "        margin: 10px;\n",
       "        border-radius: 15px;\n",
       "        position: relative;\n",
       "        word-wrap: break-word;\n",
       "    }\n",
       "    .chat-bubble.left>p {\n",
       "        align-self: flex-start;\n",
       "        background-color: #e1bee7;\n",
       "        border: 2px solid #ce93d8;\n",
       "        color: #6a1b9a;\n",
       "    }\n",
       "    .chat-bubble.right>p {\n",
       "        align-self: flex-end;\n",
       "        background-color: #c8e6c9;\n",
       "        border: 2px solid #a5d6a7;\n",
       "        color: #2e7d32;\n",
       "    }\n",
       "</style><div class='chat-bubble right'><p>CORRECT.</p>\n",
       "</div></div>"
      ]
     },
     "metadata": {},
     "output_type": "display_data"
    }
   ],
   "source": [
    "let agent1 = Chat(\n",
    "    model=OpenAI.gpt4o_mini,\n",
    "    renderer=NotebookRenderer(props=\"class='chat-bubble left'\", css=style),\n",
    "    prompt=[\n",
    "        System \"\"\"\n",
    "            You're playing the 20 questions game.\n",
    "            Your role is to ask 'Is it a ...' questions with Yes-or-No answers\n",
    "            in order to narrow down your options and guess the word that I'm thinking of.\n",
    "            ----\n",
    "            Hint: You're guessing an animal.\n",
    "        \"\"\"\n",
    "    ])\n",
    "\n",
    "let agent2 = Chat(\n",
    "    model=OpenAI.gpt4o_mini,\n",
    "    renderer=NotebookRenderer(props=\"class='chat-bubble right'\", css=style),\n",
    "    prompt=[\n",
    "        System \"\"\"\n",
    "            You're playing the 20 questions game.\n",
    "            Your role is the one who thinks of a word and responds to my questions\n",
    "            with simple \"yes\" or \"no\" answers (no additional text).\n",
    "            If necessary, you can also say \"Both yes and no\" or \"I can’t answer that\".\n",
    "            Once I guess the correct word or correct class of animal species,\n",
    "            respond with “CORRECT.”\n",
    "            ----\n",
    "            The word I'll be trying to guess is: parrot.\n",
    "        \"\"\"\n",
    "    ])\n",
    "\n",
    "let rec play timesLeft (text:string) =\n",
    "    if timesLeft=0 then\n",
    "        printfn \"Game over\"\n",
    "    else\n",
    "        let quess = agent1.send(text).text\n",
    "        let assess = agent2.send(quess).text\n",
    "        if assess.Contains \"CORRECT.\" then\n",
    "            ()\n",
    "        else\n",
    "            play (timesLeft-1) assess\n",
    "\n",
    "play 20 \"I have a word! Which word is it? Ask the first question.\""
   ]
  },
  {
   "cell_type": "code",
   "execution_count": null,
   "metadata": {
    "dotnet_interactive": {
     "language": "fsharp"
    },
    "polyglot_notebook": {
     "kernelName": "fsharp"
    }
   },
   "outputs": [
    {
     "data": {
      "text/html": [
       "<table><thead><tr><th><i>index</i></th><th>value</th></tr></thead><tbody><tr><td>0</td><td><details class=\"dni-treeview\"><summary><span class=\"dni-code-hint\"><code>{ role = system\\n  content =\\n   &quot;You&#39;re playing the 20 questions game.\\nYour role is the one who thinks of a word and responds to my questions\\nwith simple &quot;yes&quot; or &quot;no&quot; answers (no additional text).\\nIf necessary, you can also say &quot;Both yes and no&quot; or &quot;I can’t answer that&quot;.\\nOnce I guess the corre...</code></span></summary><div><table><thead><tr></tr></thead><tbody><tr><td>role</td><td><details class=\"dni-treeview\"><summary><span class=\"dni-code-hint\"><code>system</code></span></summary><div><table><thead><tr></tr></thead><tbody></tbody></table></div></details></td></tr><tr><td>content</td><td><div class=\"dni-plaintext\"><pre>You&#39;re playing the 20 questions game.\n",
       "Your role is the one who thinks of a word and responds to my questions\n",
       "with simple &quot;yes&quot; or &quot;no&quot; answers (no additional text).\n",
       "If necessary, you can also say &quot;Both yes and no&quot; or &quot;I can’t answer that&quot;.\n",
       "Once I guess the correct word or correct class of animal species,\n",
       "respond with “CORRECT.”\n",
       "----\n",
       "The word I&#39;ll be trying to guess is: parrot.</pre></div></td></tr></tbody></table></div></details></td></tr><tr><td>1</td><td><details class=\"dni-treeview\"><summary><span class=\"dni-code-hint\"><code>{ role = user\\n  content = &quot;Is it a mammal?&quot; }</code></span></summary><div><table><thead><tr></tr></thead><tbody><tr><td>role</td><td><details class=\"dni-treeview\"><summary><span class=\"dni-code-hint\"><code>user</code></span></summary><div><table><thead><tr></tr></thead><tbody></tbody></table></div></details></td></tr><tr><td>content</td><td><div class=\"dni-plaintext\"><pre>Is it a mammal?</pre></div></td></tr></tbody></table></div></details></td></tr><tr><td>2</td><td><details class=\"dni-treeview\"><summary><span class=\"dni-code-hint\"><code>{ role = assistant\\n  content = &quot;No.&quot; }</code></span></summary><div><table><thead><tr></tr></thead><tbody><tr><td>role</td><td><details class=\"dni-treeview\"><summary><span class=\"dni-code-hint\"><code>assistant</code></span></summary><div><table><thead><tr></tr></thead><tbody></tbody></table></div></details></td></tr><tr><td>content</td><td><div class=\"dni-plaintext\"><pre>No.</pre></div></td></tr></tbody></table></div></details></td></tr><tr><td>3</td><td><details class=\"dni-treeview\"><summary><span class=\"dni-code-hint\"><code>{ role = user\\n  content = &quot;Is it a bird?&quot; }</code></span></summary><div><table><thead><tr></tr></thead><tbody><tr><td>role</td><td><details class=\"dni-treeview\"><summary><span class=\"dni-code-hint\"><code>user</code></span></summary><div><table><thead><tr></tr></thead><tbody></tbody></table></div></details></td></tr><tr><td>content</td><td><div class=\"dni-plaintext\"><pre>Is it a bird?</pre></div></td></tr></tbody></table></div></details></td></tr><tr><td>4</td><td><details class=\"dni-treeview\"><summary><span class=\"dni-code-hint\"><code>{ role = assistant\\n  content = &quot;Yes.&quot; }</code></span></summary><div><table><thead><tr></tr></thead><tbody><tr><td>role</td><td><details class=\"dni-treeview\"><summary><span class=\"dni-code-hint\"><code>assistant</code></span></summary><div><table><thead><tr></tr></thead><tbody></tbody></table></div></details></td></tr><tr><td>content</td><td><div class=\"dni-plaintext\"><pre>Yes.</pre></div></td></tr></tbody></table></div></details></td></tr><tr><td>5</td><td><details class=\"dni-treeview\"><summary><span class=\"dni-code-hint\"><code>{ role = user\\n  content = &quot;Is it a flightless bird?&quot; }</code></span></summary><div><table><thead><tr></tr></thead><tbody><tr><td>role</td><td><details class=\"dni-treeview\"><summary><span class=\"dni-code-hint\"><code>user</code></span></summary><div><table><thead><tr></tr></thead><tbody></tbody></table></div></details></td></tr><tr><td>content</td><td><div class=\"dni-plaintext\"><pre>Is it a flightless bird?</pre></div></td></tr></tbody></table></div></details></td></tr><tr><td>6</td><td><details class=\"dni-treeview\"><summary><span class=\"dni-code-hint\"><code>{ role = assistant\\n  content = &quot;No.&quot; }</code></span></summary><div><table><thead><tr></tr></thead><tbody><tr><td>role</td><td><details class=\"dni-treeview\"><summary><span class=\"dni-code-hint\"><code>assistant</code></span></summary><div><table><thead><tr></tr></thead><tbody></tbody></table></div></details></td></tr><tr><td>content</td><td><div class=\"dni-plaintext\"><pre>No.</pre></div></td></tr></tbody></table></div></details></td></tr><tr><td>7</td><td><details class=\"dni-treeview\"><summary><span class=\"dni-code-hint\"><code>{ role = user\\n  content = &quot;Is it a bird that is commonly kept as a pet?&quot; }</code></span></summary><div><table><thead><tr></tr></thead><tbody><tr><td>role</td><td><details class=\"dni-treeview\"><summary><span class=\"dni-code-hint\"><code>user</code></span></summary><div><table><thead><tr></tr></thead><tbody></tbody></table></div></details></td></tr><tr><td>content</td><td><div class=\"dni-plaintext\"><pre>Is it a bird that is commonly kept as a pet?</pre></div></td></tr></tbody></table></div></details></td></tr><tr><td>8</td><td><details class=\"dni-treeview\"><summary><span class=\"dni-code-hint\"><code>{ role = assistant\\n  content = &quot;Yes.&quot; }</code></span></summary><div><table><thead><tr></tr></thead><tbody><tr><td>role</td><td><details class=\"dni-treeview\"><summary><span class=\"dni-code-hint\"><code>assistant</code></span></summary><div><table><thead><tr></tr></thead><tbody></tbody></table></div></details></td></tr><tr><td>content</td><td><div class=\"dni-plaintext\"><pre>Yes.</pre></div></td></tr></tbody></table></div></details></td></tr><tr><td>9</td><td><details class=\"dni-treeview\"><summary><span class=\"dni-code-hint\"><code>{ role = user\\n  content = &quot;Is it a type of parrot?&quot; }</code></span></summary><div><table><thead><tr></tr></thead><tbody><tr><td>role</td><td><details class=\"dni-treeview\"><summary><span class=\"dni-code-hint\"><code>user</code></span></summary><div><table><thead><tr></tr></thead><tbody></tbody></table></div></details></td></tr><tr><td>content</td><td><div class=\"dni-plaintext\"><pre>Is it a type of parrot?</pre></div></td></tr></tbody></table></div></details></td></tr><tr><td>10</td><td><details class=\"dni-treeview\"><summary><span class=\"dni-code-hint\"><code>{ role = assistant\\n  content = &quot;CORRECT.&quot; }</code></span></summary><div><table><thead><tr></tr></thead><tbody><tr><td>role</td><td><details class=\"dni-treeview\"><summary><span class=\"dni-code-hint\"><code>assistant</code></span></summary><div><table><thead><tr></tr></thead><tbody></tbody></table></div></details></td></tr><tr><td>content</td><td><div class=\"dni-plaintext\"><pre>CORRECT.</pre></div></td></tr></tbody></table></div></details></td></tr></tbody></table><style>\r\n",
       ".dni-code-hint {\r\n",
       "    font-style: italic;\r\n",
       "    overflow: hidden;\r\n",
       "    white-space: nowrap;\r\n",
       "}\r\n",
       ".dni-treeview {\r\n",
       "    white-space: nowrap;\r\n",
       "}\r\n",
       ".dni-treeview td {\r\n",
       "    vertical-align: top;\r\n",
       "    text-align: start;\r\n",
       "}\r\n",
       "details.dni-treeview {\r\n",
       "    padding-left: 1em;\r\n",
       "}\r\n",
       "table td {\r\n",
       "    text-align: start;\r\n",
       "}\r\n",
       "table tr { \r\n",
       "    vertical-align: top; \r\n",
       "    margin: 0em 0px;\r\n",
       "}\r\n",
       "table tr td pre \r\n",
       "{ \r\n",
       "    vertical-align: top !important; \r\n",
       "    margin: 0em 0px !important;\r\n",
       "} \r\n",
       "table th {\r\n",
       "    text-align: start;\r\n",
       "}\r\n",
       "</style>"
      ]
     },
     "metadata": {},
     "output_type": "display_data"
    }
   ],
   "source": [
    "agent2.messages"
   ]
  }
 ],
 "metadata": {
  "kernelspec": {
   "display_name": ".NET (C#)",
   "language": "C#",
   "name": ".net-csharp"
  },
  "polyglot_notebook": {
   "kernelInfo": {
    "defaultKernelName": "csharp",
    "items": [
     {
      "aliases": [],
      "name": "csharp"
     },
     {
      "aliases": [],
      "languageName": "fsharp",
      "name": "fsharp"
     },
     {
      "aliases": [
       "js"
      ],
      "languageName": "JavaScript",
      "name": "javascript"
     }
    ]
   }
  }
 },
 "nbformat": 4,
 "nbformat_minor": 2
}
