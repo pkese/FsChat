{
 "cells": [
  {
   "cell_type": "code",
   "execution_count": null,
   "metadata": {
    "dotnet_interactive": {
     "language": "fsharp"
    },
    "polyglot_notebook": {
     "kernelName": "fsharp"
    }
   },
   "outputs": [
    {
     "data": {
      "text/html": [
       "<div><div><strong>Restore sources</strong><ul><li><span> /home/peter/work/FsChat/nuget.local</span></li></ul></div><div></div><div><strong>Installed Packages</strong><ul><li><span>dotenv.net, 3.2.0</span></li><li><span>FsChat.Interactive, 0.0.1</span></li></ul></div></div>"
      ]
     },
     "metadata": {},
     "output_type": "display_data"
    },
    {
     "data": {
      "text/plain": [
       "Loading extension script from `/home/peter/.nuget/packages/fschat.interactive/0.0.1/interactive-extensions/dotnet/extension.dib`"
      ]
     },
     "metadata": {},
     "output_type": "display_data"
    },
    {
     "data": {
      "text/html": [
       "<script type='module'>(function(){\"use strict\";const j={js:\"https://cdn.jsdelivr.net/npm/markdown-it@14/+esm\"},w={js:\"https://cdn.jsdelivr.net/npm/markdown-it-highlightjs@4/+esm\",css:\"https://cdn.jsdelivr.net/npm/highlight.js@11/styles/default.min.css\"},b={js:\"https://cdn.jsdelivr.net/npm/mermaid@11/+esm\"};let h={};function m(d){const e=d.js;if(h[e])return h[e];{let n=(t=>new Promise((r,l)=>{let i=document.createElement(\"script\");if(i.type=\"module\",i.src=t.js,i.onerror=l,i.onload=()=>import(t.js).then(r),document.head.appendChild(i),t.css){let s=document.createElement(\"link\");s.rel=\"stylesheet\",s.href=t.css,s.defer=!0,document.head.appendChild(s)}}))(d);return h[e]=n,n}}async function A(d,{mermaid:e,...n}){e.initialize({securityLevel:\"loose\",...n});let t=0,r=d.renderer.rules.fence;d.renderer.rules.fence=function(l,i,s,C,L){let f=l[i],g=f.info.trim(),x=g?function(u){return u.split(/\\s+/g)[0]}(g):\"\";if([\"mermaid\",\"{mermaid}\"].indexOf(x)===-1)return r!==void 0?r(l,i,s,C,L):\"\";let c=document.createElement(\"div\");c.id=\"mermaid-\"+t++,document.body.appendChild(c),c.style.display=\"none\";const v=\"mermaid-\"+t++;return new Promise(u=>{window.requestAnimationFrame(u)}).then(()=>e.render(c.id,f.content)).then(({svg:u,bindingFunc:k})=>{let E=document.getElementById(v);E.innerHTML=u,k&&k(E),c.remove()}),`<div id='${v}' class='mermaid' style='background-color:#eee;'>\n",
       "<pre>\n",
       "${f.content}\n",
       "</pre>\n",
       "</div>`}}let a=null,o=null,p=null,y=d=>d.mermaid?(p||(p=Promise.all([m(j),m(w),m(b)]).then(([e,n,t])=>((e=e.default()).use(n.default),e.use(A,{mermaid:t.default}),e))),p):(a||(a=m(j).then(e=>e.default())),d.hljs&&!o&&(o=Promise.all([a,m(w)]).then(([e,n])=>(e.use(n.default),e)),a=o),a);window.markdownAll=()=>{document.querySelectorAll(\".markdown:not(.md-done)\").forEach(async d=>{let e,n=d.textContent;d.classList.add(\"md-done\"),e=n.includes(\"```mermaid\")?{mermaid:!0,hljs:!0}:o||n.includes(\"```\")?{hljs:!0}:{};let t=(await y(e)).render(n);d.innerHTML=t})},window.appendChunk=async(d,e)=>{let n,t=document.getElementById(d),r=t.getAttribute(\"data-text\")||\"\";r+=e,t.setAttribute(\"data-text\",r),n=o||r.includes(\"```\")?{hljs:!0}:{};let l=await y(n);t.innerHTML=l.render(r)}})();\n",
       "</script>"
      ]
     },
     "metadata": {},
     "output_type": "display_data"
    }
   ],
   "source": [
    "#i \"nuget: /home/peter/work/FsChat/nuget.local\"\n",
    "#r \"nuget: FsChat.Interactive, 0.0.1\"\n",
    "\n",
    "#r \"nuget: dotenv.net, 3.2.0\"\n",
    "open dotenv.net\n",
    "let options = DotEnvOptions(envFilePaths=[| \".env\" |])\n",
    "DotEnv.Load(options)\n",
    "open FsChat"
   ]
  },
  {
   "cell_type": "code",
   "execution_count": null,
   "metadata": {
    "dotnet_interactive": {
     "language": "fsharp"
    },
    "polyglot_notebook": {
     "kernelName": "fsharp"
    }
   },
   "outputs": [
    {
     "data": {
      "text/html": [
       "<div class='markdown' ><pre>\n",
       "Is it a mammal?\n",
       "</pre></div>\n",
       "<script type='module'>window.markdownAll()</script>"
      ]
     },
     "metadata": {},
     "output_type": "display_data"
    },
    {
     "data": {
      "text/html": [
       "<div class='markdown' style='text-align:right; border-bottom: 1px solid #888;'><pre>\n",
       "Yes.\n",
       "</pre></div>\n",
       "<script type='module'>window.markdownAll()</script>"
      ]
     },
     "metadata": {},
     "output_type": "display_data"
    },
    {
     "data": {
      "text/html": [
       "<div class='markdown' ><pre>\n",
       "Is it a domesticated animal?\n",
       "</pre></div>\n",
       "<script type='module'>window.markdownAll()</script>"
      ]
     },
     "metadata": {},
     "output_type": "display_data"
    },
    {
     "data": {
      "text/html": [
       "<div class='markdown' style='text-align:right; border-bottom: 1px solid #888;'><pre>\n",
       "No.\n",
       "</pre></div>\n",
       "<script type='module'>window.markdownAll()</script>"
      ]
     },
     "metadata": {},
     "output_type": "display_data"
    },
    {
     "data": {
      "text/html": [
       "<div class='markdown' ><pre>\n",
       "Is it a carnivorous animal?\n",
       "</pre></div>\n",
       "<script type='module'>window.markdownAll()</script>"
      ]
     },
     "metadata": {},
     "output_type": "display_data"
    },
    {
     "data": {
      "text/html": [
       "<div class='markdown' style='text-align:right; border-bottom: 1px solid #888;'><pre>\n",
       "Yes.\n",
       "</pre></div>\n",
       "<script type='module'>window.markdownAll()</script>"
      ]
     },
     "metadata": {},
     "output_type": "display_data"
    },
    {
     "data": {
      "text/html": [
       "<div class='markdown' ><pre>\n",
       "Is it larger than a human?\n",
       "</pre></div>\n",
       "<script type='module'>window.markdownAll()</script>"
      ]
     },
     "metadata": {},
     "output_type": "display_data"
    },
    {
     "data": {
      "text/html": [
       "<div class='markdown' style='text-align:right; border-bottom: 1px solid #888;'><pre>\n",
       "No.\n",
       "</pre></div>\n",
       "<script type='module'>window.markdownAll()</script>"
      ]
     },
     "metadata": {},
     "output_type": "display_data"
    },
    {
     "data": {
      "text/html": [
       "<div class='markdown' ><pre>\n",
       "Is it a type of feline?\n",
       "</pre></div>\n",
       "<script type='module'>window.markdownAll()</script>"
      ]
     },
     "metadata": {},
     "output_type": "display_data"
    },
    {
     "data": {
      "text/html": [
       "<div class='markdown' style='text-align:right; border-bottom: 1px solid #888;'><pre>\n",
       "No.\n",
       "</pre></div>\n",
       "<script type='module'>window.markdownAll()</script>"
      ]
     },
     "metadata": {},
     "output_type": "display_data"
    },
    {
     "data": {
      "text/html": [
       "<div class='markdown' ><pre>\n",
       "Is it a type of canine?\n",
       "</pre></div>\n",
       "<script type='module'>window.markdownAll()</script>"
      ]
     },
     "metadata": {},
     "output_type": "display_data"
    },
    {
     "data": {
      "text/html": [
       "<div class='markdown' style='text-align:right; border-bottom: 1px solid #888;'><pre>\n",
       "Yes.\n",
       "</pre></div>\n",
       "<script type='module'>window.markdownAll()</script>"
      ]
     },
     "metadata": {},
     "output_type": "display_data"
    },
    {
     "data": {
      "text/html": [
       "<div class='markdown' ><pre>\n",
       "Is it commonly found in the wild?\n",
       "</pre></div>\n",
       "<script type='module'>window.markdownAll()</script>"
      ]
     },
     "metadata": {},
     "output_type": "display_data"
    },
    {
     "data": {
      "text/html": [
       "<div class='markdown' style='text-align:right; border-bottom: 1px solid #888;'><pre>\n",
       "Yes.\n",
       "</pre></div>\n",
       "<script type='module'>window.markdownAll()</script>"
      ]
     },
     "metadata": {},
     "output_type": "display_data"
    },
    {
     "data": {
      "text/html": [
       "<div class='markdown' ><pre>\n",
       "Is it known for living in packs?\n",
       "</pre></div>\n",
       "<script type='module'>window.markdownAll()</script>"
      ]
     },
     "metadata": {},
     "output_type": "display_data"
    },
    {
     "data": {
      "text/html": [
       "<div class='markdown' style='text-align:right; border-bottom: 1px solid #888;'><pre>\n",
       "Yes.\n",
       "</pre></div>\n",
       "<script type='module'>window.markdownAll()</script>"
      ]
     },
     "metadata": {},
     "output_type": "display_data"
    },
    {
     "data": {
      "text/html": [
       "<div class='markdown' ><pre>\n",
       "Is it a wolf?\n",
       "</pre></div>\n",
       "<script type='module'>window.markdownAll()</script>"
      ]
     },
     "metadata": {},
     "output_type": "display_data"
    },
    {
     "data": {
      "text/html": [
       "<div class='markdown' style='text-align:right; border-bottom: 1px solid #888;'><pre>\n",
       "CORRECT.\n",
       "</pre></div>\n",
       "<script type='module'>window.markdownAll()</script>"
      ]
     },
     "metadata": {},
     "output_type": "display_data"
    }
   ],
   "source": [
    "let agent1 = Chat(Gpt4o_mini)\n",
    "agent1.setContext [\n",
    "    System \"\"\"\n",
    "        You're playing the 20 questions game.\n",
    "        Your role is to 'Is it a ...' questions with Yes-or-No answers, narrow down your options\n",
    "        and guess the word that I'm thinking of.\n",
    "        ----\n",
    "        Hint: You're guessing an animal.\n",
    "    \"\"\" ]\n",
    "\n",
    "\n",
    "let agent2 = Chat(Gpt4o_mini, NotebookRenderer(style=\"text-align:right; border-bottom: 1px solid #888;\"))\n",
    "agent2.setContext [\n",
    "    System \"\"\"\n",
    "        You're playing the 20 questions game,\n",
    "        and your role is the one who thinks of a word and responds to my questions\n",
    "        with simple \"yes\" or \"no\" answers (no additional text).\n",
    "        If necessary, you can also say \"yes and no\" or \"I can’t answer that\".\n",
    "        Once I guess the word respond with “CORRECT.”\n",
    "        ----\n",
    "        The word I'll be trying to guess is: wolf.\n",
    "    \"\"\"\n",
    "]\n",
    "\n",
    "let rec play timesLeft (agentA:Chat) (agentB:Chat) (text:string) =\n",
    "    if text.Contains \"CORRECT.\" then\n",
    "        ()\n",
    "    elif timesLeft=0 then\n",
    "        printfn \"Game over\"\n",
    "    else\n",
    "        let response = agentA.send text\n",
    "        play (timesLeft-1) agentB agentA response.text\n",
    "\n",
    "play 40 agent1 agent2 \"I have word! Which word is it? Ask the first question.\""
   ]
  }
 ],
 "metadata": {
  "kernelspec": {
   "display_name": ".NET (C#)",
   "language": "C#",
   "name": ".net-csharp"
  },
  "polyglot_notebook": {
   "kernelInfo": {
    "defaultKernelName": "csharp",
    "items": [
     {
      "aliases": [],
      "name": "csharp"
     },
     {
      "aliases": [],
      "languageName": "fsharp",
      "name": "fsharp"
     },
     {
      "aliases": [
       "js"
      ],
      "languageName": "JavaScript",
      "name": "javascript"
     }
    ]
   }
  }
 },
 "nbformat": 4,
 "nbformat_minor": 2
}
