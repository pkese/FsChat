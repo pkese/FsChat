{
 "cells": [
  {
   "cell_type": "code",
   "execution_count": 1,
   "metadata": {
    "dotnet_interactive": {
     "language": "fsharp"
    },
    "polyglot_notebook": {
     "kernelName": "fsharp"
    }
   },
   "outputs": [
    {
     "data": {
      "text/html": [
       "<div><div><strong>Restore sources</strong><ul><li><span> /home/peter/work/FsChat/nuget.local</span></li></ul></div><div></div><div><strong>Installed Packages</strong><ul><li><span>dotenv.net, 3.2.0</span></li><li><span>FsChat.Interactive, 0.0.1</span></li></ul></div></div>"
      ]
     },
     "metadata": {},
     "output_type": "display_data"
    },
    {
     "data": {
      "text/plain": [
       "Loading extension script from `/home/peter/.nuget/packages/fschat.interactive/0.0.1/interactive-extensions/dotnet/extension.dib`"
      ]
     },
     "metadata": {},
     "output_type": "display_data"
    },
    {
     "data": {
      "text/html": [
       "<script type='module'>(function(){\"use strict\";const d={markdownIt:{js:\"https://cdn.jsdelivr.net/npm/markdown-it@14/+esm\"},hljs:{js:\"https://cdn.jsdelivr.net/npm/markdown-it-highlightjs@4/+esm\",css:\"https://cdn.jsdelivr.net/npm/highlight.js@11/styles/default.min.css\"},mermaid:{js:\"https://cdn.jsdelivr.net/npm/mermaid@11/+esm\"}};let v=t=>new Promise((e,n)=>{let r=document.createElement(\"script\");if(r.type=\"module\",r.src=t.js,r.onerror=n,r.onload=()=>import(t.js).then(e),document.head.appendChild(r),t.css){let l=document.createElement(\"link\");l.rel=\"stylesheet\",l.href=t.css,l.defer=!0,document.head.appendChild(l)}}),c={};function i(t){const e=t.js;if(c[e])return c[e];{let n=v(t);return c[e]=n,n}}const M=t=>new Promise(e=>{window.requestAnimationFrame(e)});async function E(t,{mermaid:e,...n}){e.initialize({securityLevel:\"loose\",...n});function r(u){return u.split(/\\s+/g)[0]}let l=0,a=t.renderer.rules.fence;function L(u,p,x,A,I){let f=u[p],w=f.info.trim(),_=w?r(w):\"\";if([\"mermaid\",\"{mermaid}\"].indexOf(_)===-1)return a!==void 0?a(u,p,x,A,I):\"\";let o=document.createElement(\"div\");o.id=`mermaid-${l++}`,document.body.appendChild(o),o.style.display=\"none\";const y=`mermaid-${l++}`;return M().then(()=>e.render(o.id,f.content)).then(({svg:H,bindingFunc:k})=>{let g=document.getElementById(y);g.innerHTML=H,k&&k(g),o.remove()}),`<div id='${y}' class='mermaid' style='background-color:#eee;'>\n",
       "<pre>\n",
       "${f.content}\n",
       "</pre>\n",
       "</div>`}t.renderer.rules.fence=L}let s=null,m=null,h=null,j=t=>t.mermaid?(h||(h=Promise.all([i(d.markdownIt),i(d.hljs),i(d.mermaid)]).then(([e,n,r])=>(e=e.default(),e.use(n.default),e.use(E,{mermaid:r.default}),e))),h):(s||(s=i(d.markdownIt).then(e=>e.default())),t.hljs&&!m&&(m=Promise.all([s,i(d.hljs)]).then(([e,n])=>(e.use(n.default),e)),s=m),s);window.markdownAll=()=>{document.querySelectorAll(\".markdown:not(.md-done)\").forEach(async t=>{let e=t.textContent;t.classList.add(\"md-done\");let n;e.includes(\"```mermaid\")?n={mermaid:!0,hljs:!0}:m||e.includes(\"```\")?n={hljs:!0}:n={};let l=(await j(n)).render(e);t.innerHTML=l})},window.appendChunk=async(t,e)=>{let n=document.getElementById(t),r=n.getAttribute(\"data-text\")||\"\";r=r+e,n.setAttribute(\"data-text\",r);let l;m||r.includes(\"```\")?l={hljs:!0}:l={};let a=await j(l);n.innerHTML=a.render(r)}})();\n",
       "</script>"
      ]
     },
     "metadata": {},
     "output_type": "display_data"
    }
   ],
   "source": [
    "#i \"nuget: /home/peter/work/FsChat/nuget.local\"\n",
    "#r \"nuget: FsChat.Interactive, 0.0.1\"\n",
    "\n",
    "#r \"nuget: dotenv.net, 3.2.0\"\n",
    "open dotenv.net\n",
    "let options = DotEnvOptions(envFilePaths=[| \".env\" |])\n",
    "DotEnv.Load(options)\n",
    "\n",
    "let chat = Chat(Gpt4o_mini)"
   ]
  },
  {
   "cell_type": "code",
   "execution_count": 2,
   "metadata": {
    "dotnet_interactive": {
     "language": "fsharp"
    },
    "polyglot_notebook": {
     "kernelName": "fsharp"
    }
   },
   "outputs": [
    {
     "data": {
      "text/html": [
       "<div class='markdown'><pre>\n",
       "# Recent Eurovision Contest Winners\n",
       "\n",
       "The most recent winner of the Eurovision Song Contest is *Loreen* from *Sweden*.\n",
       "\n",
       "| Year | Country | Artist         | Song title                |\n",
       "|------|---------|----------------|---------------------------|\n",
       "| 2023 | *Sweden*  | *Loreen*       | \"Tattoo\"                  |\n",
       "| 2022 | *Ukraine* | *Kalush Orchestra* | \"Stefania\"               |\n",
       "| 2021 | *Italy*   | *Måneskin*     | \"Zitti e buoni\"          |\n",
       "| 2020 | N/A     | N/A            | N/A (Cancelled due to COVID-19) |\n",
       "| 2019 | *Netherlands* | *Duncan Laurence* | \"Arcade\"                |\n",
       "| 2018 | *Israel*  | *Netta*        | \"Toy\"                     |\n",
       "| 2017 | *Portugal* | *Salvador Sobral* | \"Amar pelos dois\"       |\n",
       "| 2016 | *Ukraine* | *Jamala*       | \"1944\"                    |\n",
       "| 2015 | *Sweden*  | *Måns Zelmerlöw* | \"Heroes\"                 |\n",
       "| 2014 | *Austria* | *Conchita Wurst* | \"Rise Like a Phoenix\"    |\n",
       "| 2013 | *Denmark* | *Emmelie de Forest* | \"Only Teardrops\"       |\n",
       "| 2012 | *Sweden*  | *Loreen*       | \"Euphoria\"                |\n",
       "</pre></div>\n",
       "<script type='module'>window.markdownAll()</script>"
      ]
     },
     "metadata": {},
     "output_type": "display_data"
    },
    {
     "data": {
      "text/html": [
       "<details class=\"dni-treeview\"><summary><span class=\"dni-code-hint\"><code>{ result = Ok (Stop, { created = 10/4/2024 10:56:17 AM\\n                       requestedModel = &quot;gpt-4o-mini&quot;\\n                       actualModel = &quot;gpt-4o-mini-2024-07-18&quot;\\n                       fingerprint = Some &quot;fp_f85bea6784&quot;\\n                       nTokens = 335\\n                       durati...</code></span></summary><div><table><thead><tr></tr></thead><tbody><tr><td>result</td><td><details class=\"dni-treeview\"><summary><span class=\"dni-code-hint\"><code>Microsoft.FSharp.Core.FSharpResult`2[System.Tuple`2[Gpt.Types+FinishReason,Gpt.Types+GptStats],System.String]</code></span></summary><div><table><thead><tr></tr></thead><tbody><tr><td>ResultValue</td><td><details class=\"dni-treeview\"><summary><span class=\"dni-code-hint\"><code>(Stop, { created = 10/4/2024 10:56:17 AM\\n  requestedModel = &quot;gpt-4o-mini&quot;\\n  actualModel = &quot;gpt-4o-mini-2024-07-18&quot;\\n  fingerprint = Some &quot;fp_f85bea6784&quot;\\n  nTokens = 335\\n  durationMs = 5356 })</code></span></summary><div><table><thead><tr></tr></thead><tbody><tr><td>Item1</td><td><details class=\"dni-treeview\"><summary><span class=\"dni-code-hint\"><code>Stop</code></span></summary><div><table><thead><tr></tr></thead><tbody></tbody></table></div></details></td></tr><tr><td>Item2</td><td><details class=\"dni-treeview\"><summary><span class=\"dni-code-hint\"><code>{ created = 10/4/2024 10:56:17 AM\\n  requestedModel = &quot;gpt-4o-mini&quot;\\n  actualModel = &quot;gpt-4o-mini-2024-07-18&quot;\\n  fingerprint = Some &quot;fp_f85bea6784&quot;\\n  nTokens = 335\\n  durationMs = 5356 }</code></span></summary><div><table><thead><tr></tr></thead><tbody><tr><td>created</td><td><span>2024-10-04 10:56:17Z</span></td></tr><tr><td>requestedModel</td><td><div class=\"dni-plaintext\"><pre>gpt-4o-mini</pre></div></td></tr><tr><td>actualModel</td><td><div class=\"dni-plaintext\"><pre>gpt-4o-mini-2024-07-18</pre></div></td></tr><tr><td>fingerprint</td><td><details class=\"dni-treeview\"><summary><span class=\"dni-code-hint\"><code>Some(fp_f85bea6784)</code></span></summary><div><table><thead><tr></tr></thead><tbody><tr><td>Value</td><td><div class=\"dni-plaintext\"><pre>fp_f85bea6784</pre></div></td></tr></tbody></table></div></details></td></tr><tr><td>nTokens</td><td><div class=\"dni-plaintext\"><pre>335</pre></div></td></tr><tr><td>durationMs</td><td><div class=\"dni-plaintext\"><pre>5356</pre></div></td></tr></tbody></table></div></details></td></tr></tbody></table></div></details></td></tr><tr><td>ErrorValue</td><td><div class=\"dni-plaintext\"><pre>&lt;null&gt;</pre></div></td></tr></tbody></table></div></details></td></tr><tr><td>text</td><td><div class=\"dni-plaintext\"><pre># Recent Eurovision Contest Winners\n",
       "\n",
       "The most recent winner of the Eurovision Song Contest is *Loreen* from *Sweden*.\n",
       "\n",
       "| Year | Country | Artist         | Song title                |\n",
       "|------|---------|----------------|---------------------------|\n",
       "| 2023 | *Sweden*  | *Loreen*       | &quot;Tattoo&quot;                  |\n",
       "| 2022 | *Ukraine* | *Kalush Orchestra* | &quot;Stefania&quot;               |\n",
       "| 2021 | *Italy*   | *M&#229;neskin*     | &quot;Zitti e buoni&quot;          |\n",
       "| 2020 | N/A     | N/A            | N/A (Cancelled due to COVID-19) |\n",
       "| 2019 | *Netherlands* | *Duncan Laurence* | &quot;Arcade&quot;                |\n",
       "| 2018 | *Israel*  | *Netta*        | &quot;Toy&quot;                     |\n",
       "| 2017 | *Portugal* | *Salvador Sobral* | &quot;Amar pelos dois&quot;       |\n",
       "| 2016 | *Ukraine* | *Jamala*       | &quot;1944&quot;                    |\n",
       "| 2015 | *Sweden*  | *M&#229;ns Zelmerl&#246;w* | &quot;Heroes&quot;                 |\n",
       "| 2014 | *Austria* | *Conchita Wurst* | &quot;Rise Like a Phoenix&quot;    |\n",
       "| 2013 | *Denmark* | *Emmelie de Forest* | &quot;Only Teardrops&quot;       |\n",
       "| 2012 | *Sweden*  | *Loreen*       | &quot;Euphoria&quot;                |</pre></div></td></tr></tbody></table></div></details><style>\r\n",
       ".dni-code-hint {\r\n",
       "    font-style: italic;\r\n",
       "    overflow: hidden;\r\n",
       "    white-space: nowrap;\r\n",
       "}\r\n",
       ".dni-treeview {\r\n",
       "    white-space: nowrap;\r\n",
       "}\r\n",
       ".dni-treeview td {\r\n",
       "    vertical-align: top;\r\n",
       "    text-align: start;\r\n",
       "}\r\n",
       "details.dni-treeview {\r\n",
       "    padding-left: 1em;\r\n",
       "}\r\n",
       "table td {\r\n",
       "    text-align: start;\r\n",
       "}\r\n",
       "table tr { \r\n",
       "    vertical-align: top; \r\n",
       "    margin: 0em 0px;\r\n",
       "}\r\n",
       "table tr td pre \r\n",
       "{ \r\n",
       "    vertical-align: top !important; \r\n",
       "    margin: 0em 0px !important;\r\n",
       "} \r\n",
       "table th {\r\n",
       "    text-align: start;\r\n",
       "}\r\n",
       "</style>"
      ]
     },
     "metadata": {},
     "output_type": "display_data"
    }
   ],
   "source": [
    "chat.clear()\n",
    "chat.send [\n",
    "    System \"\"\"\n",
    "        You're a helpful assistant.\n",
    "        You respond in Markdown (or Markdown code blocks) unless instructed otherwise.\n",
    "        Depending on content, render responses as Markdown tables where applicable.\n",
    "        Skip politeness phrases or excuses at the beginning of responses. Start directly with the main content.\n",
    "    \"\"\"\n",
    "    User \"\"\"\n",
    "        Who were the winners in recent 12 years of `Eurovision` contest?\n",
    "        Render any named entity that is appearing on `Wikipedia` in italic.\n",
    "        Mark any occasion when the contest wasn't held with \"N/A\" + reason.\n",
    "\n",
    "        Start response with a short title,\n",
    "        Add a single line of explanation e.g. tell who was the most recent winner.\n",
    "        then render a Markdown table consisting of following columns:\n",
    "        | Year | Country | Artist | Song title |\n",
    "    \"\"\"\n",
    "]"
   ]
  },
  {
   "cell_type": "code",
   "execution_count": 3,
   "metadata": {
    "dotnet_interactive": {
     "language": "fsharp"
    },
    "polyglot_notebook": {
     "kernelName": "fsharp"
    }
   },
   "outputs": [
    {
     "name": "stdout",
     "output_type": "stream",
     "text": [
      "{ role = \"system\"\n",
      "  content =\n",
      "   \"You're a helpful assistant.\n",
      "You respond in Markdown (or Markdown code blocks) unless instructed otherwise.\n",
      "Depending on content, render responses as Markdown tables where applicable.\n",
      "Skip politeness phrases or excuses at the beginning of responses. Start directly with the main content.\" }\n",
      "{ role = \"user\"\n",
      "  content =\n",
      "   \"        Who were the winners in recent 12 years of `Eurovision` contest?\n",
      "        Render any named entity that is appearing on `Wikipedia` in italic.\n",
      "        Mark any occasion when the contest wasn't held with \"N/A\" + reason.\n",
      "\n",
      "        Start response with a short title,\n",
      "        Add a single line of explanation e.g. tell who was the most recent winner.\n",
      "        then render a Markdown table consisting of following columns:\n",
      "        | Year | Country | Artist | Song title |\n",
      "\" }\n",
      "{ role = \"assistant\"\n",
      "  content =\n",
      "   \"# Recent Eurovision Contest Winners\n",
      "\n",
      "The most recent winner of the Eurovision Song Contest is *Loreen* from *Sweden*.\n",
      "\n",
      "| Year | Country | Artist         | Song title                |\n",
      "|------|---------|----------------|---------------------------|\n",
      "| 2023 | *Sweden*  | *Loreen*       | \"Tattoo\"                  |\n",
      "| 2022 | *Ukraine* | *Kalush Orchestra* | \"Stefania\"               |\n",
      "| 2021 | *Italy*   | *Måneskin*     | \"Zitti e buoni\"          |\n",
      "| 2020 | N/A     | N/A            | N/A (Cancelled due to COVID-19) |\n",
      "| 2019 | *Netherlands* | *Duncan Laurence* | \"Arcade\"                |\n",
      "| 2018 | *Israel*  | *Netta*        | \"Toy\"                     |\n",
      "| 2017 | *Portugal* | *Salvador Sobral* | \"Amar pelos dois\"       |\n",
      "| 2016 | *Ukraine* | *Jamala*       | \"1944\"                    |\n",
      "| 2015 | *Sweden*  | *Måns Zelmerlöw* | \"Heroes\"                 |\n",
      "| 2014 | *Austria* | *Conchita Wurst* | \"Rise Like a Phoenix\"    |\n",
      "| 2013 | *Denmark* | *Emmelie de Forest* | \"Only Teardrops\"       |\n",
      "| 2012 | *Sweden*  | *Loreen*       | \"Euphoria\"                |\n",
      "\" }\n"
     ]
    }
   ],
   "source": [
    "for c in chat.context do printfn \"%A\" (Prompt.toMsg c)"
   ]
  },
  {
   "cell_type": "code",
   "execution_count": null,
   "metadata": {
    "dotnet_interactive": {
     "language": "fsharp"
    },
    "polyglot_notebook": {
     "kernelName": "fsharp"
    }
   },
   "outputs": [],
   "source": [
    "//chat.deleteLastInteracton()"
   ]
  },
  {
   "cell_type": "code",
   "execution_count": 3,
   "metadata": {
    "dotnet_interactive": {
     "language": "fsharp"
    },
    "polyglot_notebook": {
     "kernelName": "fsharp"
    }
   },
   "outputs": [
    {
     "data": {
      "text/html": [
       "<div class='markdown'><pre>\n",
       "```mermaid\n",
       "graph TD\n",
       "    SE[Sweden]\n",
       "    UA[Ukraine]\n",
       "    IT[Italy]\n",
       "    NL[Netherlands]\n",
       "    IL[Israel]\n",
       "    PT[Portugal]\n",
       "    AT[Austria]\n",
       "    DK[Denmark]\n",
       "    NA[N/A: Cancelled due to COVID-19]\n",
       "\n",
       "    DK -->|2013| SE\n",
       "    SE -->|2014| AT\n",
       "    AT -->|2015| SE\n",
       "    SE -->|2016| UA\n",
       "    UA -->|2017| PT\n",
       "    PT -->|2018| IL\n",
       "    IL -->|2019| NL\n",
       "    NL -->|2020| NA\n",
       "    NA -->|2021| IT\n",
       "    IT -->|2022| UA\n",
       "    UA -->|2023| SE\n",
       "```\n",
       "</pre></div>\n",
       "<script type='module'>window.markdownAll()</script>"
      ]
     },
     "metadata": {},
     "output_type": "display_data"
    },
    {
     "data": {
      "text/html": [
       "<details class=\"dni-treeview\"><summary><span class=\"dni-code-hint\"><code>{ result = Ok (Stop, { created = 10/4/2024 10:56:28 AM\\n                       requestedModel = &quot;gpt-4o&quot;\\n                       actualModel = &quot;gpt-4o-2024-08-06&quot;\\n                       fingerprint = Some &quot;fp_2f406b9113&quot;\\n                       nTokens = 165\\n                       durationMs = 207...</code></span></summary><div><table><thead><tr></tr></thead><tbody><tr><td>result</td><td><details class=\"dni-treeview\"><summary><span class=\"dni-code-hint\"><code>Microsoft.FSharp.Core.FSharpResult`2[System.Tuple`2[Gpt.Types+FinishReason,Gpt.Types+GptStats],System.String]</code></span></summary><div><table><thead><tr></tr></thead><tbody><tr><td>ResultValue</td><td><details class=\"dni-treeview\"><summary><span class=\"dni-code-hint\"><code>(Stop, { created = 10/4/2024 10:56:28 AM\\n  requestedModel = &quot;gpt-4o&quot;\\n  actualModel = &quot;gpt-4o-2024-08-06&quot;\\n  fingerprint = Some &quot;fp_2f406b9113&quot;\\n  nTokens = 165\\n  durationMs = 2073 })</code></span></summary><div><table><thead><tr></tr></thead><tbody><tr><td>Item1</td><td><details class=\"dni-treeview\"><summary><span class=\"dni-code-hint\"><code>Stop</code></span></summary><div><table><thead><tr></tr></thead><tbody></tbody></table></div></details></td></tr><tr><td>Item2</td><td><details class=\"dni-treeview\"><summary><span class=\"dni-code-hint\"><code>{ created = 10/4/2024 10:56:28 AM\\n  requestedModel = &quot;gpt-4o&quot;\\n  actualModel = &quot;gpt-4o-2024-08-06&quot;\\n  fingerprint = Some &quot;fp_2f406b9113&quot;\\n  nTokens = 165\\n  durationMs = 2073 }</code></span></summary><div><table><thead><tr></tr></thead><tbody><tr><td>created</td><td><span>2024-10-04 10:56:28Z</span></td></tr><tr><td>requestedModel</td><td><div class=\"dni-plaintext\"><pre>gpt-4o</pre></div></td></tr><tr><td>actualModel</td><td><div class=\"dni-plaintext\"><pre>gpt-4o-2024-08-06</pre></div></td></tr><tr><td>fingerprint</td><td><details class=\"dni-treeview\"><summary><span class=\"dni-code-hint\"><code>Some(fp_2f406b9113)</code></span></summary><div><table><thead><tr></tr></thead><tbody><tr><td>Value</td><td><div class=\"dni-plaintext\"><pre>fp_2f406b9113</pre></div></td></tr></tbody></table></div></details></td></tr><tr><td>nTokens</td><td><div class=\"dni-plaintext\"><pre>165</pre></div></td></tr><tr><td>durationMs</td><td><div class=\"dni-plaintext\"><pre>2073</pre></div></td></tr></tbody></table></div></details></td></tr></tbody></table></div></details></td></tr><tr><td>ErrorValue</td><td><div class=\"dni-plaintext\"><pre>&lt;null&gt;</pre></div></td></tr></tbody></table></div></details></td></tr><tr><td>text</td><td><div class=\"dni-plaintext\"><pre>```mermaid\n",
       "graph TD\n",
       "    SE[Sweden]\n",
       "    UA[Ukraine]\n",
       "    IT[Italy]\n",
       "    NL[Netherlands]\n",
       "    IL[Israel]\n",
       "    PT[Portugal]\n",
       "    AT[Austria]\n",
       "    DK[Denmark]\n",
       "    NA[N/A: Cancelled due to COVID-19]\n",
       "\n",
       "    DK --&gt;|2013| SE\n",
       "    SE --&gt;|2014| AT\n",
       "    AT --&gt;|2015| SE\n",
       "    SE --&gt;|2016| UA\n",
       "    UA --&gt;|2017| PT\n",
       "    PT --&gt;|2018| IL\n",
       "    IL --&gt;|2019| NL\n",
       "    NL --&gt;|2020| NA\n",
       "    NA --&gt;|2021| IT\n",
       "    IT --&gt;|2022| UA\n",
       "    UA --&gt;|2023| SE\n",
       "```</pre></div></td></tr></tbody></table></div></details><style>\r\n",
       ".dni-code-hint {\r\n",
       "    font-style: italic;\r\n",
       "    overflow: hidden;\r\n",
       "    white-space: nowrap;\r\n",
       "}\r\n",
       ".dni-treeview {\r\n",
       "    white-space: nowrap;\r\n",
       "}\r\n",
       ".dni-treeview td {\r\n",
       "    vertical-align: top;\r\n",
       "    text-align: start;\r\n",
       "}\r\n",
       "details.dni-treeview {\r\n",
       "    padding-left: 1em;\r\n",
       "}\r\n",
       "table td {\r\n",
       "    text-align: start;\r\n",
       "}\r\n",
       "table tr { \r\n",
       "    vertical-align: top; \r\n",
       "    margin: 0em 0px;\r\n",
       "}\r\n",
       "table tr td pre \r\n",
       "{ \r\n",
       "    vertical-align: top !important; \r\n",
       "    margin: 0em 0px !important;\r\n",
       "} \r\n",
       "table th {\r\n",
       "    text-align: start;\r\n",
       "}\r\n",
       "</style>"
      ]
     },
     "metadata": {},
     "output_type": "display_data"
    }
   ],
   "source": [
    "chat.model <- Gpt4o // switch to amore powerful model for this task\n",
    "chat.send \"\"\"\n",
    "Given the above table, render a Mermaid directed graph with:\n",
    "- nodes: countries that won the contest (labeled with country name)\n",
    "- edges: time sequence of wins representing how the 'trophy' moved from one country to another (labeled with year)\n",
    "\n",
    "Example:\n",
    "\n",
    "```mermaid\n",
    "graph TD\n",
    "    DK[Denmark]\n",
    "    AT[Austria]\n",
    "    DK -->|2014| AT\n",
    "```\n",
    "\n",
    "Any N/A node should be assigned country code NA and labeled `N/A: ${reason explanation}`\n",
    "\n",
    "Make sure each country appears exactly once in the graph:\n",
    "If a country won the competition multiple times, the country's node should have multiple incoming and outgoing edges.\n",
    "\"\"\""
   ]
  },
  {
   "cell_type": "code",
   "execution_count": 5,
   "metadata": {
    "dotnet_interactive": {
     "language": "fsharp"
    },
    "polyglot_notebook": {
     "kernelName": "fsharp"
    }
   },
   "outputs": [
    {
     "data": {
      "text/html": [
       "<div class='markdown'><pre>\n",
       "```json\n",
       "[\n",
       "  {\n",
       "    \"name\": \"Luke Skywalker\",\n",
       "    \"species\": \"Human\",\n",
       "    \"homeworld\": \"Tatooine\",\n",
       "    \"affiliation\": \"Rebel Alliance\",\n",
       "    \"lightsaber_color\": \"Blue\"\n",
       "  },\n",
       "  {\n",
       "    \"name\": \"Darth Vader\",\n",
       "    \"species\": \"Human\",\n",
       "    \"homeworld\": \"Tatooine\",\n",
       "    \"affiliation\": \"Galactic Empire\",\n",
       "    \"lightsaber_color\": \"Red\"\n",
       "  }\n",
       "]\n",
       "```\n",
       "</pre></div>\n",
       "<script type='module'>window.markdownAll()</script>"
      ]
     },
     "metadata": {},
     "output_type": "display_data"
    }
   ],
   "source": [
    "let jsonR = chat.send \"render some sample json document (e.g. two starwars characters) wrapped in markdown json code wrapper.\""
   ]
  },
  {
   "cell_type": "code",
   "execution_count": null,
   "metadata": {
    "dotnet_interactive": {
     "language": "fsharp"
    },
    "polyglot_notebook": {
     "kernelName": "fsharp"
    }
   },
   "outputs": [
    {
     "data": {
      "text/html": [
       "<details class=\"dni-treeview\"><summary><span class=\"dni-code-hint\"><code>{ result = Ok (Stop, { created = 10/4/2024 10:56:33 AM\\n                       requestedModel = &quot;gpt-4o&quot;\\n                       actualModel = &quot;gpt-4o-2024-08-06&quot;\\n                       fingerprint = Some &quot;fp_2f406b9113&quot;\\n                       nTokens = 105\\n                       durationMs = 151...</code></span></summary><div><table><thead><tr></tr></thead><tbody><tr><td>result</td><td><details class=\"dni-treeview\"><summary><span class=\"dni-code-hint\"><code>Microsoft.FSharp.Core.FSharpResult`2[System.Tuple`2[Gpt.Types+FinishReason,Gpt.Types+GptStats],System.String]</code></span></summary><div><table><thead><tr></tr></thead><tbody><tr><td>ResultValue</td><td><details class=\"dni-treeview\"><summary><span class=\"dni-code-hint\"><code>(Stop, { created = 10/4/2024 10:56:33 AM\\n  requestedModel = &quot;gpt-4o&quot;\\n  actualModel = &quot;gpt-4o-2024-08-06&quot;\\n  fingerprint = Some &quot;fp_2f406b9113&quot;\\n  nTokens = 105\\n  durationMs = 1515 })</code></span></summary><div><table><thead><tr></tr></thead><tbody><tr><td>Item1</td><td><details class=\"dni-treeview\"><summary><span class=\"dni-code-hint\"><code>Stop</code></span></summary><div><table><thead><tr></tr></thead><tbody></tbody></table></div></details></td></tr><tr><td>Item2</td><td><details class=\"dni-treeview\"><summary><span class=\"dni-code-hint\"><code>{ created = 10/4/2024 10:56:33 AM\\n  requestedModel = &quot;gpt-4o&quot;\\n  actualModel = &quot;gpt-4o-2024-08-06&quot;\\n  fingerprint = Some &quot;fp_2f406b9113&quot;\\n  nTokens = 105\\n  durationMs = 1515 }</code></span></summary><div><table><thead><tr></tr></thead><tbody><tr><td>created</td><td><span>2024-10-04 10:56:33Z</span></td></tr><tr><td>requestedModel</td><td><div class=\"dni-plaintext\"><pre>gpt-4o</pre></div></td></tr><tr><td>actualModel</td><td><div class=\"dni-plaintext\"><pre>gpt-4o-2024-08-06</pre></div></td></tr><tr><td>fingerprint</td><td><details class=\"dni-treeview\"><summary><span class=\"dni-code-hint\"><code>Some(fp_2f406b9113)</code></span></summary><div><table><thead><tr></tr></thead><tbody><tr><td>Value</td><td><div class=\"dni-plaintext\"><pre>fp_2f406b9113</pre></div></td></tr></tbody></table></div></details></td></tr><tr><td>nTokens</td><td><div class=\"dni-plaintext\"><pre>105</pre></div></td></tr><tr><td>durationMs</td><td><div class=\"dni-plaintext\"><pre>1515</pre></div></td></tr></tbody></table></div></details></td></tr></tbody></table></div></details></td></tr><tr><td>ErrorValue</td><td><div class=\"dni-plaintext\"><pre>&lt;null&gt;</pre></div></td></tr></tbody></table></div></details></td></tr><tr><td>text</td><td><div class=\"dni-plaintext\"><pre>```json\n",
       "[\n",
       "  {\n",
       "    &quot;name&quot;: &quot;Luke Skywalker&quot;,\n",
       "    &quot;species&quot;: &quot;Human&quot;,\n",
       "    &quot;homeworld&quot;: &quot;Tatooine&quot;,\n",
       "    &quot;affiliation&quot;: &quot;Rebel Alliance&quot;,\n",
       "    &quot;lightsaber_color&quot;: &quot;Blue&quot;\n",
       "  },\n",
       "  {\n",
       "    &quot;name&quot;: &quot;Darth Vader&quot;,\n",
       "    &quot;species&quot;: &quot;Human&quot;,\n",
       "    &quot;homeworld&quot;: &quot;Tatooine&quot;,\n",
       "    &quot;affiliation&quot;: &quot;Galactic Empire&quot;,\n",
       "    &quot;lightsaber_color&quot;: &quot;Red&quot;\n",
       "  }\n",
       "]\n",
       "```</pre></div></td></tr></tbody></table></div></details><style>\r\n",
       ".dni-code-hint {\r\n",
       "    font-style: italic;\r\n",
       "    overflow: hidden;\r\n",
       "    white-space: nowrap;\r\n",
       "}\r\n",
       ".dni-treeview {\r\n",
       "    white-space: nowrap;\r\n",
       "}\r\n",
       ".dni-treeview td {\r\n",
       "    vertical-align: top;\r\n",
       "    text-align: start;\r\n",
       "}\r\n",
       "details.dni-treeview {\r\n",
       "    padding-left: 1em;\r\n",
       "}\r\n",
       "table td {\r\n",
       "    text-align: start;\r\n",
       "}\r\n",
       "table tr { \r\n",
       "    vertical-align: top; \r\n",
       "    margin: 0em 0px;\r\n",
       "}\r\n",
       "table tr td pre \r\n",
       "{ \r\n",
       "    vertical-align: top !important; \r\n",
       "    margin: 0em 0px !important;\r\n",
       "} \r\n",
       "table th {\r\n",
       "    text-align: start;\r\n",
       "}\r\n",
       "</style>"
      ]
     },
     "metadata": {},
     "output_type": "display_data"
    }
   ],
   "source": [
    "jsonR"
   ]
  }
 ],
 "metadata": {
  "kernelspec": {
   "display_name": ".NET (C#)",
   "language": "C#",
   "name": ".net-csharp"
  },
  "polyglot_notebook": {
   "kernelInfo": {
    "defaultKernelName": "csharp",
    "items": [
     {
      "aliases": [],
      "name": "csharp"
     },
     {
      "aliases": [],
      "languageName": "fsharp",
      "name": "fsharp"
     },
     {
      "aliases": [
       "js"
      ],
      "languageName": "JavaScript",
      "name": "javascript"
     }
    ]
   }
  }
 },
 "nbformat": 4,
 "nbformat_minor": 2
}
