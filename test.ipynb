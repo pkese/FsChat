{
 "cells": [
  {
   "cell_type": "code",
   "execution_count": 1,
   "metadata": {
    "dotnet_interactive": {
     "language": "fsharp"
    },
    "polyglot_notebook": {
     "kernelName": "fsharp"
    }
   },
   "outputs": [
    {
     "data": {
      "text/html": [
       "<div><div><strong>Restore sources</strong><ul><li><span> /home/peter/work/FsChat/nuget.local</span></li></ul></div><div></div><div><strong>Installed Packages</strong><ul><li><span>dotenv.net, 3.2.0</span></li><li><span>FsChat.Interactive, 0.1.0-beta1</span></li></ul></div></div>"
      ]
     },
     "metadata": {},
     "output_type": "display_data"
    },
    {
     "data": {
      "text/plain": [
       "Loading extension script from `/home/peter/.nuget/packages/fschat.interactive/0.1.0-beta1/interactive-extensions/dotnet/extension.dib`"
      ]
     },
     "metadata": {},
     "output_type": "display_data"
    },
    {
     "data": {
      "text/plain": [
       "FsChat is ready."
      ]
     },
     "metadata": {},
     "output_type": "display_data"
    }
   ],
   "source": [
    "#r \"nuget: FsChat.Interactive, 0.1.0-beta1\"\n",
    "\n",
    "#r \"nuget: dotenv.net, 3.2.0\"\n",
    "open dotenv.net\n",
    "let options = DotEnvOptions(envFilePaths=[| \".env\" |])\n",
    "DotEnv.Load(options)\n",
    "\n",
    "open FsChat\n",
    "let chat = Chat(Gpt4o_mini)"
   ]
  },
  {
   "cell_type": "code",
   "execution_count": 2,
   "metadata": {
    "dotnet_interactive": {
     "language": "fsharp"
    },
    "polyglot_notebook": {
     "kernelName": "fsharp"
    }
   },
   "outputs": [
    {
     "data": {
      "text/html": [
       "<div class='chat-response md-blk'><div ><h1>Recent Eurovision Contest Winners</h1>\n",
       "<p>The most recent winner of the Eurovision Song Contest is <em>Loreen</em> from <em>Sweden</em>.</p>\n",
       "<table>\n",
       "<thead>\n",
       "<tr>\n",
       "<th>Year</th><th>Country</th><th>Artist</th><th>Song title</th>\n",
       "</tr>\n",
       "</thead>\n",
       "<tbody>\n",
       "<tr>\n",
       "<td>2023</td><td><em>Sweden</em></td><td><em>Loreen</em></td><td>&quot;Tattoo&quot;</td>\n",
       "</tr><tr>\n",
       "<td>2022</td><td><em>Ukraine</em></td><td><em>Kalush Orchestra</em></td><td>&quot;Stefania&quot;</td>\n",
       "</tr><tr>\n",
       "<td>2021</td><td><em>Italy</em></td><td><em>Måneskin</em></td><td>&quot;Zitti e buoni&quot;</td>\n",
       "</tr><tr>\n",
       "<td>2020</td><td>N/A</td><td>N/A</td><td>N/A (Cancelled due to COVID-19)</td>\n",
       "</tr><tr>\n",
       "<td>2019</td><td><em>Netherlands</em></td><td><em>Duncan Laurence</em></td><td>&quot;Arcade&quot;</td>\n",
       "</tr><tr>\n",
       "<td>2018</td><td><em>Israel</em></td><td><em>Netta</em></td><td>&quot;Toy&quot;</td>\n",
       "</tr><tr>\n",
       "<td>2017</td><td><em>Portugal</em></td><td><em>Salvador Sobral</em></td><td>&quot;Amar pelos dois&quot;</td>\n",
       "</tr><tr>\n",
       "<td>2016</td><td><em>Ukraine</em></td><td><em>Jamala</em></td><td>&quot;1944&quot;</td>\n",
       "</tr><tr>\n",
       "<td>2015</td><td><em>Sweden</em></td><td><em>Måns Zelmerlöw</em></td><td>&quot;Heroes&quot;</td>\n",
       "</tr><tr>\n",
       "<td>2014</td><td><em>Austria</em></td><td><em>Conchita Wurst</em></td><td>&quot;Rise Like a Phoenix&quot;</td>\n",
       "</tr><tr>\n",
       "<td>2013</td><td><em>Denmark</em></td><td><em>Emmelie de Forest</em></td><td>&quot;Only Teardrops&quot;</td>\n",
       "</tr><tr>\n",
       "<td>2012</td><td><em>Sweden</em></td><td><em>Loreen</em></td><td>&quot;Euphoria&quot;</td>\n",
       "</tr><tr>\n",
       "<td>2011</td><td><em>Azerbaijan</em></td><td><em>Ell &amp; Nikki</em></td><td>&quot;Running Scared&quot;</td>\n",
       "</tr>\n",
       "</tbody>\n",
       "</table>\n",
       "</div></div>"
      ]
     },
     "metadata": {},
     "output_type": "display_data"
    },
    {
     "data": {
      "text/html": [
       "<details class=\"dni-treeview\"><summary><span class=\"dni-code-hint\"><code>{ result = Ok (Stop, { created = 10/6/2024 6:17:46 PM\\n                       requestedModel = &quot;gpt-4o-mini&quot;\\n                       actualModel = &quot;gpt-4o-mini-2024-07-18&quot;\\n                       fingerprint = Some &quot;fp_f85bea6784&quot;\\n                       nTokens = 360\\n                       duratio...</code></span></summary><div><table><thead><tr></tr></thead><tbody><tr><td>result</td><td><details class=\"dni-treeview\"><summary><span class=\"dni-code-hint\"><code>Microsoft.FSharp.Core.FSharpResult`2[System.Tuple`2[FsChat.Types+FinishReason,FsChat.Types+GptStats],System.String]</code></span></summary><div><table><thead><tr></tr></thead><tbody><tr><td>ResultValue</td><td><details class=\"dni-treeview\"><summary><span class=\"dni-code-hint\"><code>(Stop, { created = 10/6/2024 6:17:46 PM\\n  requestedModel = &quot;gpt-4o-mini&quot;\\n  actualModel = &quot;gpt-4o-mini-2024-07-18&quot;\\n  fingerprint = Some &quot;fp_f85bea6784&quot;\\n  nTokens = 360\\n  durationMs = 3886 })</code></span></summary><div><table><thead><tr></tr></thead><tbody><tr><td>Item1</td><td><details class=\"dni-treeview\"><summary><span class=\"dni-code-hint\"><code>Stop</code></span></summary><div><table><thead><tr></tr></thead><tbody></tbody></table></div></details></td></tr><tr><td>Item2</td><td><details class=\"dni-treeview\"><summary><span class=\"dni-code-hint\"><code>{ created = 10/6/2024 6:17:46 PM\\n  requestedModel = &quot;gpt-4o-mini&quot;\\n  actualModel = &quot;gpt-4o-mini-2024-07-18&quot;\\n  fingerprint = Some &quot;fp_f85bea6784&quot;\\n  nTokens = 360\\n  durationMs = 3886 }</code></span></summary><div><table><thead><tr></tr></thead><tbody><tr><td>created</td><td><span>2024-10-06 18:17:46Z</span></td></tr><tr><td>requestedModel</td><td><div class=\"dni-plaintext\"><pre>gpt-4o-mini</pre></div></td></tr><tr><td>actualModel</td><td><div class=\"dni-plaintext\"><pre>gpt-4o-mini-2024-07-18</pre></div></td></tr><tr><td>fingerprint</td><td><details class=\"dni-treeview\"><summary><span class=\"dni-code-hint\"><code>Some(fp_f85bea6784)</code></span></summary><div><table><thead><tr></tr></thead><tbody><tr><td>Value</td><td><div class=\"dni-plaintext\"><pre>fp_f85bea6784</pre></div></td></tr></tbody></table></div></details></td></tr><tr><td>nTokens</td><td><div class=\"dni-plaintext\"><pre>360</pre></div></td></tr><tr><td>durationMs</td><td><div class=\"dni-plaintext\"><pre>3886</pre></div></td></tr></tbody></table></div></details></td></tr></tbody></table></div></details></td></tr><tr><td>ErrorValue</td><td><div class=\"dni-plaintext\"><pre>&lt;null&gt;</pre></div></td></tr></tbody></table></div></details></td></tr><tr><td>text</td><td><div class=\"dni-plaintext\"><pre># Recent Eurovision Contest Winners\n",
       "\n",
       "The most recent winner of the Eurovision Song Contest is *Loreen* from *Sweden*.\n",
       "\n",
       "| Year | Country | Artist         | Song title                  |\n",
       "|------|---------|----------------|-----------------------------|\n",
       "| 2023 | *Sweden*  | *Loreen*       | &quot;Tattoo&quot;                    |\n",
       "| 2022 | *Ukraine* | *Kalush Orchestra* | &quot;Stefania&quot;                |\n",
       "| 2021 | *Italy*   | *M&#229;neskin*     | &quot;Zitti e buoni&quot;            |\n",
       "| 2020 | N/A     | N/A            | N/A (Cancelled due to COVID-19) |\n",
       "| 2019 | *Netherlands* | *Duncan Laurence* | &quot;Arcade&quot;                |\n",
       "| 2018 | *Israel*  | *Netta*        | &quot;Toy&quot;                       |\n",
       "| 2017 | *Portugal* | *Salvador Sobral* | &quot;Amar pelos dois&quot;        |\n",
       "| 2016 | *Ukraine* | *Jamala*       | &quot;1944&quot;                      |\n",
       "| 2015 | *Sweden*  | *M&#229;ns Zelmerl&#246;w* | &quot;Heroes&quot;                  |\n",
       "| 2014 | *Austria* | *Conchita Wurst* | &quot;Rise Like a Phoenix&quot;     |\n",
       "| 2013 | *Denmark* | *Emmelie de Forest* | &quot;Only Teardrops&quot;        |\n",
       "| 2012 | *Sweden*  | *Loreen*       | &quot;Euphoria&quot;                 |\n",
       "| 2011 | *Azerbaijan* | *Ell &amp; Nikki* | &quot;Running Scared&quot;          |</pre></div></td></tr></tbody></table></div></details><style>\r\n",
       ".dni-code-hint {\r\n",
       "    font-style: italic;\r\n",
       "    overflow: hidden;\r\n",
       "    white-space: nowrap;\r\n",
       "}\r\n",
       ".dni-treeview {\r\n",
       "    white-space: nowrap;\r\n",
       "}\r\n",
       ".dni-treeview td {\r\n",
       "    vertical-align: top;\r\n",
       "    text-align: start;\r\n",
       "}\r\n",
       "details.dni-treeview {\r\n",
       "    padding-left: 1em;\r\n",
       "}\r\n",
       "table td {\r\n",
       "    text-align: start;\r\n",
       "}\r\n",
       "table tr { \r\n",
       "    vertical-align: top; \r\n",
       "    margin: 0em 0px;\r\n",
       "}\r\n",
       "table tr td pre \r\n",
       "{ \r\n",
       "    vertical-align: top !important; \r\n",
       "    margin: 0em 0px !important;\r\n",
       "} \r\n",
       "table th {\r\n",
       "    text-align: start;\r\n",
       "}\r\n",
       "</style>"
      ]
     },
     "metadata": {},
     "output_type": "display_data"
    }
   ],
   "source": [
    "chat.clear()\n",
    "chat.send [\n",
    "    System \"\"\"\n",
    "        You're a helpful assistant that renders responses in Markdown.\n",
    "        No politeness phrases or excuses at the beginning of responses, skip directly to content.\n",
    "    \"\"\"\n",
    "    User \"\"\"\n",
    "        Who were the winners in recent 13 years of `Eurovision` contest?\n",
    "        Render any named entity that is appearing on `Wikipedia` in italic.\n",
    "        Mark any occasion when the contest wasn't held with \"N/A\" + reason.\n",
    "\n",
    "        Start response with a short title,\n",
    "        Add a single line of explanation e.g. tell who was the most recent winner.\n",
    "        then render a Markdown table consisting of following columns:\n",
    "        | Year | Country | Artist | Song title |\n",
    "    \"\"\"\n",
    "]"
   ]
  },
  {
   "cell_type": "code",
   "execution_count": 3,
   "metadata": {
    "dotnet_interactive": {
     "language": "fsharp"
    },
    "polyglot_notebook": {
     "kernelName": "fsharp"
    }
   },
   "outputs": [],
   "source": [
    "for c in chat.context do printfn \"%A\" (Prompt.toMsg c)"
   ]
  },
  {
   "cell_type": "code",
   "execution_count": null,
   "metadata": {
    "dotnet_interactive": {
     "language": "fsharp"
    },
    "polyglot_notebook": {
     "kernelName": "fsharp"
    }
   },
   "outputs": [],
   "source": [
    "//chat.deleteLastInteracton()"
   ]
  },
  {
   "cell_type": "code",
   "execution_count": 3,
   "metadata": {
    "dotnet_interactive": {
     "language": "fsharp"
    },
    "polyglot_notebook": {
     "kernelName": "fsharp"
    }
   },
   "outputs": [
    {
     "data": {
      "text/html": [
       "<div class='chat-response md-blk'><div ><div class='mermaid-blk' style='background-color:white;'>\n",
       "<svg id=\"mermaid-0\" width=\"100%\" xmlns=\"http://www.w3.org/2000/svg\" class=\"flowchart\" style=\"max-width: 509.2421875px;\" viewBox=\"0 0.0000019073486328125 509.2421875 701.3645629882812\" role=\"graphics-document document\" aria-roledescription=\"flowchart-v2\"><style>#mermaid-0{font-family:\"trebuchet ms\",verdana,arial,sans-serif;font-size:9px;fill:#333;}#mermaid-0 .error-icon{fill:#552222;}#mermaid-0 .error-text{fill:#552222;stroke:#552222;}#mermaid-0 .edge-thickness-normal{stroke-width:1px;}#mermaid-0 .edge-thickness-thick{stroke-width:3.5px;}#mermaid-0 .edge-pattern-solid{stroke-dasharray:0;}#mermaid-0 .edge-thickness-invisible{stroke-width:0;fill:none;}#mermaid-0 .edge-pattern-dashed{stroke-dasharray:3;}#mermaid-0 .edge-pattern-dotted{stroke-dasharray:2;}#mermaid-0 .marker{fill:#333333;stroke:#333333;}#mermaid-0 .marker.cross{stroke:#333333;}#mermaid-0 svg{font-family:\"trebuchet ms\",verdana,arial,sans-serif;font-size:9px;}#mermaid-0 p{margin:0;}#mermaid-0 .label{font-family:\"trebuchet ms\",verdana,arial,sans-serif;color:#333;}#mermaid-0 .cluster-label text{fill:#333;}#mermaid-0 .cluster-label span{color:#333;}#mermaid-0 .cluster-label span p{background-color:transparent;}#mermaid-0 .label text,#mermaid-0 span{fill:#333;color:#333;}#mermaid-0 .node rect,#mermaid-0 .node circle,#mermaid-0 .node ellipse,#mermaid-0 .node polygon,#mermaid-0 .node path{fill:#ECECFF;stroke:#9370DB;stroke-width:1px;}#mermaid-0 .rough-node .label text,#mermaid-0 .node .label text,#mermaid-0 .image-shape .label,#mermaid-0 .icon-shape .label{text-anchor:middle;}#mermaid-0 .node .katex path{fill:#000;stroke:#000;stroke-width:1px;}#mermaid-0 .rough-node .label,#mermaid-0 .node .label,#mermaid-0 .image-shape .label,#mermaid-0 .icon-shape .label{text-align:center;}#mermaid-0 .node.clickable{cursor:pointer;}#mermaid-0 .root .anchor path{fill:#333333!important;stroke-width:0;stroke:#333333;}#mermaid-0 .arrowheadPath{fill:#333333;}#mermaid-0 .edgePath .path{stroke:#333333;stroke-width:2.0px;}#mermaid-0 .flowchart-link{stroke:#333333;fill:none;}#mermaid-0 .edgeLabel{background-color:rgba(232,232,232, 0.8);text-align:center;}#mermaid-0 .edgeLabel p{background-color:rgba(232,232,232, 0.8);}#mermaid-0 .edgeLabel rect{opacity:0.5;background-color:rgba(232,232,232, 0.8);fill:rgba(232,232,232, 0.8);}#mermaid-0 .labelBkg{background-color:rgba(232, 232, 232, 0.5);}#mermaid-0 .cluster rect{fill:#ffffde;stroke:#aaaa33;stroke-width:1px;}#mermaid-0 .cluster text{fill:#333;}#mermaid-0 .cluster span{color:#333;}#mermaid-0 div.mermaidTooltip{position:absolute;text-align:center;max-width:200px;padding:2px;font-family:\"trebuchet ms\",verdana,arial,sans-serif;font-size:12px;background:hsl(80, 100%, 96.2745098039%);border:1px solid #aaaa33;border-radius:2px;pointer-events:none;z-index:100;}#mermaid-0 .flowchartTitleText{text-anchor:middle;font-size:18px;fill:#333;}#mermaid-0 rect.text{fill:none;stroke-width:0;}#mermaid-0 .icon-shape,#mermaid-0 .image-shape{background-color:rgba(232,232,232, 0.8);text-align:center;}#mermaid-0 .icon-shape p,#mermaid-0 .image-shape p{background-color:rgba(232,232,232, 0.8);padding:2px;}#mermaid-0 .icon-shape rect,#mermaid-0 .image-shape rect{opacity:0.5;background-color:rgba(232,232,232, 0.8);fill:rgba(232,232,232, 0.8);}#mermaid-0 :root{--mermaid-font-family:\"trebuchet ms\",verdana,arial,sans-serif;}</style><g><marker id=\"mermaid-0_flowchart-v2-pointEnd\" class=\"marker flowchart-v2\" viewBox=\"0 0 10 10\" refX=\"5\" refY=\"5\" markerUnits=\"userSpaceOnUse\" markerWidth=\"8\" markerHeight=\"8\" orient=\"auto\"><path d=\"M 0 0 L 10 5 L 0 10 z\" class=\"arrowMarkerPath\" style=\"stroke-width: 1; stroke-dasharray: 1, 0;\"></path></marker><marker id=\"mermaid-0_flowchart-v2-pointStart\" class=\"marker flowchart-v2\" viewBox=\"0 0 10 10\" refX=\"4.5\" refY=\"5\" markerUnits=\"userSpaceOnUse\" markerWidth=\"8\" markerHeight=\"8\" orient=\"auto\"><path d=\"M 0 5 L 10 10 L 10 0 z\" class=\"arrowMarkerPath\" style=\"stroke-width: 1; stroke-dasharray: 1, 0;\"></path></marker><marker id=\"mermaid-0_flowchart-v2-circleEnd\" class=\"marker flowchart-v2\" viewBox=\"0 0 10 10\" refX=\"11\" refY=\"5\" markerUnits=\"userSpaceOnUse\" markerWidth=\"11\" markerHeight=\"11\" orient=\"auto\"><circle cx=\"5\" cy=\"5\" r=\"5\" class=\"arrowMarkerPath\" style=\"stroke-width: 1; stroke-dasharray: 1, 0;\"></circle></marker><marker id=\"mermaid-0_flowchart-v2-circleStart\" class=\"marker flowchart-v2\" viewBox=\"0 0 10 10\" refX=\"-1\" refY=\"5\" markerUnits=\"userSpaceOnUse\" markerWidth=\"11\" markerHeight=\"11\" orient=\"auto\"><circle cx=\"5\" cy=\"5\" r=\"5\" class=\"arrowMarkerPath\" style=\"stroke-width: 1; stroke-dasharray: 1, 0;\"></circle></marker><marker id=\"mermaid-0_flowchart-v2-crossEnd\" class=\"marker cross flowchart-v2\" viewBox=\"0 0 11 11\" refX=\"12\" refY=\"5.2\" markerUnits=\"userSpaceOnUse\" markerWidth=\"11\" markerHeight=\"11\" orient=\"auto\"><path d=\"M 1,1 l 9,9 M 10,1 l -9,9\" class=\"arrowMarkerPath\" style=\"stroke-width: 2; stroke-dasharray: 1, 0;\"></path></marker><marker id=\"mermaid-0_flowchart-v2-crossStart\" class=\"marker cross flowchart-v2\" viewBox=\"0 0 11 11\" refX=\"-1\" refY=\"5.2\" markerUnits=\"userSpaceOnUse\" markerWidth=\"11\" markerHeight=\"11\" orient=\"auto\"><path d=\"M 1,1 l 9,9 M 10,1 l -9,9\" class=\"arrowMarkerPath\" style=\"stroke-width: 2; stroke-dasharray: 1, 0;\"></path></marker><g class=\"root\"><g class=\"clusters\"></g><g class=\"edgePaths\"><path d=\"M303.029,51.49L301.202,56.78C299.375,62.071,295.72,72.653,296.569,80.589C297.419,88.525,302.772,93.816,307.65,98.638C312.529,103.46,316.934,107.814,319.136,109.991L321.339,112.167\" id=\"L_SE_AZ_0\" class=\" edge-thickness-normal edge-pattern-solid edge-thickness-normal edge-pattern-solid flowchart-link\" style=\"\" marker-end=\"url(#mermaid-0_flowchart-v2-pointEnd)\"></path><path d=\"M359.725,114.979L363.02,109.688C366.315,104.398,372.904,93.816,372.789,85.88C372.674,77.944,365.853,72.653,359.559,67.771C353.266,62.888,347.499,58.415,344.615,56.178L341.732,53.941\" id=\"L_AZ_SE_1\" class=\" edge-thickness-normal edge-pattern-solid edge-thickness-normal edge-pattern-solid flowchart-link\" style=\"\" marker-end=\"url(#mermaid-0_flowchart-v2-pointEnd)\"></path><path d=\"M265.155,39.274L230.26,46.601C195.365,53.927,125.576,68.581,90.681,78.553C55.786,88.525,55.786,93.816,55.786,98.44C55.786,103.064,55.786,107.022,55.786,109L55.786,110.979\" id=\"L_SE_DK_2\" class=\" edge-thickness-normal edge-pattern-solid edge-thickness-normal edge-pattern-solid flowchart-link\" style=\"\" marker-end=\"url(#mermaid-0_flowchart-v2-pointEnd)\"></path><path d=\"M103.573,152.555L122.519,158.831C141.466,165.108,179.359,177.661,210.915,187.388C242.472,197.116,267.692,204.019,292.269,210.745C316.846,217.472,340.781,224.023,352.748,227.298L364.715,230.573\" id=\"L_DK_AT_3\" class=\" edge-thickness-normal edge-pattern-solid edge-thickness-normal edge-pattern-solid flowchart-link\" style=\"\" marker-end=\"url(#mermaid-0_flowchart-v2-pointEnd)\"></path><path d=\"M424.703,221.958L427.627,216.668C430.55,211.377,436.398,200.795,439.321,186.589C442.245,172.384,442.245,154.554,442.245,136.724C442.245,118.894,442.245,101.064,435.051,89.228C427.858,77.391,413.471,71.548,399.702,65.956C385.932,60.364,372.781,55.023,366.205,52.352L359.629,49.682\" id=\"L_AT_SE_4\" class=\" edge-thickness-normal edge-pattern-solid edge-thickness-normal edge-pattern-solid flowchart-link\" style=\"\" marker-end=\"url(#mermaid-0_flowchart-v2-pointEnd)\"></path><path d=\"M265.155,44.577L245.44,51.02C225.726,57.463,186.296,70.349,169.163,79.437C152.03,88.525,157.194,93.816,161.891,98.63C166.589,103.443,170.821,107.78,172.937,109.948L175.053,112.116\" id=\"L_SE_UA_5\" class=\" edge-thickness-normal edge-pattern-solid edge-thickness-normal edge-pattern-solid flowchart-link\" style=\"\" marker-end=\"url(#mermaid-0_flowchart-v2-pointEnd)\"></path><path d=\"M169.944,158.469L162.858,163.76C155.772,169.05,141.599,179.632,134.513,187.568C127.427,195.504,127.427,200.795,127.427,205.419C127.427,210.043,127.427,214.001,127.427,215.98L127.427,217.958\" id=\"L_UA_PT_6\" class=\" edge-thickness-normal edge-pattern-solid edge-thickness-normal edge-pattern-solid flowchart-link\" style=\"\" marker-end=\"url(#mermaid-0_flowchart-v2-pointEnd)\"></path><path d=\"M127.427,265.448L127.427,270.739C127.427,276.03,127.427,286.611,127.427,294.547C127.427,302.484,127.427,307.774,127.427,312.398C127.427,317.023,127.427,320.98,127.427,322.959L127.427,324.937\" id=\"L_PT_IL_7\" class=\" edge-thickness-normal edge-pattern-solid edge-thickness-normal edge-pattern-solid flowchart-link\" style=\"\" marker-end=\"url(#mermaid-0_flowchart-v2-pointEnd)\"></path><path d=\"M127.427,372.427L127.427,377.718C127.427,383.009,127.427,393.59,127.427,401.526C127.427,409.463,127.427,414.753,127.427,419.378C127.427,424.002,127.427,427.959,127.427,429.938L127.427,431.917\" id=\"L_IL_NL_8\" class=\" edge-thickness-normal edge-pattern-solid edge-thickness-normal edge-pattern-solid flowchart-link\" style=\"\" marker-end=\"url(#mermaid-0_flowchart-v2-pointEnd)\"></path><path d=\"M127.427,479.406L127.427,484.697C127.427,489.988,127.427,500.569,127.427,508.506C127.427,516.442,127.427,521.733,127.427,526.357C127.427,530.981,127.427,534.938,127.427,536.917L127.427,538.896\" id=\"L_NL_NA_9\" class=\" edge-thickness-normal edge-pattern-solid edge-thickness-normal edge-pattern-solid flowchart-link\" style=\"\" marker-end=\"url(#mermaid-0_flowchart-v2-pointEnd)\"></path><path d=\"M127.427,586.385L127.427,591.676C127.427,596.967,127.427,607.549,143.581,616.551C159.734,625.554,192.041,632.977,223.698,640.251C255.355,647.525,286.362,654.65,301.866,658.213L317.37,661.775\" id=\"L_NA_IT_10\" class=\" edge-thickness-normal edge-pattern-solid edge-thickness-normal edge-pattern-solid flowchart-link\" style=\"\" marker-end=\"url(#mermaid-0_flowchart-v2-pointEnd)\"></path><path d=\"M399.159,655.789L414.599,649.512C430.04,643.236,460.921,630.683,476.362,615.492C491.802,600.3,491.802,582.47,491.802,564.641C491.802,546.811,491.802,528.981,491.802,511.151C491.802,493.321,491.802,475.491,491.802,457.661C491.802,439.832,491.802,422.002,491.802,404.172C491.802,386.342,491.802,368.512,491.802,350.682C491.802,332.852,491.802,315.023,491.802,297.193C491.802,279.363,491.802,261.533,491.802,243.703C491.802,225.873,491.802,208.043,471.199,195.364C450.595,182.684,409.389,175.155,368.838,167.745C328.287,160.335,288.392,153.046,268.445,149.401L248.497,145.756\" id=\"L_IT_UA_11\" class=\" edge-thickness-normal edge-pattern-solid edge-thickness-normal edge-pattern-solid flowchart-link\" style=\"\" marker-end=\"url(#mermaid-0_flowchart-v2-pointEnd)\"></path><path d=\"M221.068,114.979L226.421,109.688C231.774,104.398,242.48,93.816,250.669,85.88C258.859,77.944,264.532,72.653,269.717,67.817C274.902,62.981,279.6,58.599,281.949,56.408L284.298,54.218\" id=\"L_UA_SE_12\" class=\" edge-thickness-normal edge-pattern-solid edge-thickness-normal edge-pattern-solid flowchart-link\" style=\"\" marker-end=\"url(#mermaid-0_flowchart-v2-pointEnd)\"></path></g><g class=\"edgeLabels\"><g class=\"edgeLabel\" transform=\"translate(292.0657482147217, 83.23437356948853)\"><g class=\"label\" transform=\"translate(-9.440103530883789, -6.744791507720947)\"><foreignObject width=\"18.880207061767578\" height=\"13.489583015441895\"><div xmlns=\"http://www.w3.org/1999/xhtml\" class=\"labelBkg\" style=\"display: table-cell; white-space: nowrap; line-height: 1.5; max-width: 200px; text-align: center;\"><span class=\"edgeLabel \"><p>2011</p></span></div></foreignObject></g></g><g class=\"edgeLabel\" transform=\"translate(379.49413299560547, 83.23437356948853)\"><g class=\"label\" transform=\"translate(-9.440103530883789, -6.744791507720947)\"><foreignObject width=\"18.880207061767578\" height=\"13.489583015441895\"><div xmlns=\"http://www.w3.org/1999/xhtml\" class=\"labelBkg\" style=\"display: table-cell; white-space: nowrap; line-height: 1.5; max-width: 200px; text-align: center;\"><span class=\"edgeLabel \"><p>2012</p></span></div></foreignObject></g></g><g class=\"edgeLabel\" transform=\"translate(55.78645706176758, 83.23437356948853)\"><g class=\"label\" transform=\"translate(-9.440103530883789, -6.744791507720947)\"><foreignObject width=\"18.880207061767578\" height=\"13.489583015441895\"><div xmlns=\"http://www.w3.org/1999/xhtml\" class=\"labelBkg\" style=\"display: table-cell; white-space: nowrap; line-height: 1.5; max-width: 200px; text-align: center;\"><span class=\"edgeLabel \"><p>2013</p></span></div></foreignObject></g></g><g class=\"edgeLabel\" transform=\"translate(217.2512969970703, 190.213538646698)\"><g class=\"label\" transform=\"translate(-9.440103530883789, -6.744791507720947)\"><foreignObject width=\"18.880207061767578\" height=\"13.489583015441895\"><div xmlns=\"http://www.w3.org/1999/xhtml\" class=\"labelBkg\" style=\"display: table-cell; white-space: nowrap; line-height: 1.5; max-width: 200px; text-align: center;\"><span class=\"edgeLabel \"><p>2014</p></span></div></foreignObject></g></g><g class=\"edgeLabel\" transform=\"translate(442.24478340148926, 136.72395610809326)\"><g class=\"label\" transform=\"translate(-9.440103530883789, -6.744791507720947)\"><foreignObject width=\"18.880207061767578\" height=\"13.489583015441895\"><div xmlns=\"http://www.w3.org/1999/xhtml\" class=\"labelBkg\" style=\"display: table-cell; white-space: nowrap; line-height: 1.5; max-width: 200px; text-align: center;\"><span class=\"edgeLabel \"><p>2015</p></span></div></foreignObject></g></g><g class=\"edgeLabel\" transform=\"translate(146.86718368530273, 83.23437356948853)\"><g class=\"label\" transform=\"translate(-9.440103530883789, -6.744791507720947)\"><foreignObject width=\"18.880207061767578\" height=\"13.489583015441895\"><div xmlns=\"http://www.w3.org/1999/xhtml\" class=\"labelBkg\" style=\"display: table-cell; white-space: nowrap; line-height: 1.5; max-width: 200px; text-align: center;\"><span class=\"edgeLabel \"><p>2016</p></span></div></foreignObject></g></g><g class=\"edgeLabel\" transform=\"translate(127.42708015441895, 190.213538646698)\"><g class=\"label\" transform=\"translate(-9.440103530883789, -6.744791507720947)\"><foreignObject width=\"18.880207061767578\" height=\"13.489583015441895\"><div xmlns=\"http://www.w3.org/1999/xhtml\" class=\"labelBkg\" style=\"display: table-cell; white-space: nowrap; line-height: 1.5; max-width: 200px; text-align: center;\"><span class=\"edgeLabel \"><p>2017</p></span></div></foreignObject></g></g><g class=\"edgeLabel\" transform=\"translate(127.42708015441895, 297.19270372390747)\"><g class=\"label\" transform=\"translate(-9.440103530883789, -6.744791507720947)\"><foreignObject width=\"18.880207061767578\" height=\"13.489583015441895\"><div xmlns=\"http://www.w3.org/1999/xhtml\" class=\"labelBkg\" style=\"display: table-cell; white-space: nowrap; line-height: 1.5; max-width: 200px; text-align: center;\"><span class=\"edgeLabel \"><p>2018</p></span></div></foreignObject></g></g><g class=\"edgeLabel\" transform=\"translate(127.42708015441895, 404.17186880111694)\"><g class=\"label\" transform=\"translate(-9.440103530883789, -6.744791507720947)\"><foreignObject width=\"18.880207061767578\" height=\"13.489583015441895\"><div xmlns=\"http://www.w3.org/1999/xhtml\" class=\"labelBkg\" style=\"display: table-cell; white-space: nowrap; line-height: 1.5; max-width: 200px; text-align: center;\"><span class=\"edgeLabel \"><p>2019</p></span></div></foreignObject></g></g><g class=\"edgeLabel\" transform=\"translate(127.42708015441895, 511.1510338783264)\"><g class=\"label\" transform=\"translate(-9.440103530883789, -6.744791507720947)\"><foreignObject width=\"18.880207061767578\" height=\"13.489583015441895\"><div xmlns=\"http://www.w3.org/1999/xhtml\" class=\"labelBkg\" style=\"display: table-cell; white-space: nowrap; line-height: 1.5; max-width: 200px; text-align: center;\"><span class=\"edgeLabel \"><p>2020</p></span></div></foreignObject></g></g><g class=\"edgeLabel\" transform=\"translate(127.42708015441895, 618.1301989555359)\"><g class=\"label\" transform=\"translate(-9.440103530883789, -6.744791507720947)\"><foreignObject width=\"18.880207061767578\" height=\"13.489583015441895\"><div xmlns=\"http://www.w3.org/1999/xhtml\" class=\"labelBkg\" style=\"display: table-cell; white-space: nowrap; line-height: 1.5; max-width: 200px; text-align: center;\"><span class=\"edgeLabel \"><p>2021</p></span></div></foreignObject></g></g><g class=\"edgeLabel\" transform=\"translate(491.80207443237305, 404.17186880111694)\"><g class=\"label\" transform=\"translate(-9.440103530883789, -6.744791507720947)\"><foreignObject width=\"18.880207061767578\" height=\"13.489583015441895\"><div xmlns=\"http://www.w3.org/1999/xhtml\" class=\"labelBkg\" style=\"display: table-cell; white-space: nowrap; line-height: 1.5; max-width: 200px; text-align: center;\"><span class=\"edgeLabel \"><p>2022</p></span></div></foreignObject></g></g><g class=\"edgeLabel\" transform=\"translate(253.1855411529541, 83.23437356948853)\"><g class=\"label\" transform=\"translate(-9.440103530883789, -6.744791507720947)\"><foreignObject width=\"18.880207061767578\" height=\"13.489583015441895\"><div xmlns=\"http://www.w3.org/1999/xhtml\" class=\"labelBkg\" style=\"display: table-cell; white-space: nowrap; line-height: 1.5; max-width: 200px; text-align: center;\"><span class=\"edgeLabel \"><p>2023</p></span></div></foreignObject></g></g></g><g class=\"nodes\"><g class=\"node default  \" id=\"flowchart-SE-0\" transform=\"translate(310.5390558242798, 29.74479103088379)\"><rect class=\"basic label-container\" style=\"\" x=\"-45.384114265441895\" y=\"-21.744791507720947\" width=\"90.76822853088379\" height=\"43.489583015441895\"></rect><g class=\"label\" style=\"\" transform=\"translate(-15.384114265441895, -6.744791507720947)\"><rect></rect><foreignObject width=\"30.76822853088379\" height=\"13.489583015441895\"><div xmlns=\"http://www.w3.org/1999/xhtml\" style=\"display: table-cell; white-space: nowrap; line-height: 1.5; max-width: 200px; text-align: center;\"><span class=\"nodeLabel \"><p>Sweden</p></span></div></foreignObject></g></g><g class=\"node default  \" id=\"flowchart-UA-1\" transform=\"translate(199.0677032470703, 136.72395610809326)\"><rect class=\"basic label-container\" style=\"\" x=\"-45.49479103088379\" y=\"-21.744791507720947\" width=\"90.98958206176758\" height=\"43.489583015441895\"></rect><g class=\"label\" style=\"\" transform=\"translate(-15.494791030883789, -6.744791507720947)\"><rect></rect><foreignObject width=\"30.989582061767578\" height=\"13.489583015441895\"><div xmlns=\"http://www.w3.org/1999/xhtml\" style=\"display: table-cell; white-space: nowrap; line-height: 1.5; max-width: 200px; text-align: center;\"><span class=\"nodeLabel \"><p>Ukraine</p></span></div></foreignObject></g></g><g class=\"node default  \" id=\"flowchart-IT-2\" transform=\"translate(360.2135343551636, 671.6197814941406)\"><rect class=\"basic label-container\" style=\"\" x=\"-38.9453125\" y=\"-21.744791507720947\" width=\"77.890625\" height=\"43.489583015441895\"></rect><g class=\"label\" style=\"\" transform=\"translate(-8.9453125, -6.744791507720947)\"><rect></rect><foreignObject width=\"17.890625\" height=\"13.489583015441895\"><div xmlns=\"http://www.w3.org/1999/xhtml\" style=\"display: table-cell; white-space: nowrap; line-height: 1.5; max-width: 200px; text-align: center;\"><span class=\"nodeLabel \"><p>Italy</p></span></div></foreignObject></g></g><g class=\"node default  \" id=\"flowchart-NA-3\" transform=\"translate(127.42708015441895, 564.6406164169312)\"><rect class=\"basic label-container\" style=\"\" x=\"-95.13020324707031\" y=\"-21.744791507720947\" width=\"190.26040649414062\" height=\"43.489583015441895\"></rect><g class=\"label\" style=\"\" transform=\"translate(-65.13020324707031, -6.744791507720947)\"><rect></rect><foreignObject width=\"130.26040649414062\" height=\"13.489583015441895\"><div xmlns=\"http://www.w3.org/1999/xhtml\" style=\"display: table-cell; white-space: nowrap; line-height: 1.5; max-width: 200px; text-align: center;\"><span class=\"nodeLabel \"><p>N/A: Cancelled due to COVID-19</p></span></div></foreignObject></g></g><g class=\"node default  \" id=\"flowchart-NL-4\" transform=\"translate(127.42708015441895, 457.6614513397217)\"><rect class=\"basic label-container\" style=\"\" x=\"-54.24479103088379\" y=\"-21.744791507720947\" width=\"108.48958206176758\" height=\"43.489583015441895\"></rect><g class=\"label\" style=\"\" transform=\"translate(-24.24479103088379, -6.744791507720947)\"><rect></rect><foreignObject width=\"48.48958206176758\" height=\"13.489583015441895\"><div xmlns=\"http://www.w3.org/1999/xhtml\" style=\"display: table-cell; white-space: nowrap; line-height: 1.5; max-width: 200px; text-align: center;\"><span class=\"nodeLabel \"><p>Netherlands</p></span></div></foreignObject></g></g><g class=\"node default  \" id=\"flowchart-IL-5\" transform=\"translate(127.42708015441895, 350.6822862625122)\"><rect class=\"basic label-container\" style=\"\" x=\"-40.970051765441895\" y=\"-21.744791507720947\" width=\"81.94010353088379\" height=\"43.489583015441895\"></rect><g class=\"label\" style=\"\" transform=\"translate(-10.970051765441895, -6.744791507720947)\"><rect></rect><foreignObject width=\"21.94010353088379\" height=\"13.489583015441895\"><div xmlns=\"http://www.w3.org/1999/xhtml\" style=\"display: table-cell; white-space: nowrap; line-height: 1.5; max-width: 200px; text-align: center;\"><span class=\"nodeLabel \"><p>Israel</p></span></div></foreignObject></g></g><g class=\"node default  \" id=\"flowchart-PT-6\" transform=\"translate(127.42708015441895, 243.70312118530273)\"><rect class=\"basic label-container\" style=\"\" x=\"-46.65364456176758\" y=\"-21.744791507720947\" width=\"93.30728912353516\" height=\"43.489583015441895\"></rect><g class=\"label\" style=\"\" transform=\"translate(-16.653644561767578, -6.744791507720947)\"><rect></rect><foreignObject width=\"33.307289123535156\" height=\"13.489583015441895\"><div xmlns=\"http://www.w3.org/1999/xhtml\" style=\"display: table-cell; white-space: nowrap; line-height: 1.5; max-width: 200px; text-align: center;\"><span class=\"nodeLabel \"><p>Portugal</p></span></div></foreignObject></g></g><g class=\"node default  \" id=\"flowchart-AT-7\" transform=\"translate(412.68749237060547, 243.70312118530273)\"><rect class=\"basic label-container\" style=\"\" x=\"-44.114583015441895\" y=\"-21.744791507720947\" width=\"88.22916603088379\" height=\"43.489583015441895\"></rect><g class=\"label\" style=\"\" transform=\"translate(-14.114583015441895, -6.744791507720947)\"><rect></rect><foreignObject width=\"28.22916603088379\" height=\"13.489583015441895\"><div xmlns=\"http://www.w3.org/1999/xhtml\" style=\"display: table-cell; white-space: nowrap; line-height: 1.5; max-width: 200px; text-align: center;\"><span class=\"nodeLabel \"><p>Austria</p></span></div></foreignObject></g></g><g class=\"node default  \" id=\"flowchart-DK-8\" transform=\"translate(55.78645706176758, 136.72395610809326)\"><rect class=\"basic label-container\" style=\"\" x=\"-47.78645706176758\" y=\"-21.744791507720947\" width=\"95.57291412353516\" height=\"43.489583015441895\"></rect><g class=\"label\" style=\"\" transform=\"translate(-17.786457061767578, -6.744791507720947)\"><rect></rect><foreignObject width=\"35.572914123535156\" height=\"13.489583015441895\"><div xmlns=\"http://www.w3.org/1999/xhtml\" style=\"display: table-cell; white-space: nowrap; line-height: 1.5; max-width: 200px; text-align: center;\"><span class=\"nodeLabel \"><p>Denmark</p></span></div></foreignObject></g></g><g class=\"node default  \" id=\"flowchart-AZ-9\" transform=\"translate(346.18358612060547, 136.72395610809326)\"><rect class=\"basic label-container\" style=\"\" x=\"-51.62109565734863\" y=\"-21.744791507720947\" width=\"103.24219131469727\" height=\"43.489583015441895\"></rect><g class=\"label\" style=\"\" transform=\"translate(-21.621095657348633, -6.744791507720947)\"><rect></rect><foreignObject width=\"43.242191314697266\" height=\"13.489583015441895\"><div xmlns=\"http://www.w3.org/1999/xhtml\" style=\"display: table-cell; white-space: nowrap; line-height: 1.5; max-width: 200px; text-align: center;\"><span class=\"nodeLabel \"><p>Azerbaijan</p></span></div></foreignObject></g></g></g></g></g></svg>\n",
       "</div></div></div>"
      ]
     },
     "metadata": {},
     "output_type": "display_data"
    },
    {
     "data": {
      "text/html": [
       "<details class=\"dni-treeview\"><summary><span class=\"dni-code-hint\"><code>{ result = Ok (Stop, { created = 10/6/2024 6:18:45 PM\\n                       requestedModel = &quot;gpt-4o&quot;\\n                       actualModel = &quot;gpt-4o-2024-08-06&quot;\\n                       fingerprint = Some &quot;fp_2f406b9113&quot;\\n                       nTokens = 216\\n                       durationMs = 2229...</code></span></summary><div><table><thead><tr></tr></thead><tbody><tr><td>result</td><td><details class=\"dni-treeview\"><summary><span class=\"dni-code-hint\"><code>Microsoft.FSharp.Core.FSharpResult`2[System.Tuple`2[FsChat.Types+FinishReason,FsChat.Types+GptStats],System.String]</code></span></summary><div><table><thead><tr></tr></thead><tbody><tr><td>ResultValue</td><td><details class=\"dni-treeview\"><summary><span class=\"dni-code-hint\"><code>(Stop, { created = 10/6/2024 6:18:45 PM\\n  requestedModel = &quot;gpt-4o&quot;\\n  actualModel = &quot;gpt-4o-2024-08-06&quot;\\n  fingerprint = Some &quot;fp_2f406b9113&quot;\\n  nTokens = 216\\n  durationMs = 2229 })</code></span></summary><div><table><thead><tr></tr></thead><tbody><tr><td>Item1</td><td><details class=\"dni-treeview\"><summary><span class=\"dni-code-hint\"><code>Stop</code></span></summary><div><table><thead><tr></tr></thead><tbody></tbody></table></div></details></td></tr><tr><td>Item2</td><td><details class=\"dni-treeview\"><summary><span class=\"dni-code-hint\"><code>{ created = 10/6/2024 6:18:45 PM\\n  requestedModel = &quot;gpt-4o&quot;\\n  actualModel = &quot;gpt-4o-2024-08-06&quot;\\n  fingerprint = Some &quot;fp_2f406b9113&quot;\\n  nTokens = 216\\n  durationMs = 2229 }</code></span></summary><div><table><thead><tr></tr></thead><tbody><tr><td>created</td><td><span>2024-10-06 18:18:45Z</span></td></tr><tr><td>requestedModel</td><td><div class=\"dni-plaintext\"><pre>gpt-4o</pre></div></td></tr><tr><td>actualModel</td><td><div class=\"dni-plaintext\"><pre>gpt-4o-2024-08-06</pre></div></td></tr><tr><td>fingerprint</td><td><details class=\"dni-treeview\"><summary><span class=\"dni-code-hint\"><code>Some(fp_2f406b9113)</code></span></summary><div><table><thead><tr></tr></thead><tbody><tr><td>Value</td><td><div class=\"dni-plaintext\"><pre>fp_2f406b9113</pre></div></td></tr></tbody></table></div></details></td></tr><tr><td>nTokens</td><td><div class=\"dni-plaintext\"><pre>216</pre></div></td></tr><tr><td>durationMs</td><td><div class=\"dni-plaintext\"><pre>2229</pre></div></td></tr></tbody></table></div></details></td></tr></tbody></table></div></details></td></tr><tr><td>ErrorValue</td><td><div class=\"dni-plaintext\"><pre>&lt;null&gt;</pre></div></td></tr></tbody></table></div></details></td></tr><tr><td>text</td><td><div class=\"dni-plaintext\"><pre>```mermaid\n",
       "%%{init: {&#39;theme&#39;: &#39;default&#39;, &#39;themeVariables&#39;: { &#39;fontSize&#39;: &#39;9px&#39; }}}%%\n",
       "graph TD\n",
       "    SE[Sweden]\n",
       "    UA[Ukraine]\n",
       "    IT[Italy]\n",
       "    NA[N/A: Cancelled due to COVID-19]\n",
       "    NL[Netherlands]\n",
       "    IL[Israel]\n",
       "    PT[Portugal]\n",
       "    AT[Austria]\n",
       "    DK[Denmark]\n",
       "    AZ[Azerbaijan]\n",
       "\n",
       "    SE --&gt;|2011| AZ\n",
       "    AZ --&gt;|2012| SE\n",
       "    SE --&gt;|2013| DK\n",
       "    DK --&gt;|2014| AT\n",
       "    AT --&gt;|2015| SE\n",
       "    SE --&gt;|2016| UA\n",
       "    UA --&gt;|2017| PT\n",
       "    PT --&gt;|2018| IL\n",
       "    IL --&gt;|2019| NL\n",
       "    NL --&gt;|2020| NA\n",
       "    NA --&gt;|2021| IT\n",
       "    IT --&gt;|2022| UA\n",
       "    UA --&gt;|2023| SE\n",
       "```</pre></div></td></tr></tbody></table></div></details><style>\r\n",
       ".dni-code-hint {\r\n",
       "    font-style: italic;\r\n",
       "    overflow: hidden;\r\n",
       "    white-space: nowrap;\r\n",
       "}\r\n",
       ".dni-treeview {\r\n",
       "    white-space: nowrap;\r\n",
       "}\r\n",
       ".dni-treeview td {\r\n",
       "    vertical-align: top;\r\n",
       "    text-align: start;\r\n",
       "}\r\n",
       "details.dni-treeview {\r\n",
       "    padding-left: 1em;\r\n",
       "}\r\n",
       "table td {\r\n",
       "    text-align: start;\r\n",
       "}\r\n",
       "table tr { \r\n",
       "    vertical-align: top; \r\n",
       "    margin: 0em 0px;\r\n",
       "}\r\n",
       "table tr td pre \r\n",
       "{ \r\n",
       "    vertical-align: top !important; \r\n",
       "    margin: 0em 0px !important;\r\n",
       "} \r\n",
       "table th {\r\n",
       "    text-align: start;\r\n",
       "}\r\n",
       "</style>"
      ]
     },
     "metadata": {},
     "output_type": "display_data"
    }
   ],
   "source": [
    "chat.model <- Gpt4o // switch to amore powerful model for this task\n",
    "chat.send \"\"\"\n",
    "Given the above table, render a Mermaid directed graph with:\n",
    "- nodes: countries that won the contest (labeled with country name)\n",
    "- edges: time sequence of wins representing how the 'trophy' moved from one country to another (labeled with year)\n",
    "\n",
    "Example:\n",
    "\n",
    "```mermaid\n",
    "%%{init: {'theme': 'default', 'themeVariables': { 'fontSize': '9px' }}}%%\n",
    "graph TD\n",
    "    DK[Denmark]\n",
    "    AT[Austria]\n",
    "    DK -->|2014| AT\n",
    "```\n",
    "(include theme settings when rendering mermaid code)\n",
    "\n",
    "Any N/A node should be assigned country code NA and labeled `N/A: ${reason explanation}`\n",
    "\n",
    "Make sure each country appears exactly once in the graph:\n",
    "If a country won the competition multiple times, the country's node should have multiple incoming and outgoing edges.\n",
    "\"\"\""
   ]
  },
  {
   "cell_type": "code",
   "execution_count": 5,
   "metadata": {
    "dotnet_interactive": {
     "language": "fsharp"
    },
    "polyglot_notebook": {
     "kernelName": "fsharp"
    }
   },
   "outputs": [
    {
     "data": {
      "text/html": [
       "<div class='chat-response md-blk'><div ><pre><code class=\"hljs language-json\"><span class=\"hljs-punctuation\">[</span>\n",
       "  <span class=\"hljs-punctuation\">{</span>\n",
       "    <span class=\"hljs-attr\">&quot;name&quot;</span><span class=\"hljs-punctuation\">:</span> <span class=\"hljs-string\">&quot;Luke Skywalker&quot;</span><span class=\"hljs-punctuation\">,</span>\n",
       "    <span class=\"hljs-attr\">&quot;species&quot;</span><span class=\"hljs-punctuation\">:</span> <span class=\"hljs-string\">&quot;Human&quot;</span><span class=\"hljs-punctuation\">,</span>\n",
       "    <span class=\"hljs-attr\">&quot;homeworld&quot;</span><span class=\"hljs-punctuation\">:</span> <span class=\"hljs-string\">&quot;Tatooine&quot;</span><span class=\"hljs-punctuation\">,</span>\n",
       "    <span class=\"hljs-attr\">&quot;affiliation&quot;</span><span class=\"hljs-punctuation\">:</span> <span class=\"hljs-string\">&quot;Rebel Alliance&quot;</span><span class=\"hljs-punctuation\">,</span>\n",
       "    <span class=\"hljs-attr\">&quot;lightsaberColor&quot;</span><span class=\"hljs-punctuation\">:</span> <span class=\"hljs-string\">&quot;Blue&quot;</span>\n",
       "  <span class=\"hljs-punctuation\">}</span><span class=\"hljs-punctuation\">,</span>\n",
       "  <span class=\"hljs-punctuation\">{</span>\n",
       "    <span class=\"hljs-attr\">&quot;name&quot;</span><span class=\"hljs-punctuation\">:</span> <span class=\"hljs-string\">&quot;Darth Vader&quot;</span><span class=\"hljs-punctuation\">,</span>\n",
       "    <span class=\"hljs-attr\">&quot;species&quot;</span><span class=\"hljs-punctuation\">:</span> <span class=\"hljs-string\">&quot;Human&quot;</span><span class=\"hljs-punctuation\">,</span>\n",
       "    <span class=\"hljs-attr\">&quot;homeworld&quot;</span><span class=\"hljs-punctuation\">:</span> <span class=\"hljs-string\">&quot;Tatooine&quot;</span><span class=\"hljs-punctuation\">,</span>\n",
       "    <span class=\"hljs-attr\">&quot;affiliation&quot;</span><span class=\"hljs-punctuation\">:</span> <span class=\"hljs-string\">&quot;Galactic Empire&quot;</span><span class=\"hljs-punctuation\">,</span>\n",
       "    <span class=\"hljs-attr\">&quot;lightsaberColor&quot;</span><span class=\"hljs-punctuation\">:</span> <span class=\"hljs-string\">&quot;Red&quot;</span>\n",
       "  <span class=\"hljs-punctuation\">}</span>\n",
       "<span class=\"hljs-punctuation\">]</span>\n",
       "</code></pre>\n",
       "</div></div>"
      ]
     },
     "metadata": {},
     "output_type": "display_data"
    }
   ],
   "source": [
    "let jsonR = chat.send \"render some sample json document (e.g. two starwars characters) wrapped in markdown json code wrapper.\""
   ]
  },
  {
   "cell_type": "code",
   "execution_count": null,
   "metadata": {
    "dotnet_interactive": {
     "language": "fsharp"
    },
    "polyglot_notebook": {
     "kernelName": "fsharp"
    }
   },
   "outputs": [
    {
     "data": {
      "text/html": [
       "<details class=\"dni-treeview\"><summary><span class=\"dni-code-hint\"><code>{ result = Ok (Stop, { created = 10/6/2024 6:18:55 PM\\n                       requestedModel = &quot;gpt-4o&quot;\\n                       actualModel = &quot;gpt-4o-2024-08-06&quot;\\n                       fingerprint = Some &quot;fp_2f406b9113&quot;\\n                       nTokens = 105\\n                       durationMs = 1294...</code></span></summary><div><table><thead><tr></tr></thead><tbody><tr><td>result</td><td><details class=\"dni-treeview\"><summary><span class=\"dni-code-hint\"><code>Microsoft.FSharp.Core.FSharpResult`2[System.Tuple`2[FsChat.Types+FinishReason,FsChat.Types+GptStats],System.String]</code></span></summary><div><table><thead><tr></tr></thead><tbody><tr><td>ResultValue</td><td><details class=\"dni-treeview\"><summary><span class=\"dni-code-hint\"><code>(Stop, { created = 10/6/2024 6:18:55 PM\\n  requestedModel = &quot;gpt-4o&quot;\\n  actualModel = &quot;gpt-4o-2024-08-06&quot;\\n  fingerprint = Some &quot;fp_2f406b9113&quot;\\n  nTokens = 105\\n  durationMs = 1294 })</code></span></summary><div><table><thead><tr></tr></thead><tbody><tr><td>Item1</td><td><details class=\"dni-treeview\"><summary><span class=\"dni-code-hint\"><code>Stop</code></span></summary><div><table><thead><tr></tr></thead><tbody></tbody></table></div></details></td></tr><tr><td>Item2</td><td><details class=\"dni-treeview\"><summary><span class=\"dni-code-hint\"><code>{ created = 10/6/2024 6:18:55 PM\\n  requestedModel = &quot;gpt-4o&quot;\\n  actualModel = &quot;gpt-4o-2024-08-06&quot;\\n  fingerprint = Some &quot;fp_2f406b9113&quot;\\n  nTokens = 105\\n  durationMs = 1294 }</code></span></summary><div><table><thead><tr></tr></thead><tbody><tr><td>created</td><td><span>2024-10-06 18:18:55Z</span></td></tr><tr><td>requestedModel</td><td><div class=\"dni-plaintext\"><pre>gpt-4o</pre></div></td></tr><tr><td>actualModel</td><td><div class=\"dni-plaintext\"><pre>gpt-4o-2024-08-06</pre></div></td></tr><tr><td>fingerprint</td><td><details class=\"dni-treeview\"><summary><span class=\"dni-code-hint\"><code>Some(fp_2f406b9113)</code></span></summary><div><table><thead><tr></tr></thead><tbody><tr><td>Value</td><td><div class=\"dni-plaintext\"><pre>fp_2f406b9113</pre></div></td></tr></tbody></table></div></details></td></tr><tr><td>nTokens</td><td><div class=\"dni-plaintext\"><pre>105</pre></div></td></tr><tr><td>durationMs</td><td><div class=\"dni-plaintext\"><pre>1294</pre></div></td></tr></tbody></table></div></details></td></tr></tbody></table></div></details></td></tr><tr><td>ErrorValue</td><td><div class=\"dni-plaintext\"><pre>&lt;null&gt;</pre></div></td></tr></tbody></table></div></details></td></tr><tr><td>text</td><td><div class=\"dni-plaintext\"><pre>```json\n",
       "[\n",
       "  {\n",
       "    &quot;name&quot;: &quot;Luke Skywalker&quot;,\n",
       "    &quot;species&quot;: &quot;Human&quot;,\n",
       "    &quot;homeworld&quot;: &quot;Tatooine&quot;,\n",
       "    &quot;affiliation&quot;: &quot;Rebel Alliance&quot;,\n",
       "    &quot;lightsaberColor&quot;: &quot;Blue&quot;\n",
       "  },\n",
       "  {\n",
       "    &quot;name&quot;: &quot;Darth Vader&quot;,\n",
       "    &quot;species&quot;: &quot;Human&quot;,\n",
       "    &quot;homeworld&quot;: &quot;Tatooine&quot;,\n",
       "    &quot;affiliation&quot;: &quot;Galactic Empire&quot;,\n",
       "    &quot;lightsaberColor&quot;: &quot;Red&quot;\n",
       "  }\n",
       "]\n",
       "```</pre></div></td></tr></tbody></table></div></details><style>\r\n",
       ".dni-code-hint {\r\n",
       "    font-style: italic;\r\n",
       "    overflow: hidden;\r\n",
       "    white-space: nowrap;\r\n",
       "}\r\n",
       ".dni-treeview {\r\n",
       "    white-space: nowrap;\r\n",
       "}\r\n",
       ".dni-treeview td {\r\n",
       "    vertical-align: top;\r\n",
       "    text-align: start;\r\n",
       "}\r\n",
       "details.dni-treeview {\r\n",
       "    padding-left: 1em;\r\n",
       "}\r\n",
       "table td {\r\n",
       "    text-align: start;\r\n",
       "}\r\n",
       "table tr { \r\n",
       "    vertical-align: top; \r\n",
       "    margin: 0em 0px;\r\n",
       "}\r\n",
       "table tr td pre \r\n",
       "{ \r\n",
       "    vertical-align: top !important; \r\n",
       "    margin: 0em 0px !important;\r\n",
       "} \r\n",
       "table th {\r\n",
       "    text-align: start;\r\n",
       "}\r\n",
       "</style>"
      ]
     },
     "metadata": {},
     "output_type": "display_data"
    }
   ],
   "source": [
    "jsonR"
   ]
  },
  {
   "cell_type": "code",
   "execution_count": null,
   "metadata": {},
   "outputs": [],
   "source": []
  }
 ],
 "metadata": {
  "kernelspec": {
   "display_name": ".NET (C#)",
   "language": "C#",
   "name": ".net-csharp"
  },
  "polyglot_notebook": {
   "kernelInfo": {
    "defaultKernelName": "csharp",
    "items": [
     {
      "aliases": [],
      "name": "csharp"
     },
     {
      "aliases": [],
      "languageName": "fsharp",
      "name": "fsharp"
     },
     {
      "aliases": [
       "js"
      ],
      "languageName": "JavaScript",
      "name": "javascript"
     }
    ]
   }
  }
 },
 "nbformat": 4,
 "nbformat_minor": 2
}
