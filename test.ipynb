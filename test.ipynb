{
 "cells": [
  {
   "cell_type": "code",
   "execution_count": 1,
   "metadata": {
    "dotnet_interactive": {
     "language": "fsharp"
    },
    "polyglot_notebook": {
     "kernelName": "fsharp"
    }
   },
   "outputs": [],
   "source": [
    "#r \"nuget: FsChat.Interactive, 0.1.0-beta1\"\n",
    "\n",
    "#r \"nuget: dotenv.net, 3.2.0\"\n",
    "open dotenv.net\n",
    "let options = DotEnvOptions(envFilePaths=[| \".env\" |])\n",
    "DotEnv.Load(options)\n",
    "\n",
    "open FsChat\n",
    "let chat = Chat(Gpt4o_mini)"
   ]
  },
  {
   "cell_type": "code",
   "execution_count": 2,
   "metadata": {
    "dotnet_interactive": {
     "language": "fsharp"
    },
    "polyglot_notebook": {
     "kernelName": "fsharp"
    }
   },
   "outputs": [],
   "source": [
    "chat.clear()\n",
    "chat.send [\n",
    "    System \"\"\"\n",
    "        You're a helpful assistant that renders responses in Markdown.\n",
    "        No politeness phrases or excuses at the beginning of responses, skip directly to content.\n",
    "    \"\"\"\n",
    "    User \"\"\"\n",
    "        Who were the winners in recent 13 years of `Eurovision` contest?\n",
    "        Render any named entity that is appearing on `Wikipedia` in italic.\n",
    "        Mark any occasion when the contest wasn't held with \"N/A\" + reason.\n",
    "\n",
    "        Start response with a short title,\n",
    "        Add a single line of explanation e.g. tell who was the most recent winner.\n",
    "        then render a Markdown table consisting of following columns:\n",
    "        | Year | Country | Artist | Song title |\n",
    "    \"\"\"\n",
    "]"
   ]
  },
  {
   "cell_type": "code",
   "execution_count": 3,
   "metadata": {
    "dotnet_interactive": {
     "language": "fsharp"
    },
    "polyglot_notebook": {
     "kernelName": "fsharp"
    }
   },
   "outputs": [],
   "source": [
    "for c in chat.context do printfn \"%A\" (Prompt.toMsg c)"
   ]
  },
  {
   "cell_type": "code",
   "execution_count": null,
   "metadata": {
    "dotnet_interactive": {
     "language": "fsharp"
    },
    "polyglot_notebook": {
     "kernelName": "fsharp"
    }
   },
   "outputs": [],
   "source": [
    "//chat.deleteLastInteracton()"
   ]
  },
  {
   "cell_type": "code",
   "execution_count": 3,
   "metadata": {
    "dotnet_interactive": {
     "language": "fsharp"
    },
    "polyglot_notebook": {
     "kernelName": "fsharp"
    }
   },
   "outputs": [],
   "source": [
    "chat.model <- Gpt4o // switch to amore powerful model for this task\n",
    "chat.send \"\"\"\n",
    "Given the above table, render a Mermaid directed graph with:\n",
    "- nodes: countries that won the contest (labeled with country name)\n",
    "- edges: time sequence of wins representing how the 'trophy' moved from one country to another (labeled with year)\n",
    "\n",
    "Example:\n",
    "\n",
    "```mermaid\n",
    "%%{init: {'theme': 'default', 'themeVariables': { 'fontSize': '9px' }}}%%\n",
    "graph TD\n",
    "    DK[Denmark]\n",
    "    AT[Austria]\n",
    "    DK -->|2014| AT\n",
    "```\n",
    "(include theme settings when rendering mermaid code)\n",
    "\n",
    "Any N/A node should be assigned country code NA and labeled `N/A: ${reason explanation}`\n",
    "\n",
    "Make sure each country appears exactly once in the graph:\n",
    "If a country won the competition multiple times, the country's node should have multiple incoming and outgoing edges.\n",
    "\"\"\""
   ]
  },
  {
   "cell_type": "code",
   "execution_count": 5,
   "metadata": {
    "dotnet_interactive": {
     "language": "fsharp"
    },
    "polyglot_notebook": {
     "kernelName": "fsharp"
    }
   },
   "outputs": [],
   "source": [
    "let jsonR = chat.send \"render some sample json document (e.g. two starwars characters) wrapped in markdown json code wrapper.\""
   ]
  },
  {
   "cell_type": "code",
   "execution_count": null,
   "metadata": {
    "dotnet_interactive": {
     "language": "fsharp"
    },
    "polyglot_notebook": {
     "kernelName": "fsharp"
    }
   },
   "outputs": [],
   "source": [
    "jsonR"
   ]
  },
  {
   "cell_type": "code",
   "execution_count": null,
   "metadata": {
    "dotnet_interactive": {
     "language": "csharp"
    },
    "polyglot_notebook": {
     "kernelName": "csharp"
    }
   },
   "outputs": [],
   "source": []
  }
 ],
 "metadata": {
  "kernelspec": {
   "display_name": ".NET (C#)",
   "language": "C#",
   "name": ".net-csharp"
  },
  "polyglot_notebook": {
   "kernelInfo": {
    "defaultKernelName": "csharp",
    "items": [
     {
      "aliases": [],
      "name": "csharp"
     },
     {
      "aliases": [],
      "languageName": "fsharp",
      "name": "fsharp"
     },
     {
      "aliases": [
       "js"
      ],
      "languageName": "JavaScript",
      "name": "javascript"
     }
    ]
   }
  }
 },
 "nbformat": 4,
 "nbformat_minor": 2
}
