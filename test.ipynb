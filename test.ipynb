{
 "cells": [
  {
   "cell_type": "code",
   "execution_count": 1,
   "metadata": {
    "dotnet_interactive": {
     "language": "fsharp"
    },
    "polyglot_notebook": {
     "kernelName": "fsharp"
    }
   },
   "outputs": [
    {
     "data": {
      "text/html": [
       "<div><div><strong>Restore sources</strong><ul><li><span> /home/peter/work/FsChat/nuget.local</span></li></ul></div><div></div><div><strong>Installed Packages</strong><ul><li><span>dotenv.net, 3.2.0</span></li><li><span>FsChat.Interactive, 0.1.0-beta2</span></li></ul></div></div>"
      ]
     },
     "metadata": {},
     "output_type": "display_data"
    }
   ],
   "source": [
    "#r \"nuget: FsChat.Interactive, 0.1.0-beta2\"\n",
    "\n",
    "#r \"nuget: dotenv.net, 3.2.0\"\n",
    "open dotenv.net\n",
    "let options = DotEnvOptions(envFilePaths=[| \".env\" |])\n",
    "DotEnv.Load(options)\n",
    "\n",
    "open FsChat\n",
    "let chat = Chat( OpenAI.gpt4o_mini )"
   ]
  },
  {
   "cell_type": "code",
   "execution_count": 2,
   "metadata": {
    "dotnet_interactive": {
     "language": "fsharp"
    },
    "polyglot_notebook": {
     "kernelName": "fsharp"
    }
   },
   "outputs": [
    {
     "data": {
      "text/html": [
       "<div class='chat-response md-blk'><div ><h1>Recent Eurovision Contest Winners</h1>\n",
       "<p>The most recent winner of the Eurovision Song Contest is <em>Loreen</em> from <em>Sweden</em>.</p>\n",
       "<table>\n",
       "<thead>\n",
       "<tr>\n",
       "<th>Year</th><th>Country</th><th>Artist</th><th>Song title</th>\n",
       "</tr>\n",
       "</thead>\n",
       "<tbody>\n",
       "<tr>\n",
       "<td>2023</td><td>Sweden</td><td><em>Loreen</em></td><td>&quot;Tattoo&quot;</td>\n",
       "</tr><tr>\n",
       "<td>2022</td><td>Ukraine</td><td><em>Kalush Orchestra</em></td><td>&quot;Stefania&quot;</td>\n",
       "</tr><tr>\n",
       "<td>2021</td><td>Italy</td><td><em>Måneskin</em></td><td>&quot;Zitti e buoni&quot;</td>\n",
       "</tr><tr>\n",
       "<td>2020</td><td>N/A</td><td>N/A</td><td>N/A (Contest canceled due to COVID-19)</td>\n",
       "</tr><tr>\n",
       "<td>2019</td><td>Netherlands</td><td><em>Duncan Laurence</em></td><td>&quot;Arcade&quot;</td>\n",
       "</tr><tr>\n",
       "<td>2018</td><td>Israel</td><td><em>Netta</em></td><td>&quot;Toy&quot;</td>\n",
       "</tr><tr>\n",
       "<td>2017</td><td>Portugal</td><td><em>Salvador Sobral</em></td><td>&quot;Amar pelos dois&quot;</td>\n",
       "</tr><tr>\n",
       "<td>2016</td><td>Ukraine</td><td><em>Jamala</em></td><td>&quot;1944&quot;</td>\n",
       "</tr><tr>\n",
       "<td>2015</td><td>Sweden</td><td><em>Måns Zelmerlöw</em></td><td>&quot;Heroes&quot;</td>\n",
       "</tr><tr>\n",
       "<td>2014</td><td>Austria</td><td><em>Conchita Wurst</em></td><td>&quot;Rise Like a Phoenix&quot;</td>\n",
       "</tr><tr>\n",
       "<td>2013</td><td>Denmark</td><td><em>Emmelie de Forest</em></td><td>&quot;Only Teardrops&quot;</td>\n",
       "</tr><tr>\n",
       "<td>2012</td><td>Sweden</td><td><em>Loreen</em></td><td>&quot;Euphoria&quot;</td>\n",
       "</tr><tr>\n",
       "<td>2011</td><td>Azerbaijan</td><td><em>Ell &amp; Nikki</em></td><td>&quot;Running Scared&quot;</td>\n",
       "</tr>\n",
       "</tbody>\n",
       "</table>\n",
       "</div></div>"
      ]
     },
     "metadata": {},
     "output_type": "display_data"
    },
    {
     "data": {
      "text/html": [
       "<details class=\"dni-treeview\"><summary><span class=\"dni-code-hint\"><code>{ result = Ok (Stop, { created = 10/20/2024 10:29:44 PM\\n                       requestedModel = &quot;gpt-4o-mini&quot;\\n                       actualModel = &quot;gpt-4o-mini-2024-07-18&quot;\\n                       fingerprint = Some &quot;fp_e2bde53e6e&quot;\\n                       nTokens = 333\\n                       durat...</code></span></summary><div><table><thead><tr></tr></thead><tbody><tr><td>result</td><td><details class=\"dni-treeview\"><summary><span class=\"dni-code-hint\"><code>Microsoft.FSharp.Core.FSharpResult`2[System.Tuple`2[FsChat.Types+FinishReason,FsChat.Types+GptStats],System.String]</code></span></summary><div><table><thead><tr></tr></thead><tbody><tr><td>ResultValue</td><td><details class=\"dni-treeview\"><summary><span class=\"dni-code-hint\"><code>(Stop, { created = 10/20/2024 10:29:44 PM\\n  requestedModel = &quot;gpt-4o-mini&quot;\\n  actualModel = &quot;gpt-4o-mini-2024-07-18&quot;\\n  fingerprint = Some &quot;fp_e2bde53e6e&quot;\\n  nTokens = 333\\n  durationMs = 4278 })</code></span></summary><div><table><thead><tr></tr></thead><tbody><tr><td>Item1</td><td><details class=\"dni-treeview\"><summary><span class=\"dni-code-hint\"><code>Stop</code></span></summary><div><table><thead><tr></tr></thead><tbody></tbody></table></div></details></td></tr><tr><td>Item2</td><td><details class=\"dni-treeview\"><summary><span class=\"dni-code-hint\"><code>{ created = 10/20/2024 10:29:44 PM\\n  requestedModel = &quot;gpt-4o-mini&quot;\\n  actualModel = &quot;gpt-4o-mini-2024-07-18&quot;\\n  fingerprint = Some &quot;fp_e2bde53e6e&quot;\\n  nTokens = 333\\n  durationMs = 4278 }</code></span></summary><div><table><thead><tr></tr></thead><tbody><tr><td>created</td><td><span>2024-10-20 22:29:44Z</span></td></tr><tr><td>requestedModel</td><td><div class=\"dni-plaintext\"><pre>gpt-4o-mini</pre></div></td></tr><tr><td>actualModel</td><td><div class=\"dni-plaintext\"><pre>gpt-4o-mini-2024-07-18</pre></div></td></tr><tr><td>fingerprint</td><td><details class=\"dni-treeview\"><summary><span class=\"dni-code-hint\"><code>Some(fp_e2bde53e6e)</code></span></summary><div><table><thead><tr></tr></thead><tbody><tr><td>Value</td><td><div class=\"dni-plaintext\"><pre>fp_e2bde53e6e</pre></div></td></tr></tbody></table></div></details></td></tr><tr><td>nTokens</td><td><div class=\"dni-plaintext\"><pre>333</pre></div></td></tr><tr><td>durationMs</td><td><div class=\"dni-plaintext\"><pre>4278</pre></div></td></tr></tbody></table></div></details></td></tr></tbody></table></div></details></td></tr><tr><td>ErrorValue</td><td><div class=\"dni-plaintext\"><pre>&lt;null&gt;</pre></div></td></tr></tbody></table></div></details></td></tr><tr><td>text</td><td><div class=\"dni-plaintext\"><pre># Recent Eurovision Contest Winners\n",
       "\n",
       "The most recent winner of the Eurovision Song Contest is *Loreen* from *Sweden*.\n",
       "\n",
       "| Year | Country  | Artist         | Song title                  |\n",
       "|------|----------|----------------|-----------------------------|\n",
       "| 2023 | Sweden   | *Loreen*       | &quot;Tattoo&quot;                    |\n",
       "| 2022 | Ukraine  | *Kalush Orchestra* | &quot;Stefania&quot;               |\n",
       "| 2021 | Italy    | *M&#229;neskin*     | &quot;Zitti e buoni&quot;            |\n",
       "| 2020 | N/A      | N/A            | N/A (Contest canceled due to COVID-19) |\n",
       "| 2019 | Netherlands | *Duncan Laurence* | &quot;Arcade&quot;               |\n",
       "| 2018 | Israel   | *Netta*        | &quot;Toy&quot;                       |\n",
       "| 2017 | Portugal | *Salvador Sobral* | &quot;Amar pelos dois&quot;       |\n",
       "| 2016 | Ukraine  | *Jamala*       | &quot;1944&quot;                      |\n",
       "| 2015 | Sweden   | *M&#229;ns Zelmerl&#246;w* | &quot;Heroes&quot;                 |\n",
       "| 2014 | Austria  | *Conchita Wurst* | &quot;Rise Like a Phoenix&quot;    |\n",
       "| 2013 | Denmark  | *Emmelie de Forest* | &quot;Only Teardrops&quot;       |\n",
       "| 2012 | Sweden   | *Loreen*       | &quot;Euphoria&quot;                 |\n",
       "| 2011 | Azerbaijan | *Ell &amp; Nikki* | &quot;Running Scared&quot;          |</pre></div></td></tr></tbody></table></div></details><style>\r\n",
       ".dni-code-hint {\r\n",
       "    font-style: italic;\r\n",
       "    overflow: hidden;\r\n",
       "    white-space: nowrap;\r\n",
       "}\r\n",
       ".dni-treeview {\r\n",
       "    white-space: nowrap;\r\n",
       "}\r\n",
       ".dni-treeview td {\r\n",
       "    vertical-align: top;\r\n",
       "    text-align: start;\r\n",
       "}\r\n",
       "details.dni-treeview {\r\n",
       "    padding-left: 1em;\r\n",
       "}\r\n",
       "table td {\r\n",
       "    text-align: start;\r\n",
       "}\r\n",
       "table tr { \r\n",
       "    vertical-align: top; \r\n",
       "    margin: 0em 0px;\r\n",
       "}\r\n",
       "table tr td pre \r\n",
       "{ \r\n",
       "    vertical-align: top !important; \r\n",
       "    margin: 0em 0px !important;\r\n",
       "} \r\n",
       "table th {\r\n",
       "    text-align: start;\r\n",
       "}\r\n",
       "</style>"
      ]
     },
     "metadata": {},
     "output_type": "display_data"
    }
   ],
   "source": [
    "chat.clear()\n",
    "chat.send [\n",
    "    Temperature 0.0\n",
    "    MaxTokens 2000\n",
    "    System \"\"\"\n",
    "        You're a helpful assistant that renders responses in Markdown.\n",
    "        No politeness phrases or excuses at the beginning of responses, skip directly to content.\n",
    "    \"\"\"\n",
    "    User \"\"\"\n",
    "        Who were the winners in recent 13 years of `Eurovision` contest?\n",
    "        Render any named entity that is appearing on `Wikipedia` in italic.\n",
    "        Mark any occasion when the contest wasn't held with \"N/A\" + reason.\n",
    "\n",
    "        Start response with a short title,\n",
    "        Add a single line of explanation e.g. tell who was the most recent winner.\n",
    "        then render a Markdown table consisting of following columns:\n",
    "        | Year | Country | Artist | Song title |\n",
    "    \"\"\"\n",
    "]"
   ]
  },
  {
   "cell_type": "code",
   "execution_count": 3,
   "metadata": {
    "dotnet_interactive": {
     "language": "fsharp"
    },
    "polyglot_notebook": {
     "kernelName": "fsharp"
    }
   },
   "outputs": [
    {
     "name": "stdout",
     "output_type": "stream",
     "text": [
      "[system] You're a helpful assistant that renders responses in Markdown.\n",
      "No politeness phrases or excuses at the beginning of responses, skip directly to content.\n",
      "[user]         Who were the winners in recent 13 years of `Eurovision` contest?\n",
      "        Render any named entity that is appearing on `Wikipedia` in italic.\n",
      "        Mark any occasion when the contest wasn't held with \"N/A\" + reason.\n",
      "\n",
      "        Start response with a short title,\n",
      "        Add a single line of explanation e.g. tell who was the most recent winner.\n",
      "        then render a Markdown table consisting of following columns:\n",
      "        | Year | Country | Artist | Song title |\n",
      "\n",
      "[assistant] # Recent Eurovision Contest Winners\n",
      "\n",
      "The most recent winner of the Eurovision Song Contest is *Loreen* from *Sweden*.\n",
      "\n",
      "| Year | Country  | Artist         | Song title                  |\n",
      "|------|----------|----------------|-----------------------------|\n",
      "| 2023 | Sweden   | *Loreen*       | \"Tattoo\"                    |\n",
      "| 2022 | Ukraine  | *Kalush Orchestra* | \"Stefania\"               |\n",
      "| 2021 | Italy    | *Måneskin*     | \"Zitti e buoni\"            |\n",
      "| 2020 | N/A      | N/A            | N/A (Contest canceled due to COVID-19) |\n",
      "| 2019 | Netherlands | *Duncan Laurence* | \"Arcade\"               |\n",
      "| 2018 | Israel   | *Netta*        | \"Toy\"                       |\n",
      "| 2017 | Portugal | *Salvador Sobral* | \"Amar pelos dois\"       |\n",
      "| 2016 | Ukraine  | *Jamala*       | \"1944\"                      |\n",
      "| 2015 | Sweden   | *Måns Zelmerlöw* | \"Heroes\"                 |\n",
      "| 2014 | Austria  | *Conchita Wurst* | \"Rise Like a Phoenix\"    |\n",
      "| 2013 | Denmark  | *Emmelie de Forest* | \"Only Teardrops\"       |\n",
      "| 2012 | Sweden   | *Loreen*       | \"Euphoria\"                 |\n",
      "| 2011 | Azerbaijan | *Ell & Nikki* | \"Running Scared\"          |\n"
     ]
    }
   ],
   "source": [
    "for m in chat.messages do printfn \"[%A] %s\" m.role m.content"
   ]
  },
  {
   "cell_type": "code",
   "execution_count": null,
   "metadata": {
    "dotnet_interactive": {
     "language": "fsharp"
    },
    "polyglot_notebook": {
     "kernelName": "fsharp"
    }
   },
   "outputs": [
    {
     "data": {
      "text/html": [
       "<table><thead><tr><th><i>index</i></th><th>value</th></tr></thead><tbody><tr><td>0</td><td><details class=\"dni-treeview\"><summary><span class=\"dni-code-hint\"><code>{ year = 2023\\n  country = Some &quot;Sweden&quot;\\n  artist = Some &quot;Loreen&quot;\\n  song = Some &quot;&quot;Tattoo&quot;&quot; }</code></span></summary><div><table><thead><tr></tr></thead><tbody><tr><td>year</td><td><div class=\"dni-plaintext\"><pre>2023</pre></div></td></tr><tr><td>country</td><td><details class=\"dni-treeview\"><summary><span class=\"dni-code-hint\"><code>Some(Sweden)</code></span></summary><div><table><thead><tr></tr></thead><tbody><tr><td>Value</td><td><div class=\"dni-plaintext\"><pre>Sweden</pre></div></td></tr></tbody></table></div></details></td></tr><tr><td>artist</td><td><details class=\"dni-treeview\"><summary><span class=\"dni-code-hint\"><code>Some(Loreen)</code></span></summary><div><table><thead><tr></tr></thead><tbody><tr><td>Value</td><td><div class=\"dni-plaintext\"><pre>Loreen</pre></div></td></tr></tbody></table></div></details></td></tr><tr><td>song</td><td><details class=\"dni-treeview\"><summary><span class=\"dni-code-hint\"><code>Some(&quot;Tattoo&quot;)</code></span></summary><div><table><thead><tr></tr></thead><tbody><tr><td>Value</td><td><div class=\"dni-plaintext\"><pre>&quot;Tattoo&quot;</pre></div></td></tr></tbody></table></div></details></td></tr></tbody></table></div></details></td></tr><tr><td>1</td><td><details class=\"dni-treeview\"><summary><span class=\"dni-code-hint\"><code>{ year = 2022\\n  country = Some &quot;Ukraine&quot;\\n  artist = Some &quot;Kalush Orchestra&quot;\\n  song = Some &quot;&quot;Stefania&quot;&quot; }</code></span></summary><div><table><thead><tr></tr></thead><tbody><tr><td>year</td><td><div class=\"dni-plaintext\"><pre>2022</pre></div></td></tr><tr><td>country</td><td><details class=\"dni-treeview\"><summary><span class=\"dni-code-hint\"><code>Some(Ukraine)</code></span></summary><div><table><thead><tr></tr></thead><tbody><tr><td>Value</td><td><div class=\"dni-plaintext\"><pre>Ukraine</pre></div></td></tr></tbody></table></div></details></td></tr><tr><td>artist</td><td><details class=\"dni-treeview\"><summary><span class=\"dni-code-hint\"><code>Some(Kalush Orchestra)</code></span></summary><div><table><thead><tr></tr></thead><tbody><tr><td>Value</td><td><div class=\"dni-plaintext\"><pre>Kalush Orchestra</pre></div></td></tr></tbody></table></div></details></td></tr><tr><td>song</td><td><details class=\"dni-treeview\"><summary><span class=\"dni-code-hint\"><code>Some(&quot;Stefania&quot;)</code></span></summary><div><table><thead><tr></tr></thead><tbody><tr><td>Value</td><td><div class=\"dni-plaintext\"><pre>&quot;Stefania&quot;</pre></div></td></tr></tbody></table></div></details></td></tr></tbody></table></div></details></td></tr><tr><td>2</td><td><details class=\"dni-treeview\"><summary><span class=\"dni-code-hint\"><code>{ year = 2021\\n  country = Some &quot;Italy&quot;\\n  artist = Some &quot;M&#229;neskin&quot;\\n  song = Some &quot;&quot;Zitti e buoni&quot;&quot; }</code></span></summary><div><table><thead><tr></tr></thead><tbody><tr><td>year</td><td><div class=\"dni-plaintext\"><pre>2021</pre></div></td></tr><tr><td>country</td><td><details class=\"dni-treeview\"><summary><span class=\"dni-code-hint\"><code>Some(Italy)</code></span></summary><div><table><thead><tr></tr></thead><tbody><tr><td>Value</td><td><div class=\"dni-plaintext\"><pre>Italy</pre></div></td></tr></tbody></table></div></details></td></tr><tr><td>artist</td><td><details class=\"dni-treeview\"><summary><span class=\"dni-code-hint\"><code>Some(M&#229;neskin)</code></span></summary><div><table><thead><tr></tr></thead><tbody><tr><td>Value</td><td><div class=\"dni-plaintext\"><pre>M&#229;neskin</pre></div></td></tr></tbody></table></div></details></td></tr><tr><td>song</td><td><details class=\"dni-treeview\"><summary><span class=\"dni-code-hint\"><code>Some(&quot;Zitti e buoni&quot;)</code></span></summary><div><table><thead><tr></tr></thead><tbody><tr><td>Value</td><td><div class=\"dni-plaintext\"><pre>&quot;Zitti e buoni&quot;</pre></div></td></tr></tbody></table></div></details></td></tr></tbody></table></div></details></td></tr><tr><td>3</td><td><details class=\"dni-treeview\"><summary><span class=\"dni-code-hint\"><code>{ year = 2020\\n  country = None\\n  artist = None\\n  song = Some &quot;N/A (Contest canceled due to COVID-19)&quot; }</code></span></summary><div><table><thead><tr></tr></thead><tbody><tr><td>year</td><td><div class=\"dni-plaintext\"><pre>2020</pre></div></td></tr><tr><td>country</td><td><div class=\"dni-plaintext\"><pre>&lt;null&gt;</pre></div></td></tr><tr><td>artist</td><td><div class=\"dni-plaintext\"><pre>&lt;null&gt;</pre></div></td></tr><tr><td>song</td><td><details class=\"dni-treeview\"><summary><span class=\"dni-code-hint\"><code>Some(N/A (Contest canceled due to COVID-19))</code></span></summary><div><table><thead><tr></tr></thead><tbody><tr><td>Value</td><td><div class=\"dni-plaintext\"><pre>N/A (Contest canceled due to COVID-19)</pre></div></td></tr></tbody></table></div></details></td></tr></tbody></table></div></details></td></tr><tr><td>4</td><td><details class=\"dni-treeview\"><summary><span class=\"dni-code-hint\"><code>{ year = 2019\\n  country = Some &quot;Netherlands&quot;\\n  artist = Some &quot;Duncan Laurence&quot;\\n  song = Some &quot;&quot;Arcade&quot;&quot; }</code></span></summary><div><table><thead><tr></tr></thead><tbody><tr><td>year</td><td><div class=\"dni-plaintext\"><pre>2019</pre></div></td></tr><tr><td>country</td><td><details class=\"dni-treeview\"><summary><span class=\"dni-code-hint\"><code>Some(Netherlands)</code></span></summary><div><table><thead><tr></tr></thead><tbody><tr><td>Value</td><td><div class=\"dni-plaintext\"><pre>Netherlands</pre></div></td></tr></tbody></table></div></details></td></tr><tr><td>artist</td><td><details class=\"dni-treeview\"><summary><span class=\"dni-code-hint\"><code>Some(Duncan Laurence)</code></span></summary><div><table><thead><tr></tr></thead><tbody><tr><td>Value</td><td><div class=\"dni-plaintext\"><pre>Duncan Laurence</pre></div></td></tr></tbody></table></div></details></td></tr><tr><td>song</td><td><details class=\"dni-treeview\"><summary><span class=\"dni-code-hint\"><code>Some(&quot;Arcade&quot;)</code></span></summary><div><table><thead><tr></tr></thead><tbody><tr><td>Value</td><td><div class=\"dni-plaintext\"><pre>&quot;Arcade&quot;</pre></div></td></tr></tbody></table></div></details></td></tr></tbody></table></div></details></td></tr><tr><td>5</td><td><details class=\"dni-treeview\"><summary><span class=\"dni-code-hint\"><code>{ year = 2018\\n  country = Some &quot;Israel&quot;\\n  artist = Some &quot;Netta&quot;\\n  song = Some &quot;&quot;Toy&quot;&quot; }</code></span></summary><div><table><thead><tr></tr></thead><tbody><tr><td>year</td><td><div class=\"dni-plaintext\"><pre>2018</pre></div></td></tr><tr><td>country</td><td><details class=\"dni-treeview\"><summary><span class=\"dni-code-hint\"><code>Some(Israel)</code></span></summary><div><table><thead><tr></tr></thead><tbody><tr><td>Value</td><td><div class=\"dni-plaintext\"><pre>Israel</pre></div></td></tr></tbody></table></div></details></td></tr><tr><td>artist</td><td><details class=\"dni-treeview\"><summary><span class=\"dni-code-hint\"><code>Some(Netta)</code></span></summary><div><table><thead><tr></tr></thead><tbody><tr><td>Value</td><td><div class=\"dni-plaintext\"><pre>Netta</pre></div></td></tr></tbody></table></div></details></td></tr><tr><td>song</td><td><details class=\"dni-treeview\"><summary><span class=\"dni-code-hint\"><code>Some(&quot;Toy&quot;)</code></span></summary><div><table><thead><tr></tr></thead><tbody><tr><td>Value</td><td><div class=\"dni-plaintext\"><pre>&quot;Toy&quot;</pre></div></td></tr></tbody></table></div></details></td></tr></tbody></table></div></details></td></tr><tr><td>6</td><td><details class=\"dni-treeview\"><summary><span class=\"dni-code-hint\"><code>{ year = 2017\\n  country = Some &quot;Portugal&quot;\\n  artist = Some &quot;Salvador Sobral&quot;\\n  song = Some &quot;&quot;Amar pelos dois&quot;&quot; }</code></span></summary><div><table><thead><tr></tr></thead><tbody><tr><td>year</td><td><div class=\"dni-plaintext\"><pre>2017</pre></div></td></tr><tr><td>country</td><td><details class=\"dni-treeview\"><summary><span class=\"dni-code-hint\"><code>Some(Portugal)</code></span></summary><div><table><thead><tr></tr></thead><tbody><tr><td>Value</td><td><div class=\"dni-plaintext\"><pre>Portugal</pre></div></td></tr></tbody></table></div></details></td></tr><tr><td>artist</td><td><details class=\"dni-treeview\"><summary><span class=\"dni-code-hint\"><code>Some(Salvador Sobral)</code></span></summary><div><table><thead><tr></tr></thead><tbody><tr><td>Value</td><td><div class=\"dni-plaintext\"><pre>Salvador Sobral</pre></div></td></tr></tbody></table></div></details></td></tr><tr><td>song</td><td><details class=\"dni-treeview\"><summary><span class=\"dni-code-hint\"><code>Some(&quot;Amar pelos dois&quot;)</code></span></summary><div><table><thead><tr></tr></thead><tbody><tr><td>Value</td><td><div class=\"dni-plaintext\"><pre>&quot;Amar pelos dois&quot;</pre></div></td></tr></tbody></table></div></details></td></tr></tbody></table></div></details></td></tr><tr><td>7</td><td><details class=\"dni-treeview\"><summary><span class=\"dni-code-hint\"><code>{ year = 2016\\n  country = Some &quot;Ukraine&quot;\\n  artist = Some &quot;Jamala&quot;\\n  song = Some &quot;&quot;1944&quot;&quot; }</code></span></summary><div><table><thead><tr></tr></thead><tbody><tr><td>year</td><td><div class=\"dni-plaintext\"><pre>2016</pre></div></td></tr><tr><td>country</td><td><details class=\"dni-treeview\"><summary><span class=\"dni-code-hint\"><code>Some(Ukraine)</code></span></summary><div><table><thead><tr></tr></thead><tbody><tr><td>Value</td><td><div class=\"dni-plaintext\"><pre>Ukraine</pre></div></td></tr></tbody></table></div></details></td></tr><tr><td>artist</td><td><details class=\"dni-treeview\"><summary><span class=\"dni-code-hint\"><code>Some(Jamala)</code></span></summary><div><table><thead><tr></tr></thead><tbody><tr><td>Value</td><td><div class=\"dni-plaintext\"><pre>Jamala</pre></div></td></tr></tbody></table></div></details></td></tr><tr><td>song</td><td><details class=\"dni-treeview\"><summary><span class=\"dni-code-hint\"><code>Some(&quot;1944&quot;)</code></span></summary><div><table><thead><tr></tr></thead><tbody><tr><td>Value</td><td><div class=\"dni-plaintext\"><pre>&quot;1944&quot;</pre></div></td></tr></tbody></table></div></details></td></tr></tbody></table></div></details></td></tr><tr><td>8</td><td><details class=\"dni-treeview\"><summary><span class=\"dni-code-hint\"><code>{ year = 2015\\n  country = Some &quot;Sweden&quot;\\n  artist = Some &quot;M&#229;ns Zelmerl&#246;w&quot;\\n  song = Some &quot;&quot;Heroes&quot;&quot; }</code></span></summary><div><table><thead><tr></tr></thead><tbody><tr><td>year</td><td><div class=\"dni-plaintext\"><pre>2015</pre></div></td></tr><tr><td>country</td><td><details class=\"dni-treeview\"><summary><span class=\"dni-code-hint\"><code>Some(Sweden)</code></span></summary><div><table><thead><tr></tr></thead><tbody><tr><td>Value</td><td><div class=\"dni-plaintext\"><pre>Sweden</pre></div></td></tr></tbody></table></div></details></td></tr><tr><td>artist</td><td><details class=\"dni-treeview\"><summary><span class=\"dni-code-hint\"><code>Some(M&#229;ns Zelmerl&#246;w)</code></span></summary><div><table><thead><tr></tr></thead><tbody><tr><td>Value</td><td><div class=\"dni-plaintext\"><pre>M&#229;ns Zelmerl&#246;w</pre></div></td></tr></tbody></table></div></details></td></tr><tr><td>song</td><td><details class=\"dni-treeview\"><summary><span class=\"dni-code-hint\"><code>Some(&quot;Heroes&quot;)</code></span></summary><div><table><thead><tr></tr></thead><tbody><tr><td>Value</td><td><div class=\"dni-plaintext\"><pre>&quot;Heroes&quot;</pre></div></td></tr></tbody></table></div></details></td></tr></tbody></table></div></details></td></tr><tr><td>9</td><td><details class=\"dni-treeview\"><summary><span class=\"dni-code-hint\"><code>{ year = 2014\\n  country = Some &quot;Austria&quot;\\n  artist = Some &quot;Conchita Wurst&quot;\\n  song = Some &quot;&quot;Rise Like a Phoenix&quot;&quot; }</code></span></summary><div><table><thead><tr></tr></thead><tbody><tr><td>year</td><td><div class=\"dni-plaintext\"><pre>2014</pre></div></td></tr><tr><td>country</td><td><details class=\"dni-treeview\"><summary><span class=\"dni-code-hint\"><code>Some(Austria)</code></span></summary><div><table><thead><tr></tr></thead><tbody><tr><td>Value</td><td><div class=\"dni-plaintext\"><pre>Austria</pre></div></td></tr></tbody></table></div></details></td></tr><tr><td>artist</td><td><details class=\"dni-treeview\"><summary><span class=\"dni-code-hint\"><code>Some(Conchita Wurst)</code></span></summary><div><table><thead><tr></tr></thead><tbody><tr><td>Value</td><td><div class=\"dni-plaintext\"><pre>Conchita Wurst</pre></div></td></tr></tbody></table></div></details></td></tr><tr><td>song</td><td><details class=\"dni-treeview\"><summary><span class=\"dni-code-hint\"><code>Some(&quot;Rise Like a Phoenix&quot;)</code></span></summary><div><table><thead><tr></tr></thead><tbody><tr><td>Value</td><td><div class=\"dni-plaintext\"><pre>&quot;Rise Like a Phoenix&quot;</pre></div></td></tr></tbody></table></div></details></td></tr></tbody></table></div></details></td></tr><tr><td>10</td><td><details class=\"dni-treeview\"><summary><span class=\"dni-code-hint\"><code>{ year = 2013\\n  country = Some &quot;Denmark&quot;\\n  artist = Some &quot;Emmelie de Forest&quot;\\n  song = Some &quot;&quot;Only Teardrops&quot;&quot; }</code></span></summary><div><table><thead><tr></tr></thead><tbody><tr><td>year</td><td><div class=\"dni-plaintext\"><pre>2013</pre></div></td></tr><tr><td>country</td><td><details class=\"dni-treeview\"><summary><span class=\"dni-code-hint\"><code>Some(Denmark)</code></span></summary><div><table><thead><tr></tr></thead><tbody><tr><td>Value</td><td><div class=\"dni-plaintext\"><pre>Denmark</pre></div></td></tr></tbody></table></div></details></td></tr><tr><td>artist</td><td><details class=\"dni-treeview\"><summary><span class=\"dni-code-hint\"><code>Some(Emmelie de Forest)</code></span></summary><div><table><thead><tr></tr></thead><tbody><tr><td>Value</td><td><div class=\"dni-plaintext\"><pre>Emmelie de Forest</pre></div></td></tr></tbody></table></div></details></td></tr><tr><td>song</td><td><details class=\"dni-treeview\"><summary><span class=\"dni-code-hint\"><code>Some(&quot;Only Teardrops&quot;)</code></span></summary><div><table><thead><tr></tr></thead><tbody><tr><td>Value</td><td><div class=\"dni-plaintext\"><pre>&quot;Only Teardrops&quot;</pre></div></td></tr></tbody></table></div></details></td></tr></tbody></table></div></details></td></tr><tr><td>11</td><td><details class=\"dni-treeview\"><summary><span class=\"dni-code-hint\"><code>{ year = 2012\\n  country = Some &quot;Sweden&quot;\\n  artist = Some &quot;Loreen&quot;\\n  song = Some &quot;&quot;Euphoria&quot;&quot; }</code></span></summary><div><table><thead><tr></tr></thead><tbody><tr><td>year</td><td><div class=\"dni-plaintext\"><pre>2012</pre></div></td></tr><tr><td>country</td><td><details class=\"dni-treeview\"><summary><span class=\"dni-code-hint\"><code>Some(Sweden)</code></span></summary><div><table><thead><tr></tr></thead><tbody><tr><td>Value</td><td><div class=\"dni-plaintext\"><pre>Sweden</pre></div></td></tr></tbody></table></div></details></td></tr><tr><td>artist</td><td><details class=\"dni-treeview\"><summary><span class=\"dni-code-hint\"><code>Some(Loreen)</code></span></summary><div><table><thead><tr></tr></thead><tbody><tr><td>Value</td><td><div class=\"dni-plaintext\"><pre>Loreen</pre></div></td></tr></tbody></table></div></details></td></tr><tr><td>song</td><td><details class=\"dni-treeview\"><summary><span class=\"dni-code-hint\"><code>Some(&quot;Euphoria&quot;)</code></span></summary><div><table><thead><tr></tr></thead><tbody><tr><td>Value</td><td><div class=\"dni-plaintext\"><pre>&quot;Euphoria&quot;</pre></div></td></tr></tbody></table></div></details></td></tr></tbody></table></div></details></td></tr><tr><td>12</td><td><details class=\"dni-treeview\"><summary><span class=\"dni-code-hint\"><code>{ year = 2011\\n  country = Some &quot;Azerbaijan&quot;\\n  artist = Some &quot;Ell &amp;amp; Nikki&quot;\\n  song = Some &quot;&quot;Running Scared&quot;&quot; }</code></span></summary><div><table><thead><tr></tr></thead><tbody><tr><td>year</td><td><div class=\"dni-plaintext\"><pre>2011</pre></div></td></tr><tr><td>country</td><td><details class=\"dni-treeview\"><summary><span class=\"dni-code-hint\"><code>Some(Azerbaijan)</code></span></summary><div><table><thead><tr></tr></thead><tbody><tr><td>Value</td><td><div class=\"dni-plaintext\"><pre>Azerbaijan</pre></div></td></tr></tbody></table></div></details></td></tr><tr><td>artist</td><td><details class=\"dni-treeview\"><summary><span class=\"dni-code-hint\"><code>Some(Ell &amp;amp; Nikki)</code></span></summary><div><table><thead><tr></tr></thead><tbody><tr><td>Value</td><td><div class=\"dni-plaintext\"><pre>Ell &amp;amp; Nikki</pre></div></td></tr></tbody></table></div></details></td></tr><tr><td>song</td><td><details class=\"dni-treeview\"><summary><span class=\"dni-code-hint\"><code>Some(&quot;Running Scared&quot;)</code></span></summary><div><table><thead><tr></tr></thead><tbody><tr><td>Value</td><td><div class=\"dni-plaintext\"><pre>&quot;Running Scared&quot;</pre></div></td></tr></tbody></table></div></details></td></tr></tbody></table></div></details></td></tr></tbody></table><style>\r\n",
       ".dni-code-hint {\r\n",
       "    font-style: italic;\r\n",
       "    overflow: hidden;\r\n",
       "    white-space: nowrap;\r\n",
       "}\r\n",
       ".dni-treeview {\r\n",
       "    white-space: nowrap;\r\n",
       "}\r\n",
       ".dni-treeview td {\r\n",
       "    vertical-align: top;\r\n",
       "    text-align: start;\r\n",
       "}\r\n",
       "details.dni-treeview {\r\n",
       "    padding-left: 1em;\r\n",
       "}\r\n",
       "table td {\r\n",
       "    text-align: start;\r\n",
       "}\r\n",
       "table tr { \r\n",
       "    vertical-align: top; \r\n",
       "    margin: 0em 0px;\r\n",
       "}\r\n",
       "table tr td pre \r\n",
       "{ \r\n",
       "    vertical-align: top !important; \r\n",
       "    margin: 0em 0px !important;\r\n",
       "} \r\n",
       "table th {\r\n",
       "    text-align: start;\r\n",
       "}\r\n",
       "</style>"
      ]
     },
     "metadata": {},
     "output_type": "display_data"
    }
   ],
   "source": [
    "// Extract table data from the response into user specified type\n",
    "type Eurovision = {\n",
    "    year: int\n",
    "    country: string option\n",
    "    artist: string option\n",
    "    song: string option\n",
    "    // ^ notice: it's not 'Song title' like in teble\n",
    "    // We find closest string using Levenshtein edit distance.\n",
    "}\n",
    "chat.parseTableAs<Eurovision[]>()"
   ]
  },
  {
   "cell_type": "code",
   "execution_count": null,
   "metadata": {
    "dotnet_interactive": {
     "language": "fsharp"
    },
    "polyglot_notebook": {
     "kernelName": "fsharp"
    }
   },
   "outputs": [],
   "source": [
    "// chat.undo()"
   ]
  },
  {
   "cell_type": "code",
   "execution_count": 3,
   "metadata": {
    "dotnet_interactive": {
     "language": "fsharp"
    },
    "polyglot_notebook": {
     "kernelName": "fsharp"
    }
   },
   "outputs": [
    {
     "data": {
      "text/html": [
       "<div class='chat-response md-blk'><div ><div class='mermaid-blk' style='background-color:white;'>\n",
       "<svg id=\"mermaid-2\" width=\"100%\" xmlns=\"http://www.w3.org/2000/svg\" class=\"flowchart\" style=\"max-width: 1522.09375px;\" viewBox=\"0.000003814697265625 0.0000019073486328125 1522.09375 181.35154724121094\" role=\"graphics-document document\" aria-roledescription=\"flowchart-v2\"><style>#mermaid-2{font-family:\"trebuchet ms\",verdana,arial,sans-serif;font-size:9px;fill:#333;}#mermaid-2 .error-icon{fill:#552222;}#mermaid-2 .error-text{fill:#552222;stroke:#552222;}#mermaid-2 .edge-thickness-normal{stroke-width:1px;}#mermaid-2 .edge-thickness-thick{stroke-width:3.5px;}#mermaid-2 .edge-pattern-solid{stroke-dasharray:0;}#mermaid-2 .edge-thickness-invisible{stroke-width:0;fill:none;}#mermaid-2 .edge-pattern-dashed{stroke-dasharray:3;}#mermaid-2 .edge-pattern-dotted{stroke-dasharray:2;}#mermaid-2 .marker{fill:#333333;stroke:#333333;}#mermaid-2 .marker.cross{stroke:#333333;}#mermaid-2 svg{font-family:\"trebuchet ms\",verdana,arial,sans-serif;font-size:9px;}#mermaid-2 p{margin:0;}#mermaid-2 .label{font-family:\"trebuchet ms\",verdana,arial,sans-serif;color:#333;}#mermaid-2 .cluster-label text{fill:#333;}#mermaid-2 .cluster-label span{color:#333;}#mermaid-2 .cluster-label span p{background-color:transparent;}#mermaid-2 .label text,#mermaid-2 span{fill:#333;color:#333;}#mermaid-2 .node rect,#mermaid-2 .node circle,#mermaid-2 .node ellipse,#mermaid-2 .node polygon,#mermaid-2 .node path{fill:#ECECFF;stroke:#9370DB;stroke-width:1px;}#mermaid-2 .rough-node .label text,#mermaid-2 .node .label text,#mermaid-2 .image-shape .label,#mermaid-2 .icon-shape .label{text-anchor:middle;}#mermaid-2 .node .katex path{fill:#000;stroke:#000;stroke-width:1px;}#mermaid-2 .rough-node .label,#mermaid-2 .node .label,#mermaid-2 .image-shape .label,#mermaid-2 .icon-shape .label{text-align:center;}#mermaid-2 .node.clickable{cursor:pointer;}#mermaid-2 .root .anchor path{fill:#333333!important;stroke-width:0;stroke:#333333;}#mermaid-2 .arrowheadPath{fill:#333333;}#mermaid-2 .edgePath .path{stroke:#333333;stroke-width:2.0px;}#mermaid-2 .flowchart-link{stroke:#333333;fill:none;}#mermaid-2 .edgeLabel{background-color:rgba(232,232,232, 0.8);text-align:center;}#mermaid-2 .edgeLabel p{background-color:rgba(232,232,232, 0.8);}#mermaid-2 .edgeLabel rect{opacity:0.5;background-color:rgba(232,232,232, 0.8);fill:rgba(232,232,232, 0.8);}#mermaid-2 .labelBkg{background-color:rgba(232, 232, 232, 0.5);}#mermaid-2 .cluster rect{fill:#ffffde;stroke:#aaaa33;stroke-width:1px;}#mermaid-2 .cluster text{fill:#333;}#mermaid-2 .cluster span{color:#333;}#mermaid-2 div.mermaidTooltip{position:absolute;text-align:center;max-width:200px;padding:2px;font-family:\"trebuchet ms\",verdana,arial,sans-serif;font-size:12px;background:hsl(80, 100%, 96.2745098039%);border:1px solid #aaaa33;border-radius:2px;pointer-events:none;z-index:100;}#mermaid-2 .flowchartTitleText{text-anchor:middle;font-size:18px;fill:#333;}#mermaid-2 rect.text{fill:none;stroke-width:0;}#mermaid-2 .icon-shape,#mermaid-2 .image-shape{background-color:rgba(232,232,232, 0.8);text-align:center;}#mermaid-2 .icon-shape p,#mermaid-2 .image-shape p{background-color:rgba(232,232,232, 0.8);padding:2px;}#mermaid-2 .icon-shape rect,#mermaid-2 .image-shape rect{opacity:0.5;background-color:rgba(232,232,232, 0.8);fill:rgba(232,232,232, 0.8);}#mermaid-2 :root{--mermaid-font-family:\"trebuchet ms\",verdana,arial,sans-serif;}</style><g><marker id=\"mermaid-2_flowchart-v2-pointEnd\" class=\"marker flowchart-v2\" viewBox=\"0 0 10 10\" refX=\"5\" refY=\"5\" markerUnits=\"userSpaceOnUse\" markerWidth=\"8\" markerHeight=\"8\" orient=\"auto\"><path d=\"M 0 0 L 10 5 L 0 10 z\" class=\"arrowMarkerPath\" style=\"stroke-width: 1; stroke-dasharray: 1, 0;\"></path></marker><marker id=\"mermaid-2_flowchart-v2-pointStart\" class=\"marker flowchart-v2\" viewBox=\"0 0 10 10\" refX=\"4.5\" refY=\"5\" markerUnits=\"userSpaceOnUse\" markerWidth=\"8\" markerHeight=\"8\" orient=\"auto\"><path d=\"M 0 5 L 10 10 L 10 0 z\" class=\"arrowMarkerPath\" style=\"stroke-width: 1; stroke-dasharray: 1, 0;\"></path></marker><marker id=\"mermaid-2_flowchart-v2-circleEnd\" class=\"marker flowchart-v2\" viewBox=\"0 0 10 10\" refX=\"11\" refY=\"5\" markerUnits=\"userSpaceOnUse\" markerWidth=\"11\" markerHeight=\"11\" orient=\"auto\"><circle cx=\"5\" cy=\"5\" r=\"5\" class=\"arrowMarkerPath\" style=\"stroke-width: 1; stroke-dasharray: 1, 0;\"></circle></marker><marker id=\"mermaid-2_flowchart-v2-circleStart\" class=\"marker flowchart-v2\" viewBox=\"0 0 10 10\" refX=\"-1\" refY=\"5\" markerUnits=\"userSpaceOnUse\" markerWidth=\"11\" markerHeight=\"11\" orient=\"auto\"><circle cx=\"5\" cy=\"5\" r=\"5\" class=\"arrowMarkerPath\" style=\"stroke-width: 1; stroke-dasharray: 1, 0;\"></circle></marker><marker id=\"mermaid-2_flowchart-v2-crossEnd\" class=\"marker cross flowchart-v2\" viewBox=\"0 0 11 11\" refX=\"12\" refY=\"5.2\" markerUnits=\"userSpaceOnUse\" markerWidth=\"11\" markerHeight=\"11\" orient=\"auto\"><path d=\"M 1,1 l 9,9 M 10,1 l -9,9\" class=\"arrowMarkerPath\" style=\"stroke-width: 2; stroke-dasharray: 1, 0;\"></path></marker><marker id=\"mermaid-2_flowchart-v2-crossStart\" class=\"marker cross flowchart-v2\" viewBox=\"0 0 11 11\" refX=\"-1\" refY=\"5.2\" markerUnits=\"userSpaceOnUse\" markerWidth=\"11\" markerHeight=\"11\" orient=\"auto\"><path d=\"M 1,1 l 9,9 M 10,1 l -9,9\" class=\"arrowMarkerPath\" style=\"stroke-width: 2; stroke-dasharray: 1, 0;\"></path></marker><g class=\"root\"><g class=\"clusters\"></g><g class=\"edgePaths\"><path d=\"M107.408,58.117L113.787,58.117C120.166,58.117,132.924,58.117,142.173,58.117C151.422,58.117,157.162,58.117,162.236,58.117C167.309,58.117,171.716,58.117,173.919,58.117L176.122,58.117\" id=\"L_DK_AT_0\" class=\" edge-thickness-normal edge-pattern-solid edge-thickness-normal edge-pattern-solid flowchart-link\" style=\"\" marker-end=\"url(#mermaid-2_flowchart-v2-pointEnd)\"></path><path d=\"M268.352,58.117L274.092,58.117C279.832,58.117,291.312,58.117,299.922,58.117C308.532,58.117,314.272,58.117,319.345,58.117C324.418,58.117,328.825,58.117,331.028,58.117L333.232,58.117\" id=\"L_AT_SE_1\" class=\" edge-thickness-normal edge-pattern-solid edge-thickness-normal edge-pattern-solid flowchart-link\" style=\"\" marker-end=\"url(#mermaid-2_flowchart-v2-pointEnd)\"></path><path d=\"M428,48.597L433.74,47.393C439.48,46.189,450.96,43.781,459.57,43.178C468.18,42.575,473.92,43.777,479.008,44.843C484.095,45.909,488.53,46.838,490.748,47.302L492.965,47.767\" id=\"L_SE_UA_2\" class=\" edge-thickness-normal edge-pattern-solid edge-thickness-normal edge-pattern-solid flowchart-link\" style=\"\" marker-end=\"url(#mermaid-2_flowchart-v2-pointEnd)\"></path><path d=\"M587.87,41.969L593.61,39.932C599.35,37.894,610.83,33.82,619.44,31.782C628.05,29.745,633.79,29.745,638.863,29.745C643.937,29.745,648.343,29.745,650.547,29.745L652.75,29.745\" id=\"L_UA_PT_3\" class=\" edge-thickness-normal edge-pattern-solid edge-thickness-normal edge-pattern-solid flowchart-link\" style=\"\" marker-end=\"url(#mermaid-2_flowchart-v2-pointEnd)\"></path><path d=\"M750.057,29.745L755.797,29.745C761.537,29.745,773.017,29.745,781.627,29.745C790.237,29.745,795.977,29.745,801.051,29.745C806.124,29.745,810.531,29.745,812.734,29.745L814.937,29.745\" id=\"L_PT_IL_4\" class=\" edge-thickness-normal edge-pattern-solid edge-thickness-normal edge-pattern-solid flowchart-link\" style=\"\" marker-end=\"url(#mermaid-2_flowchart-v2-pointEnd)\"></path><path d=\"M900.878,29.745L906.618,29.745C912.358,29.745,923.838,29.745,932.448,29.745C941.058,29.745,946.798,29.745,951.871,29.745C956.944,29.745,961.351,29.745,963.554,29.745L965.758,29.745\" id=\"L_IL_NL_5\" class=\" edge-thickness-normal edge-pattern-solid edge-thickness-normal edge-pattern-solid flowchart-link\" style=\"\" marker-end=\"url(#mermaid-2_flowchart-v2-pointEnd)\"></path><path d=\"M1078.247,29.745L1083.987,29.745C1089.727,29.745,1101.207,29.745,1109.817,29.745C1118.427,29.745,1124.168,29.745,1129.241,29.745C1134.314,29.745,1138.721,29.745,1140.924,29.745L1143.128,29.745\" id=\"L_NL_NA_6\" class=\" edge-thickness-normal edge-pattern-solid edge-thickness-normal edge-pattern-solid flowchart-link\" style=\"\" marker-end=\"url(#mermaid-2_flowchart-v2-pointEnd)\"></path><path d=\"M1367.323,29.745L1373.063,29.745C1378.803,29.745,1390.283,29.745,1398.893,30.854C1407.503,31.964,1413.243,34.183,1418.361,36.162C1423.479,38.141,1427.976,39.879,1430.224,40.748L1432.472,41.618\" id=\"L_NA_IT_7\" class=\" edge-thickness-normal edge-pattern-solid edge-thickness-normal edge-pattern-solid flowchart-link\" style=\"\" marker-end=\"url(#mermaid-2_flowchart-v2-pointEnd)\"></path><path d=\"M1436.203,73.174L1430.463,75.394C1424.723,77.613,1413.243,82.051,1383.413,84.27C1353.584,86.49,1305.404,86.49,1257.225,86.49C1209.046,86.49,1160.867,86.49,1121.996,86.49C1083.126,86.49,1053.564,86.49,1024.003,86.49C994.441,86.49,964.879,86.49,937.53,86.49C910.181,86.49,885.044,86.49,859.908,86.49C834.771,86.49,809.634,86.49,783.55,86.49C757.466,86.49,730.435,86.49,703.404,86.49C676.372,86.49,649.341,86.49,632.955,85.471C616.57,84.452,610.83,82.415,605.718,80.6C600.606,78.786,596.123,77.195,593.881,76.399L591.639,75.603\" id=\"L_IT_UA_8\" class=\" edge-thickness-normal edge-pattern-solid edge-thickness-normal edge-pattern-solid flowchart-link\" style=\"\" marker-end=\"url(#mermaid-2_flowchart-v2-pointEnd)\"></path><path d=\"M496.88,67.647L491.14,68.85C485.4,70.052,473.92,72.457,465.31,73.058C456.7,73.658,450.96,72.454,445.873,71.387C440.785,70.319,436.35,69.389,434.132,68.924L431.915,68.459\" id=\"L_UA_SE_9\" class=\" edge-thickness-normal edge-pattern-solid edge-thickness-normal edge-pattern-solid flowchart-link\" style=\"\" marker-end=\"url(#mermaid-2_flowchart-v2-pointEnd)\"></path></g><g class=\"edgeLabels\"><g class=\"edgeLabel\" transform=\"translate(145.6822910308838, 58.117186546325684)\"><g class=\"label\" transform=\"translate(-9.440103530883789, -6.744791507720947)\"><foreignObject width=\"18.880207061767578\" height=\"13.489583015441895\"><div xmlns=\"http://www.w3.org/1999/xhtml\" class=\"labelBkg\" style=\"display: table-cell; white-space: nowrap; line-height: 1.5; max-width: 200px; text-align: center;\"><span class=\"edgeLabel \"><p>2014</p></span></div></foreignObject></g></g><g class=\"edgeLabel\" transform=\"translate(302.7916622161865, 58.117186546325684)\"><g class=\"label\" transform=\"translate(-9.440103530883789, -6.744791507720947)\"><foreignObject width=\"18.880207061767578\" height=\"13.489583015441895\"><div xmlns=\"http://www.w3.org/1999/xhtml\" class=\"labelBkg\" style=\"display: table-cell; white-space: nowrap; line-height: 1.5; max-width: 200px; text-align: center;\"><span class=\"edgeLabel \"><p>2015</p></span></div></foreignObject></g></g><g class=\"edgeLabel\" transform=\"translate(462.44009590148926, 41.372395038604736)\"><g class=\"label\" transform=\"translate(-9.440103530883789, -6.744791507720947)\"><foreignObject width=\"18.880207061767578\" height=\"13.489583015441895\"><div xmlns=\"http://www.w3.org/1999/xhtml\" class=\"labelBkg\" style=\"display: table-cell; white-space: nowrap; line-height: 1.5; max-width: 200px; text-align: center;\"><span class=\"edgeLabel \"><p>2016</p></span></div></foreignObject></g></g><g class=\"edgeLabel\" transform=\"translate(622.3098812103271, 29.74479103088379)\"><g class=\"label\" transform=\"translate(-9.440103530883789, -6.744791507720947)\"><foreignObject width=\"18.880207061767578\" height=\"13.489583015441895\"><div xmlns=\"http://www.w3.org/1999/xhtml\" class=\"labelBkg\" style=\"display: table-cell; white-space: nowrap; line-height: 1.5; max-width: 200px; text-align: center;\"><span class=\"edgeLabel \"><p>2017</p></span></div></foreignObject></g></g><g class=\"edgeLabel\" transform=\"translate(784.4973773956299, 29.74479103088379)\"><g class=\"label\" transform=\"translate(-9.440103530883789, -6.744791507720947)\"><foreignObject width=\"18.880207061767578\" height=\"13.489583015441895\"><div xmlns=\"http://www.w3.org/1999/xhtml\" class=\"labelBkg\" style=\"display: table-cell; white-space: nowrap; line-height: 1.5; max-width: 200px; text-align: center;\"><span class=\"edgeLabel \"><p>2018</p></span></div></foreignObject></g></g><g class=\"edgeLabel\" transform=\"translate(935.3176860809326, 29.74479103088379)\"><g class=\"label\" transform=\"translate(-9.440103530883789, -6.744791507720947)\"><foreignObject width=\"18.880207061767578\" height=\"13.489583015441895\"><div xmlns=\"http://www.w3.org/1999/xhtml\" class=\"labelBkg\" style=\"display: table-cell; white-space: nowrap; line-height: 1.5; max-width: 200px; text-align: center;\"><span class=\"edgeLabel \"><p>2019</p></span></div></foreignObject></g></g><g class=\"edgeLabel\" transform=\"translate(1112.6874713897705, 29.74479103088379)\"><g class=\"label\" transform=\"translate(-9.440103530883789, -6.744791507720947)\"><foreignObject width=\"18.880207061767578\" height=\"13.489583015441895\"><div xmlns=\"http://www.w3.org/1999/xhtml\" class=\"labelBkg\" style=\"display: table-cell; white-space: nowrap; line-height: 1.5; max-width: 200px; text-align: center;\"><span class=\"edgeLabel \"><p>2020</p></span></div></foreignObject></g></g><g class=\"edgeLabel\" transform=\"translate(1401.7630062103271, 29.74479103088379)\"><g class=\"label\" transform=\"translate(-9.440103530883789, -6.744791507720947)\"><foreignObject width=\"18.880207061767578\" height=\"13.489583015441895\"><div xmlns=\"http://www.w3.org/1999/xhtml\" class=\"labelBkg\" style=\"display: table-cell; white-space: nowrap; line-height: 1.5; max-width: 200px; text-align: center;\"><span class=\"edgeLabel \"><p>2021</p></span></div></foreignObject></g></g><g class=\"edgeLabel\" transform=\"translate(935.3176860809326, 86.48958206176758)\"><g class=\"label\" transform=\"translate(-9.440103530883789, -6.744791507720947)\"><foreignObject width=\"18.880207061767578\" height=\"13.489583015441895\"><div xmlns=\"http://www.w3.org/1999/xhtml\" class=\"labelBkg\" style=\"display: table-cell; white-space: nowrap; line-height: 1.5; max-width: 200px; text-align: center;\"><span class=\"edgeLabel \"><p>2022</p></span></div></foreignObject></g></g><g class=\"edgeLabel\" transform=\"translate(462.44009590148926, 74.86197805404663)\"><g class=\"label\" transform=\"translate(-9.440103530883789, -6.744791507720947)\"><foreignObject width=\"18.880207061767578\" height=\"13.489583015441895\"><div xmlns=\"http://www.w3.org/1999/xhtml\" class=\"labelBkg\" style=\"display: table-cell; white-space: nowrap; line-height: 1.5; max-width: 200px; text-align: center;\"><span class=\"edgeLabel \"><p>2023</p></span></div></foreignObject></g></g></g><g class=\"nodes\"><g class=\"node default  \" id=\"flowchart-SE-30\" transform=\"translate(382.6158790588379, 58.117186546325684)\"><rect class=\"basic label-container\" style=\"\" x=\"-45.384114265441895\" y=\"-21.744791507720947\" width=\"90.76822853088379\" height=\"43.489583015441895\"></rect><g class=\"label\" style=\"\" transform=\"translate(-15.384114265441895, -6.744791507720947)\"><rect></rect><foreignObject width=\"30.76822853088379\" height=\"13.489583015441895\"><div xmlns=\"http://www.w3.org/1999/xhtml\" style=\"display: table-cell; white-space: nowrap; line-height: 1.5; max-width: 200px; text-align: center;\"><span class=\"nodeLabel \"><p>Sweden</p></span></div></foreignObject></g></g><g class=\"node default  \" id=\"flowchart-UA-31\" transform=\"translate(542.3749885559082, 58.117186546325684)\"><rect class=\"basic label-container\" style=\"\" x=\"-45.49479103088379\" y=\"-21.744791507720947\" width=\"90.98958206176758\" height=\"43.489583015441895\"></rect><g class=\"label\" style=\"\" transform=\"translate(-15.494791030883789, -6.744791507720947)\"><rect></rect><foreignObject width=\"30.989582061767578\" height=\"13.489583015441895\"><div xmlns=\"http://www.w3.org/1999/xhtml\" style=\"display: table-cell; white-space: nowrap; line-height: 1.5; max-width: 200px; text-align: center;\"><span class=\"nodeLabel \"><p>Ukraine</p></span></div></foreignObject></g></g><g class=\"node default  \" id=\"flowchart-IT-32\" transform=\"translate(1475.148422241211, 58.117186546325684)\"><rect class=\"basic label-container\" style=\"\" x=\"-38.9453125\" y=\"-21.744791507720947\" width=\"77.890625\" height=\"43.489583015441895\"></rect><g class=\"label\" style=\"\" transform=\"translate(-8.9453125, -6.744791507720947)\"><rect></rect><foreignObject width=\"17.890625\" height=\"13.489583015441895\"><div xmlns=\"http://www.w3.org/1999/xhtml\" style=\"display: table-cell; white-space: nowrap; line-height: 1.5; max-width: 200px; text-align: center;\"><span class=\"nodeLabel \"><p>Italy</p></span></div></foreignObject></g></g><g class=\"node default  \" id=\"flowchart-NL-33\" transform=\"translate(1024.0025787353516, 29.74479103088379)\"><rect class=\"basic label-container\" style=\"\" x=\"-54.24479103088379\" y=\"-21.744791507720947\" width=\"108.48958206176758\" height=\"43.489583015441895\"></rect><g class=\"label\" style=\"\" transform=\"translate(-24.24479103088379, -6.744791507720947)\"><rect></rect><foreignObject width=\"48.48958206176758\" height=\"13.489583015441895\"><div xmlns=\"http://www.w3.org/1999/xhtml\" style=\"display: table-cell; white-space: nowrap; line-height: 1.5; max-width: 200px; text-align: center;\"><span class=\"nodeLabel \"><p>Netherlands</p></span></div></foreignObject></g></g><g class=\"node default  \" id=\"flowchart-IL-34\" transform=\"translate(859.9075317382812, 29.74479103088379)\"><rect class=\"basic label-container\" style=\"\" x=\"-40.970051765441895\" y=\"-21.744791507720947\" width=\"81.94010353088379\" height=\"43.489583015441895\"></rect><g class=\"label\" style=\"\" transform=\"translate(-10.970051765441895, -6.744791507720947)\"><rect></rect><foreignObject width=\"21.94010353088379\" height=\"13.489583015441895\"><div xmlns=\"http://www.w3.org/1999/xhtml\" style=\"display: table-cell; white-space: nowrap; line-height: 1.5; max-width: 200px; text-align: center;\"><span class=\"nodeLabel \"><p>Israel</p></span></div></foreignObject></g></g><g class=\"node default  \" id=\"flowchart-PT-35\" transform=\"translate(703.4036293029785, 29.74479103088379)\"><rect class=\"basic label-container\" style=\"\" x=\"-46.65364456176758\" y=\"-21.744791507720947\" width=\"93.30728912353516\" height=\"43.489583015441895\"></rect><g class=\"label\" style=\"\" transform=\"translate(-16.653644561767578, -6.744791507720947)\"><rect></rect><foreignObject width=\"33.307289123535156\" height=\"13.489583015441895\"><div xmlns=\"http://www.w3.org/1999/xhtml\" style=\"display: table-cell; white-space: nowrap; line-height: 1.5; max-width: 200px; text-align: center;\"><span class=\"nodeLabel \"><p>Portugal</p></span></div></foreignObject></g></g><g class=\"node default  \" id=\"flowchart-AT-36\" transform=\"translate(224.23697662353516, 58.117186546325684)\"><rect class=\"basic label-container\" style=\"\" x=\"-44.114583015441895\" y=\"-21.744791507720947\" width=\"88.22916603088379\" height=\"43.489583015441895\"></rect><g class=\"label\" style=\"\" transform=\"translate(-14.114583015441895, -6.744791507720947)\"><rect></rect><foreignObject width=\"28.22916603088379\" height=\"13.489583015441895\"><div xmlns=\"http://www.w3.org/1999/xhtml\" style=\"display: table-cell; white-space: nowrap; line-height: 1.5; max-width: 200px; text-align: center;\"><span class=\"nodeLabel \"><p>Austria</p></span></div></foreignObject></g></g><g class=\"node default  \" id=\"flowchart-DK-37\" transform=\"translate(59.62109375, 58.117186546325684)\"><rect class=\"basic label-container\" style=\"\" x=\"-47.78645706176758\" y=\"-21.744791507720947\" width=\"95.57291412353516\" height=\"43.489583015441895\"></rect><g class=\"label\" style=\"\" transform=\"translate(-17.786457061767578, -6.744791507720947)\"><rect></rect><foreignObject width=\"35.572914123535156\" height=\"13.489583015441895\"><div xmlns=\"http://www.w3.org/1999/xhtml\" style=\"display: table-cell; white-space: nowrap; line-height: 1.5; max-width: 200px; text-align: center;\"><span class=\"nodeLabel \"><p>Denmark</p></span></div></foreignObject></g></g><g class=\"node default  \" id=\"flowchart-AZ-38\" transform=\"translate(59.62109375, 151.60676860809326)\"><rect class=\"basic label-container\" style=\"\" x=\"-51.62109565734863\" y=\"-21.744791507720947\" width=\"103.24219131469727\" height=\"43.489583015441895\"></rect><g class=\"label\" style=\"\" transform=\"translate(-21.621095657348633, -6.744791507720947)\"><rect></rect><foreignObject width=\"43.242191314697266\" height=\"13.489583015441895\"><div xmlns=\"http://www.w3.org/1999/xhtml\" style=\"display: table-cell; white-space: nowrap; line-height: 1.5; max-width: 200px; text-align: center;\"><span class=\"nodeLabel \"><p>Azerbaijan</p></span></div></foreignObject></g></g><g class=\"node default  \" id=\"flowchart-NA-39\" transform=\"translate(1257.2252388000488, 29.74479103088379)\"><rect class=\"basic label-container\" style=\"\" x=\"-110.09766387939453\" y=\"-21.744791507720947\" width=\"220.19532775878906\" height=\"43.489583015441895\"></rect><g class=\"label\" style=\"\" transform=\"translate(-80.09766387939453, -6.744791507720947)\"><rect></rect><foreignObject width=\"160.19532775878906\" height=\"13.489583015441895\"><div xmlns=\"http://www.w3.org/1999/xhtml\" style=\"display: table-cell; white-space: nowrap; line-height: 1.5; max-width: 200px; text-align: center;\"><span class=\"nodeLabel \"><p>N/A: Contest canceled due to COVID-19</p></span></div></foreignObject></g></g></g></g></g></svg>\n",
       "</div></div></div>"
      ]
     },
     "metadata": {},
     "output_type": "display_data"
    },
    {
     "data": {
      "text/html": [
       "<details class=\"dni-treeview\"><summary><span class=\"dni-code-hint\"><code>{ result = Ok (Stop, { created = 10/20/2024 10:30:15 PM\\n                       requestedModel = &quot;gpt-4o&quot;\\n                       actualModel = &quot;gpt-4o-2024-08-06&quot;\\n                       fingerprint = Some &quot;fp_a7d06e42a7&quot;\\n                       nTokens = 189\\n                       durationMs = 21...</code></span></summary><div><table><thead><tr></tr></thead><tbody><tr><td>result</td><td><details class=\"dni-treeview\"><summary><span class=\"dni-code-hint\"><code>Microsoft.FSharp.Core.FSharpResult`2[System.Tuple`2[FsChat.Types+FinishReason,FsChat.Types+GptStats],System.String]</code></span></summary><div><table><thead><tr></tr></thead><tbody><tr><td>ResultValue</td><td><details class=\"dni-treeview\"><summary><span class=\"dni-code-hint\"><code>(Stop, { created = 10/20/2024 10:30:15 PM\\n  requestedModel = &quot;gpt-4o&quot;\\n  actualModel = &quot;gpt-4o-2024-08-06&quot;\\n  fingerprint = Some &quot;fp_a7d06e42a7&quot;\\n  nTokens = 189\\n  durationMs = 2190 })</code></span></summary><div><table><thead><tr></tr></thead><tbody><tr><td>Item1</td><td><details class=\"dni-treeview\"><summary><span class=\"dni-code-hint\"><code>Stop</code></span></summary><div><table><thead><tr></tr></thead><tbody></tbody></table></div></details></td></tr><tr><td>Item2</td><td><details class=\"dni-treeview\"><summary><span class=\"dni-code-hint\"><code>{ created = 10/20/2024 10:30:15 PM\\n  requestedModel = &quot;gpt-4o&quot;\\n  actualModel = &quot;gpt-4o-2024-08-06&quot;\\n  fingerprint = Some &quot;fp_a7d06e42a7&quot;\\n  nTokens = 189\\n  durationMs = 2190 }</code></span></summary><div><table><thead><tr></tr></thead><tbody><tr><td>created</td><td><span>2024-10-20 22:30:15Z</span></td></tr><tr><td>requestedModel</td><td><div class=\"dni-plaintext\"><pre>gpt-4o</pre></div></td></tr><tr><td>actualModel</td><td><div class=\"dni-plaintext\"><pre>gpt-4o-2024-08-06</pre></div></td></tr><tr><td>fingerprint</td><td><details class=\"dni-treeview\"><summary><span class=\"dni-code-hint\"><code>Some(fp_a7d06e42a7)</code></span></summary><div><table><thead><tr></tr></thead><tbody><tr><td>Value</td><td><div class=\"dni-plaintext\"><pre>fp_a7d06e42a7</pre></div></td></tr></tbody></table></div></details></td></tr><tr><td>nTokens</td><td><div class=\"dni-plaintext\"><pre>189</pre></div></td></tr><tr><td>durationMs</td><td><div class=\"dni-plaintext\"><pre>2190</pre></div></td></tr></tbody></table></div></details></td></tr></tbody></table></div></details></td></tr><tr><td>ErrorValue</td><td><div class=\"dni-plaintext\"><pre>&lt;null&gt;</pre></div></td></tr></tbody></table></div></details></td></tr><tr><td>text</td><td><div class=\"dni-plaintext\"><pre>```mermaid\n",
       "%%{init: {&#39;theme&#39;: &#39;default&#39;, &#39;themeVariables&#39;: { &#39;fontSize&#39;: &#39;9px&#39; }}}%%\n",
       "graph LR\n",
       "    SE[Sweden]\n",
       "    UA[Ukraine]\n",
       "    IT[Italy]\n",
       "    NL[Netherlands]\n",
       "    IL[Israel]\n",
       "    PT[Portugal]\n",
       "    AT[Austria]\n",
       "    DK[Denmark]\n",
       "    AZ[Azerbaijan]\n",
       "    NA[N/A: Contest canceled due to COVID-19]\n",
       "\n",
       "    DK --&gt;|2014| AT\n",
       "    AT --&gt;|2015| SE\n",
       "    SE --&gt;|2016| UA\n",
       "    UA --&gt;|2017| PT\n",
       "    PT --&gt;|2018| IL\n",
       "    IL --&gt;|2019| NL\n",
       "    NL --&gt;|2020| NA\n",
       "    NA --&gt;|2021| IT\n",
       "    IT --&gt;|2022| UA\n",
       "    UA --&gt;|2023| SE\n",
       "```</pre></div></td></tr></tbody></table></div></details><style>\r\n",
       ".dni-code-hint {\r\n",
       "    font-style: italic;\r\n",
       "    overflow: hidden;\r\n",
       "    white-space: nowrap;\r\n",
       "}\r\n",
       ".dni-treeview {\r\n",
       "    white-space: nowrap;\r\n",
       "}\r\n",
       ".dni-treeview td {\r\n",
       "    vertical-align: top;\r\n",
       "    text-align: start;\r\n",
       "}\r\n",
       "details.dni-treeview {\r\n",
       "    padding-left: 1em;\r\n",
       "}\r\n",
       "table td {\r\n",
       "    text-align: start;\r\n",
       "}\r\n",
       "table tr { \r\n",
       "    vertical-align: top; \r\n",
       "    margin: 0em 0px;\r\n",
       "}\r\n",
       "table tr td pre \r\n",
       "{ \r\n",
       "    vertical-align: top !important; \r\n",
       "    margin: 0em 0px !important;\r\n",
       "} \r\n",
       "table th {\r\n",
       "    text-align: start;\r\n",
       "}\r\n",
       "</style>"
      ]
     },
     "metadata": {},
     "output_type": "display_data"
    }
   ],
   "source": [
    "chat.model <- OpenAI.gpt4o // switch to amore powerful model for this task\n",
    "chat.send \"\"\"\n",
    "Given the above table, render a Mermaid directed graph with:\n",
    "- nodes: countries that won the contest (labeled with country name)\n",
    "- edges: time sequence of wins representing how the 'trophy' moved from one country to another (labeled with year)\n",
    "\n",
    "Example:\n",
    "\n",
    "```mermaid\n",
    "%%{init: {'theme': 'default', 'themeVariables': { 'fontSize': '9px' }}}%%\n",
    "graph LR\n",
    "    DK[Denmark]\n",
    "    AT[Austria]\n",
    "    DK -->|2014| AT\n",
    "```\n",
    "(include theme settings when rendering mermaid code)\n",
    "\n",
    "Any N/A node should be assigned country code NA and labeled `N/A: ${reason explanation}`\n",
    "\n",
    "Make sure each country appears exactly once in the graph:\n",
    "If a country won the competition multiple times, the country's node should have multiple incoming and outgoing edges.\n",
    "\"\"\""
   ]
  },
  {
   "cell_type": "code",
   "execution_count": 5,
   "metadata": {
    "dotnet_interactive": {
     "language": "fsharp"
    },
    "polyglot_notebook": {
     "kernelName": "fsharp"
    }
   },
   "outputs": [
    {
     "data": {
      "text/html": [
       "<div class='chat-response md-blk'><div ><pre><code class=\"hljs language-json\"><span class=\"hljs-punctuation\">[</span>\n",
       "    <span class=\"hljs-punctuation\">{</span>\n",
       "        <span class=\"hljs-attr\">&quot;name&quot;</span><span class=\"hljs-punctuation\">:</span> <span class=\"hljs-string\">&quot;Luke Skywalker&quot;</span><span class=\"hljs-punctuation\">,</span>\n",
       "        <span class=\"hljs-attr\">&quot;species&quot;</span><span class=\"hljs-punctuation\">:</span> <span class=\"hljs-string\">&quot;Human&quot;</span><span class=\"hljs-punctuation\">,</span>\n",
       "        <span class=\"hljs-attr\">&quot;homeworld&quot;</span><span class=\"hljs-punctuation\">:</span> <span class=\"hljs-string\">&quot;Tatooine&quot;</span><span class=\"hljs-punctuation\">,</span>\n",
       "        <span class=\"hljs-attr\">&quot;affiliation&quot;</span><span class=\"hljs-punctuation\">:</span> <span class=\"hljs-string\">&quot;Rebel Alliance&quot;</span><span class=\"hljs-punctuation\">,</span>\n",
       "        <span class=\"hljs-attr\">&quot;lightsaber_color&quot;</span><span class=\"hljs-punctuation\">:</span> <span class=\"hljs-string\">&quot;Blue&quot;</span>\n",
       "    <span class=\"hljs-punctuation\">}</span><span class=\"hljs-punctuation\">,</span>\n",
       "    <span class=\"hljs-punctuation\">{</span>\n",
       "        <span class=\"hljs-attr\">&quot;name&quot;</span><span class=\"hljs-punctuation\">:</span> <span class=\"hljs-string\">&quot;Darth Vader&quot;</span><span class=\"hljs-punctuation\">,</span>\n",
       "        <span class=\"hljs-attr\">&quot;species&quot;</span><span class=\"hljs-punctuation\">:</span> <span class=\"hljs-string\">&quot;Human&quot;</span><span class=\"hljs-punctuation\">,</span>\n",
       "        <span class=\"hljs-attr\">&quot;homeworld&quot;</span><span class=\"hljs-punctuation\">:</span> <span class=\"hljs-string\">&quot;Tatooine&quot;</span><span class=\"hljs-punctuation\">,</span>\n",
       "        <span class=\"hljs-attr\">&quot;affiliation&quot;</span><span class=\"hljs-punctuation\">:</span> <span class=\"hljs-string\">&quot;Galactic Empire&quot;</span><span class=\"hljs-punctuation\">,</span>\n",
       "        <span class=\"hljs-attr\">&quot;lightsaber_color&quot;</span><span class=\"hljs-punctuation\">:</span> <span class=\"hljs-string\">&quot;Red&quot;</span>\n",
       "    <span class=\"hljs-punctuation\">}</span>\n",
       "<span class=\"hljs-punctuation\">]</span>\n",
       "</code></pre>\n",
       "</div></div>"
      ]
     },
     "metadata": {},
     "output_type": "display_data"
    }
   ],
   "source": [
    "let jsonR = chat.send \"render some sample json document (e.g. two starwars characters) wrapped in markdown json code wrapper.\""
   ]
  },
  {
   "cell_type": "code",
   "execution_count": null,
   "metadata": {
    "dotnet_interactive": {
     "language": "fsharp"
    },
    "polyglot_notebook": {
     "kernelName": "fsharp"
    }
   },
   "outputs": [
    {
     "data": {
      "text/html": [
       "<details class=\"dni-treeview\"><summary><span class=\"dni-code-hint\"><code>{ result = Ok (Stop, { created = 10/20/2024 10:30:21 PM\\n                       requestedModel = &quot;gpt-4o&quot;\\n                       actualModel = &quot;gpt-4o-2024-08-06&quot;\\n                       fingerprint = Some &quot;fp_a7d06e42a7&quot;\\n                       nTokens = 105\\n                       durationMs = 30...</code></span></summary><div><table><thead><tr></tr></thead><tbody><tr><td>result</td><td><details class=\"dni-treeview\"><summary><span class=\"dni-code-hint\"><code>Microsoft.FSharp.Core.FSharpResult`2[System.Tuple`2[FsChat.Types+FinishReason,FsChat.Types+GptStats],System.String]</code></span></summary><div><table><thead><tr></tr></thead><tbody><tr><td>ResultValue</td><td><details class=\"dni-treeview\"><summary><span class=\"dni-code-hint\"><code>(Stop, { created = 10/20/2024 10:30:21 PM\\n  requestedModel = &quot;gpt-4o&quot;\\n  actualModel = &quot;gpt-4o-2024-08-06&quot;\\n  fingerprint = Some &quot;fp_a7d06e42a7&quot;\\n  nTokens = 105\\n  durationMs = 3004 })</code></span></summary><div><table><thead><tr></tr></thead><tbody><tr><td>Item1</td><td><details class=\"dni-treeview\"><summary><span class=\"dni-code-hint\"><code>Stop</code></span></summary><div><table><thead><tr></tr></thead><tbody></tbody></table></div></details></td></tr><tr><td>Item2</td><td><details class=\"dni-treeview\"><summary><span class=\"dni-code-hint\"><code>{ created = 10/20/2024 10:30:21 PM\\n  requestedModel = &quot;gpt-4o&quot;\\n  actualModel = &quot;gpt-4o-2024-08-06&quot;\\n  fingerprint = Some &quot;fp_a7d06e42a7&quot;\\n  nTokens = 105\\n  durationMs = 3004 }</code></span></summary><div><table><thead><tr></tr></thead><tbody><tr><td>created</td><td><span>2024-10-20 22:30:21Z</span></td></tr><tr><td>requestedModel</td><td><div class=\"dni-plaintext\"><pre>gpt-4o</pre></div></td></tr><tr><td>actualModel</td><td><div class=\"dni-plaintext\"><pre>gpt-4o-2024-08-06</pre></div></td></tr><tr><td>fingerprint</td><td><details class=\"dni-treeview\"><summary><span class=\"dni-code-hint\"><code>Some(fp_a7d06e42a7)</code></span></summary><div><table><thead><tr></tr></thead><tbody><tr><td>Value</td><td><div class=\"dni-plaintext\"><pre>fp_a7d06e42a7</pre></div></td></tr></tbody></table></div></details></td></tr><tr><td>nTokens</td><td><div class=\"dni-plaintext\"><pre>105</pre></div></td></tr><tr><td>durationMs</td><td><div class=\"dni-plaintext\"><pre>3004</pre></div></td></tr></tbody></table></div></details></td></tr></tbody></table></div></details></td></tr><tr><td>ErrorValue</td><td><div class=\"dni-plaintext\"><pre>&lt;null&gt;</pre></div></td></tr></tbody></table></div></details></td></tr><tr><td>text</td><td><div class=\"dni-plaintext\"><pre>```json\n",
       "[\n",
       "    {\n",
       "        &quot;name&quot;: &quot;Luke Skywalker&quot;,\n",
       "        &quot;species&quot;: &quot;Human&quot;,\n",
       "        &quot;homeworld&quot;: &quot;Tatooine&quot;,\n",
       "        &quot;affiliation&quot;: &quot;Rebel Alliance&quot;,\n",
       "        &quot;lightsaber_color&quot;: &quot;Blue&quot;\n",
       "    },\n",
       "    {\n",
       "        &quot;name&quot;: &quot;Darth Vader&quot;,\n",
       "        &quot;species&quot;: &quot;Human&quot;,\n",
       "        &quot;homeworld&quot;: &quot;Tatooine&quot;,\n",
       "        &quot;affiliation&quot;: &quot;Galactic Empire&quot;,\n",
       "        &quot;lightsaber_color&quot;: &quot;Red&quot;\n",
       "    }\n",
       "]\n",
       "```</pre></div></td></tr></tbody></table></div></details><style>\r\n",
       ".dni-code-hint {\r\n",
       "    font-style: italic;\r\n",
       "    overflow: hidden;\r\n",
       "    white-space: nowrap;\r\n",
       "}\r\n",
       ".dni-treeview {\r\n",
       "    white-space: nowrap;\r\n",
       "}\r\n",
       ".dni-treeview td {\r\n",
       "    vertical-align: top;\r\n",
       "    text-align: start;\r\n",
       "}\r\n",
       "details.dni-treeview {\r\n",
       "    padding-left: 1em;\r\n",
       "}\r\n",
       "table td {\r\n",
       "    text-align: start;\r\n",
       "}\r\n",
       "table tr { \r\n",
       "    vertical-align: top; \r\n",
       "    margin: 0em 0px;\r\n",
       "}\r\n",
       "table tr td pre \r\n",
       "{ \r\n",
       "    vertical-align: top !important; \r\n",
       "    margin: 0em 0px !important;\r\n",
       "} \r\n",
       "table th {\r\n",
       "    text-align: start;\r\n",
       "}\r\n",
       "</style>"
      ]
     },
     "metadata": {},
     "output_type": "display_data"
    }
   ],
   "source": [
    "jsonR"
   ]
  },
  {
   "cell_type": "code",
   "execution_count": null,
   "metadata": {
    "dotnet_interactive": {
     "language": "csharp"
    },
    "polyglot_notebook": {
     "kernelName": "csharp"
    }
   },
   "outputs": [],
   "source": []
  }
 ],
 "metadata": {
  "kernelspec": {
   "display_name": ".NET (C#)",
   "language": "C#",
   "name": ".net-csharp"
  },
  "polyglot_notebook": {
   "kernelInfo": {
    "defaultKernelName": "csharp",
    "items": [
     {
      "aliases": [],
      "name": "csharp"
     },
     {
      "aliases": [],
      "languageName": "fsharp",
      "name": "fsharp"
     },
     {
      "aliases": [
       "js"
      ],
      "languageName": "JavaScript",
      "name": "javascript"
     }
    ]
   }
  }
 },
 "nbformat": 4,
 "nbformat_minor": 2
}
